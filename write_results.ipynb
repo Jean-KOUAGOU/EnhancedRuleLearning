{
 "cells": [
  {
   "cell_type": "markdown",
   "id": "widespread-helicopter",
   "metadata": {},
   "source": [
    "Extracting and comparing the generated rules "
   ]
  },
  {
   "cell_type": "code",
   "execution_count": 19,
   "id": "olympic-encounter",
   "metadata": {},
   "outputs": [],
   "source": [
    "def maybe_replace_variable(rule):\n",
    "    all_variables = [\"?a\", \"?b\", \"?g\", \"?h\"]\n",
    "    for var1 in all_variables[::-1]:\n",
    "        if var1 in rule:\n",
    "            for var2 in all_variables:\n",
    "                if not var2 in rule:\n",
    "                    rule = rule.replace(var1, var2)\n",
    "                    break\n",
    "                if var2 >= var1:\n",
    "                    break\n",
    "    return rule"
   ]
  },
  {
   "cell_type": "code",
   "execution_count": 20,
   "id": "sharp-myanmar",
   "metadata": {},
   "outputs": [],
   "source": [
    "def compare_rules_amie(rules_before, rules_after):\n",
    "    with open(rules_before) as file:\n",
    "        Rules_1 = file.read().strip().split('\\n')\n",
    "    with open(rules_after) as file:\n",
    "        Rules_2 = file.read().strip().split('\\n')\n",
    "    rules_1 = list(filter(lambda x: x.startswith(\"?\"), Rules_1))\n",
    "    rules_2 = list(filter(lambda x: x.startswith(\"?\"), Rules_2))\n",
    "    rules_1 = list(map(maybe_replace_variable, rules_1))\n",
    "    rules_2 = list(map(maybe_replace_variable, rules_2))\n",
    "    Rules_1 = set(map(lambda x: x.split('\\t')[0], rules_1))\n",
    "    Rules_2 = set(map(lambda x: x.split('\\t')[0], rules_2))\n",
    "    \n",
    "    new_rules = Rules_2-Rules_1\n",
    "    dropped_rules = Rules_1-Rules_2\n",
    "    \n",
    "    same_rules = Rules_1.intersection(Rules_2)\n",
    "    \n",
    "    new_rules = sorted(filter(lambda x: x.split('\\t')[0] in new_rules, rules_2),key=lambda t: float(t.split('\\t')[3]), reverse=True)\n",
    "    dropped_rules = sorted(filter(lambda x: x.split('\\t')[0] in dropped_rules, rules_1),key=lambda t: float(t.split('\\t')[3]), reverse=True)\n",
    "    same_rules_1 = sorted(filter(lambda x: x.split('\\t')[0] in same_rules, rules_1),key=lambda t: float(t.split('\\t')[3]), reverse=True)\n",
    "    same_rules_2 = sorted(filter(lambda x: x.split('\\t')[0] in same_rules, rules_2),key=lambda t: float(t.split('\\t')[3]), reverse=True)\n",
    "    rules_1 = sorted(rules_1, key=lambda t: float(t.split('\\t')[3]), reverse=True)\n",
    "    rules_2 = sorted(rules_2, key=lambda t: float(t.split('\\t')[3]), reverse=True)\n",
    "    \n",
    "    return same_rules_1, same_rules_2, rules_1, rules_2, new_rules, dropped_rules"
   ]
  },
  {
   "cell_type": "code",
   "execution_count": null,
   "id": "instructional-yellow",
   "metadata": {},
   "outputs": [],
   "source": []
  },
  {
   "cell_type": "markdown",
   "id": "intelligent-football",
   "metadata": {},
   "source": [
    "Writing the statistics of the generated rules into a file (latex table)."
   ]
  },
  {
   "cell_type": "code",
   "execution_count": 21,
   "id": "possible-government",
   "metadata": {},
   "outputs": [],
   "source": [
    "def write_rule_statistics(approach=\"TransAMIE\"):\n",
    "    begin_table = \"\\\\begin{table*}[h]\\n\\caption{Counts of rules generated on each knowledge graph}\\n\\label{tab:generated}\\n\\\\resizebox{\\\\textwidth}{!}{\\\\begin{tabular}{|l|r|r|r|r|r|}\\n \\hline \\n\"\n",
    "    table_head = \"\\multicolumn{6}{|c|}{Topk = 50} \\\\\\\\ \\n\\hline \\n\\multicolumn{1}{|c|}{Dataset} & \\multicolumn{1}{c|}{\\#Rules Before} & \\multicolumn{1}{c|}{\\#Rules After} & \\multicolumn{1}{c|}{\\#New Rules} & \\multicolumn{1}{c|}{\\#Dropped Rules} & \\multicolumn{1}{c|}{\\#Same Rules} \\\\\\\\ \\n \\hline \\n\"\n",
    "    table = begin_table\n",
    "    for topk in [50, 500, 5000]:\n",
    "        if topk == 500:\n",
    "            table_head = \"\\multicolumn{6}{|c|}{Topk = 500} \\\\\\\\ \\n\" + \"\\hline \\n\"\n",
    "        if topk == 5000:\n",
    "            table_head = \"\\multicolumn{6}{|c|}{Topk = 5000} \\\\\\\\ \\n\" + \"\\hline \\n\"\n",
    "        table += table_head\n",
    "        for kg in ['wn18rr', 'carcinogenesis', 'mutagenesis', 'fb15k', 'yago3', 'drkg', 'openbiolink']:\n",
    "            all_rules = compare_rules_amie(f\"data/AMIE/rules_{kg}/rules.txt\", f\"data/{approach}/rules_{kg}/rules_top{topk}.txt\")\n",
    "            if kg == \"yago3\":\n",
    "                kg_name = kg.upper()+\"-10\"\n",
    "            elif kg == \"fb15k\":\n",
    "                kg_name = kg.upper()+\"-237\"\n",
    "            else:\n",
    "                kg_name = kg.upper()\n",
    "            table += f\"{kg_name}  & {len(all_rules[2])} & {len(all_rules[3])} & {len(all_rules[-2])} & {len(all_rules[-1])} & {len(all_rules[0])}\\\\\\\\ \\n\\hline \\n\"\n",
    "    table += \"\\end{tabular}}\\n\\end{table*}\"\n",
    "    with open(f\"data/{approach}/rules_statistics_table.txt\", \"w\") as file:\n",
    "        file.write(table)"
   ]
  },
  {
   "cell_type": "code",
   "execution_count": 22,
   "id": "ambient-weapon",
   "metadata": {},
   "outputs": [],
   "source": [
    "write_rule_statistics()"
   ]
  },
  {
   "cell_type": "code",
   "execution_count": 23,
   "id": "acting-forge",
   "metadata": {},
   "outputs": [],
   "source": [
    "write_rule_statistics(\"DistAMIE\")"
   ]
  },
  {
   "cell_type": "code",
   "execution_count": 24,
   "id": "reserved-translator",
   "metadata": {},
   "outputs": [],
   "source": [
    "write_rule_statistics(\"RotAMIE\")"
   ]
  },
  {
   "cell_type": "code",
   "execution_count": null,
   "id": "persistent-toyota",
   "metadata": {},
   "outputs": [],
   "source": []
  },
  {
   "cell_type": "markdown",
   "id": "simplified-description",
   "metadata": {},
   "source": [
    "### Confidence scores"
   ]
  },
  {
   "cell_type": "markdown",
   "id": "saved-banks",
   "metadata": {},
   "source": [
    "Table template"
   ]
  },
  {
   "cell_type": "markdown",
   "id": "finished-failing",
   "metadata": {},
   "source": [
    "\\begin{table*}[h]\n",
    "\\caption{Average confidence scores}\n",
    "\\label{tab:confidence}\n",
    " \\resizebox{\\textwidth}{!}{\\begin{tabular}{|l|cc|cc|cc|cc|cc|}\n",
    "\\hline\n",
    "\\multicolumn{11}{|c|}{Topk = 50} \\\\ \n",
    "\\hline\n",
    "\\multirow{2}{*}{Dataset} & \\multicolumn{2}{c|}{\\textbf{Rules before}}           & \\multicolumn{2}{c|}{\\textbf{Rules after}} & \\multicolumn{2}{c|}{\\textbf{New rules}}    & \\multicolumn{2}{c|}{\\textbf{Dropped rules}}  & \\multicolumn{2}{c|}{\\textbf{Same rules}} \\\\ \\cline{2-11} \n",
    "& \\multicolumn{1}{p{1.5cm}}{\\centering Std.\\\\ conf.}    & \\multicolumn{1}{p{1.5cm}|} {\\centering PCA \\\\ conf. }  & \\multicolumn{1}{p{1.5cm}}{\\centering Std. \\\\ conf.} & \\multicolumn{1}{p{1.5cm}|}{\\centering PCA \\\\ conf.}  & \\multicolumn{1}{p{1.5cm}}{\\centering Std.\\\\  conf.} & \\multicolumn{1}{p{1.5cm}|} {\\centering PCA \\\\  conf.}  & \\multicolumn{1}{p{1.5cm}}{\\centering Std. \\\\  conf.} & \\multicolumn{1}{p{1.5cm}|}{\\centering PCA \\\\ conf.} & \\multicolumn{1}{p{1.5cm}}{\\centering Std. \\\\  conf.} & \\multicolumn{1}{p{1.5cm}|}{\\centering PCA \\\\ conf.} \\\\ \\hline\n",
    "WN18RR  & 0.247  & 0.487     & \\textbf{0.541} & \\textbf{0.778} & \\textbf{0.655} & \\textbf{0.888} & 0.158      & 0.406     & 0.284 & 0.520  \\\\ \n",
    "\\hline\n",
    "CARCINOGENESIS  & \\textbf{0.516} & \\textbf{0.738} & 0.445 & 0.695  & 0.415 & 0.681   & 0.528  & 0.754  & 0.513  & 0.733     \\\\ \\hline\n",
    "MUTAGENESIS  & 0.437 & 0.543 & \\textbf{0.473} & \\textbf{0.553} & \\textbf{0.473} & \\textbf{0.563} & {–}  & – & 0.437  & 0.543 \\\\ \\hline\n",
    "FB15K-237   & \\textbf{0.307} & \\textbf{0.563} & 0.271  & 0.563  & 0.152  & 0.546  & – & –  & 0.307  & 0.563     \\\\ \\hline\n",
    "YAGO3-10 & 0.192 & 0.324 & \\textbf{0.601} & \\textbf{0.671} & \\textbf{0.858} & \\textbf{0.888} & 0.148 & 0.290  & 0.236  & 0.360     \\\\ \\hline\n",
    "DRKG & 0.170  & \\textbf{0.289} & \\textbf{0.172} & 0.287  & 0.147 & 0.271  & 0.143 & 0.273     & 0.201 & 0.308 \\\\ \\hline\n",
    "OPENBIOLINK & 0.280 & 0.317 & \\textbf{0.291} & \\textbf{0.335} & \\textbf{0.580} & \\textbf{0.650} & 0.216 & 0.248  & 0.306 & 0.344     \\\\ \\hline\n",
    "\\end{tabular}}\n",
    "\\end{table*}"
   ]
  },
  {
   "cell_type": "code",
   "execution_count": null,
   "id": "genuine-candle",
   "metadata": {},
   "outputs": [],
   "source": []
  },
  {
   "cell_type": "markdown",
   "id": "persistent-flashing",
   "metadata": {},
   "source": [
    "Reading and extracting the confidence scores of the generated rules "
   ]
  },
  {
   "cell_type": "code",
   "execution_count": 25,
   "id": "characteristic-locking",
   "metadata": {},
   "outputs": [],
   "source": [
    "def extract_confidence(rules: list):\n",
    "    try:\n",
    "        pca_conf = round(sum(list(map(lambda x: float(x.split('\\t')[3]), rules)))/len(rules), 2)\n",
    "        std_conf = round(sum(list(map(lambda x: float(x.split('\\t')[2]), rules)))/len(rules), 2)\n",
    "    except ZeroDivisionError:\n",
    "        return \"-\", \"-\"\n",
    "    return std_conf, pca_conf"
   ]
  },
  {
   "cell_type": "code",
   "execution_count": 26,
   "id": "informational-english",
   "metadata": {},
   "outputs": [],
   "source": [
    "def write_avg_confidence(approach=\"TransAMIE\"):\n",
    "    begin_table = \"\\\\begin{table*}[h]\\n\\caption{Average confidence scores}\\n\\label{tab:confidence}\\n\\\\resizebox{\\\\textwidth}{!}{\\\\begin{tabular}{|l|cc|cc|cc|cc|cc|}\\n \\hline \\multicolumn{11}{|c|}{Topk = 50} \\\\\\\\ \\hline \\n\"\n",
    "    table_head = \" \\multirow{2}{*}{Dataset} & \\multicolumn{2}{c|}{\\\\textbf{Rules before}} & \\multicolumn{2}{c|}{\\\\textbf{Rules after}} & \\multicolumn{2}{c|}{\\\\textbf{New rules}}    & \\multicolumn{2}{c|}{\\\\textbf{Dropped rules}}\" + \\\n",
    "    \"& \\multicolumn{2}{c|}{\\\\textbf{Same rules}} \\\\\\\\ \\cline{2-11} & \\multicolumn{1}{p{1.5cm}}{\\centering Std.\\\\ conf.}    & \\multicolumn{1}{p{1.5cm}|} {\\centering PCA \\\\ conf. }  & \\multicolumn{1}{p{1.5cm}}{\\centering Std. \\\\ conf.}\" + \\\n",
    "    \"& \\multicolumn{1}{p{1.5cm}|}{\\centering PCA \\\\ conf.}  & \\multicolumn{1}{p{1.5cm}}{\\centering Std.\\\\  conf.} & \\multicolumn{1}{p{1.5cm}|} {\\centering PCA \\\\  conf.}  & \\multicolumn{1}{p{1.5cm}}{\\centering Std. \\\\  conf.} &\" + \\\n",
    "    \"\\multicolumn{1}{p{1.5cm}|}{\\centering PCA \\\\ conf.} & \\multicolumn{1}{p{1.5cm}}{\\centering Std. \\\\  conf.} & \\multicolumn{1}{p{1.5cm}|}{\\centering PCA \\\\ conf.} \\\\\\\\ \\n\\hline\\n\"\n",
    "    table = begin_table\n",
    "    for topk in [50, 500, 5000]:\n",
    "        if topk == 500:\n",
    "            table_head = \"\\multicolumn{11}{|c|}{Topk = 500} \\\\\\\\ \\n\"+ \"\\hline \\n\"\n",
    "        if topk == 5000:\n",
    "            table_head = \"\\multicolumn{11}{|c|}{Topk = 5000} \\\\\\\\ \\n\" + \"\\hline \\n\"\n",
    "        table += table_head\n",
    "        for kg in ['wn18rr', 'carcinogenesis', 'mutagenesis', 'fb15k', 'yago3', 'drkg', 'openbiolink']:\n",
    "            same_rules, _, rules_before, rules_after, new_rules, dropped_rules = compare_rules_amie(f\"data/AMIE/rules_{kg}/rules.txt\", f\"data/{approach}/rules_{kg}/rules_top{topk}.txt\")\n",
    "            if kg == \"yago3\":\n",
    "                kg_name = kg.upper()+\"-10\"\n",
    "            elif kg == \"fb15k\":\n",
    "                kg_name = kg.upper()+\"-237\"\n",
    "            else:\n",
    "                kg_name = kg.upper()\n",
    "            table += f\"{kg_name} \"\n",
    "            for rule in [rules_before, rules_after, new_rules, dropped_rules, same_rules]:\n",
    "                std_conf, pca_conf = extract_confidence(rule)\n",
    "                if 2<len(str(std_conf))<4:\n",
    "                    std_conf = str(std_conf)+\"0\"\n",
    "                if 2<len(str(pca_conf))<4:\n",
    "                    pca_conf = str(pca_conf)+\"0\"\n",
    "                table += f\"& {std_conf} & {pca_conf} \"\n",
    "            table += \"\\\\\\\\ \\n\\hline \\n\"\n",
    "    table += \"\\end{tabular}}\\n\\end{table*}\"\n",
    "    with open(f\"data/{approach}/confidence_table.txt\", \"w\") as file:\n",
    "        file.write(table)"
   ]
  },
  {
   "cell_type": "code",
   "execution_count": 27,
   "id": "committed-calcium",
   "metadata": {},
   "outputs": [],
   "source": [
    "write_avg_confidence()"
   ]
  },
  {
   "cell_type": "code",
   "execution_count": 28,
   "id": "confident-taiwan",
   "metadata": {},
   "outputs": [],
   "source": [
    "write_avg_confidence(\"DistAMIE\")"
   ]
  },
  {
   "cell_type": "code",
   "execution_count": 29,
   "id": "understanding-motorcycle",
   "metadata": {},
   "outputs": [],
   "source": [
    "write_avg_confidence(\"RotAMIE\")"
   ]
  },
  {
   "cell_type": "code",
   "execution_count": null,
   "id": "corporate-reflection",
   "metadata": {},
   "outputs": [],
   "source": []
  },
  {
   "cell_type": "markdown",
   "id": "governmental-burton",
   "metadata": {},
   "source": [
    "Extract and write (embedding-based) link prediction results"
   ]
  },
  {
   "cell_type": "code",
   "execution_count": 30,
   "id": "artificial-superintendent",
   "metadata": {},
   "outputs": [],
   "source": [
    "def extract_results_from_file():\n",
    "    import json\n",
    "    begin_table = \"\\\\begin{table*}[h]\\n\\caption{Link prediction results on the test set}\\n\\label{tab:link-prediction}\\n\\\\resizebox{\\\\textwidth}{!}{\\\\begin{tabular}{|l|r|r|r|r}\\n \\hline \\n\"\n",
    "    table_head = \"\\multicolumn{5}{|c|}{TransE} \\\\\\\\ \\n\\hline \\n\\multicolumn{1}{|c|}{Dataset} & \\multicolumn{1}{c|}{Hits@1} & \\multicolumn{1}{c|}{Hits@3} & \\multicolumn{1}{c|}{Hits@10} & \\multicolumn{1}{c|}{MRR} \\\\\\\\ \\n \\hline \\n\"\n",
    "    table = begin_table\n",
    "    for model in [\"TransE\", \"DistMult\", \"RotatE\"]:\n",
    "        if model != \"TransE\":\n",
    "            table_head = \"\\multicolumn{5}{|c|}{model} \\\\\\\\ \\n\".replace(\"model\", model)+ \"\\hline \\n\"\n",
    "        table += table_head\n",
    "        for kg in ['wn18rr', 'carcinogenesis', 'mutagenesis', 'fb15k', 'yago3', 'drkg', 'openbiolink']:\n",
    "            if kg == \"yago3\":\n",
    "                kg_name = kg.upper()+\"-10\"\n",
    "            elif kg == \"fb15k\":\n",
    "                kg_name = kg.upper()+\"-237\"\n",
    "            else:\n",
    "                kg_name = kg.upper()\n",
    "            table += f\"{kg_name} \"\n",
    "            with open(f\"data/embeddings/{kg}_{model.lower()}/results.json\") as file:\n",
    "                _ = json.load(file)\n",
    "                results = _[\"metrics\"]\n",
    "            hits1, hits3 = round(results[\"both\"][\"realistic\"][\"hits_at_1\"], 2), round(results[\"both\"][\"realistic\"][\"hits_at_3\"], 2)\n",
    "            hits10, mrr = round(results[\"both\"][\"realistic\"][\"hits_at_10\"], 2), round(results[\"both\"][\"realistic\"][\"inverse_harmonic_mean_rank\"], 2)\n",
    "            for metric in [hits1, hits3, hits10, mrr]:\n",
    "                if len(str(metric))<4:\n",
    "                    metric = str(metric)+\"0\"\n",
    "                table += f\"& {metric} \"\n",
    "            table += \"\\\\\\\\ \\n\\hline \\n\"\n",
    "    table += \"\\end{tabular}}\\n\\end{table*}\"\n",
    "    with open(f\"data/link_prediction.txt\", \"w\") as file:\n",
    "        file.write(table)"
   ]
  },
  {
   "cell_type": "code",
   "execution_count": 31,
   "id": "funky-baker",
   "metadata": {},
   "outputs": [],
   "source": [
    "extract_results_from_file()"
   ]
  },
  {
   "cell_type": "code",
   "execution_count": null,
   "id": "naval-bullet",
   "metadata": {},
   "outputs": [],
   "source": []
  }
 ],
 "metadata": {
  "kernelspec": {
   "display_name": "cl",
   "language": "python",
   "name": "cl"
  },
  "language_info": {
   "codemirror_mode": {
    "name": "ipython",
    "version": 3
   },
   "file_extension": ".py",
   "mimetype": "text/x-python",
   "name": "python",
   "nbconvert_exporter": "python",
   "pygments_lexer": "ipython3",
   "version": "3.9.4"
  }
 },
 "nbformat": 4,
 "nbformat_minor": 5
}
