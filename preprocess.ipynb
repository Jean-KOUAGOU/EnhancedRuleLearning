{
 "cells": [
  {
   "cell_type": "code",
   "execution_count": 1,
   "id": "civil-alpha",
   "metadata": {},
   "outputs": [],
   "source": [
    "import pandas as pd"
   ]
  },
  {
   "cell_type": "markdown",
   "id": "b34fc03b-52fb-4ba7-8b10-d6b01812df5c",
   "metadata": {},
   "source": [
    "Available embedding models: 'autosf', 'boxe', 'compgcn', 'complex', 'complexliteral', 'conve', 'convkb', 'cooccurrencefiltered', 'cp', 'crosse', 'distma', 'distmult', 'distmultliteral', 'distmultliteralgated', 'ermlp', 'ermlpe', 'fixed', 'hole', 'inductivenodepiece', 'inductivenodepiecegnn', 'kg2e', 'mure', 'nodepiece', 'ntn', 'pairre', 'proje', 'quate', 'rescal', 'rgcn', 'rotate', 'se', 'simple', 'toruse', 'transd', 'transe', 'transf', 'transh', 'transr', 'tucker', 'um'"
   ]
  },
  {
   "cell_type": "code",
   "execution_count": 2,
   "id": "rough-sailing",
   "metadata": {},
   "outputs": [],
   "source": [
    "from sklearn.model_selection import train_test_split"
   ]
  },
  {
   "cell_type": "markdown",
   "id": "accompanied-antique",
   "metadata": {},
   "source": [
    "### Functions for custom split of triples"
   ]
  },
  {
   "cell_type": "code",
   "execution_count": 18,
   "id": "limiting-poison",
   "metadata": {},
   "outputs": [],
   "source": [
    "def get_entities(triples):\n",
    "    entities = set()\n",
    "    for l in triples:\n",
    "        e1, _, e2 = l.split(\"\\t\")\n",
    "        entities.update({e1, e2})\n",
    "    return entities\n",
    "\n",
    "def get_relations(triples):\n",
    "    relations = set()\n",
    "    for l in triples:\n",
    "        relations.add(l.split('\\t')[1])\n",
    "    return relations\n",
    "\n",
    "def filter_triples(triples, train, valid_entities, valid_relations):\n",
    "    remaining, removed = [], []\n",
    "    for l in triples:\n",
    "        e1, r, e2 = l.split('\\t')\n",
    "        if e1 in valid_entities and e2 in valid_entities and r in valid_relations:\n",
    "            remaining.append(l)\n",
    "        else:\n",
    "            removed.append(l)\n",
    "    return train+removed, remaining\n",
    "\n",
    "def write_to_file(storage_path, data):\n",
    "    with open(storage_path, 'w') as file:\n",
    "        file.writelines(data)\n",
    "\n",
    "def split_data(kg, file_name = 'drkg.tsv'):\n",
    "    path = \"./datasets/\"+kg\n",
    "    with open(path+f\"/{file_name}\", 'r') as file:\n",
    "        data = file.readlines()\n",
    "        data = list(filter(lambda x: len(x.split('\\t')) == 3, data))\n",
    "        print(len(data))\n",
    "        \n",
    "    train, temp_test = train_test_split(data, test_size=0.2, random_state=142)\n",
    "    train_entities = get_entities(train)\n",
    "    train_relations = get_relations(train)\n",
    "    \n",
    "    train, test = filter_triples(temp_test, train, train_entities, train_relations)\n",
    "    \n",
    "    train, temp_valid = train_test_split(train, test_size=0.1, random_state=142)\n",
    "    train_entities = get_entities(train)\n",
    "    train_relations = get_relations(train)\n",
    "    \n",
    "    train, valid = filter_triples(temp_valid, train, train_entities, train_relations)\n",
    "    \n",
    "    print(f'\\nStatistics train: {100*float(len(train))/len(data)}%, valid: {100*float(len(valid))/len(data)}%,\\\n",
    "          test: {100*float(len(test))/len(data)}%')\n",
    "    storage_paths = ['./datasets/'+kg+'/train.txt', './datasets/'+kg+'/valid.txt', './datasets/'+kg+'/test.txt']\n",
    "    for path, d in zip(storage_paths, [train, valid, test]):\n",
    "        write_to_file(path, d)\n",
    "    print('\\n Done saving data')"
   ]
  },
  {
   "cell_type": "code",
   "execution_count": null,
   "id": "preliminary-group",
   "metadata": {},
   "outputs": [],
   "source": []
  },
  {
   "cell_type": "code",
   "execution_count": 4,
   "id": "conceptual-twenty",
   "metadata": {},
   "outputs": [],
   "source": []
  },
  {
   "cell_type": "markdown",
   "id": "unlimited-examination",
   "metadata": {},
   "source": [
    "### Creating triples.txt, a file containing all triples (train+test+valid). It helps split the data into train, test, valid in a way that all entities and relations that appear in test.txt and valid.txt also appear in train.txt."
   ]
  },
  {
   "cell_type": "code",
   "execution_count": null,
   "id": "geological-ukraine",
   "metadata": {},
   "outputs": [],
   "source": [
    "#train = pd.read_csv('datasets/openbiolink/train_sample.csv', header=None)\n",
    "#test = pd.read_csv('datasets/openbiolink/test_sample.csv', header=None)\n",
    "#valid = pd.read_csv('datasets/openbiolink/val_sample.csv', header=None)\n",
    "#\n",
    "#train=list(map(lambda x: '\\t'.join(x[0].split('\\t')[:3])+'\\n', (train.values).tolist()))\n",
    "#test=list(map(lambda x: '\\t'.join(x[0].split('\\t')[:3])+'\\n', (test.values).tolist()))\n",
    "#valid=list(map(lambda x: '\\t'.join(x[0].split('\\t')[:3])+'\\n', (valid.values).tolist()))"
   ]
  },
  {
   "cell_type": "code",
   "execution_count": null,
   "id": "essential-channels",
   "metadata": {},
   "outputs": [],
   "source": [
    "#with open('datasets/openbiolink/triples.txt', 'w') as file:\n",
    "#    file.writelines(train+test+valid)"
   ]
  },
  {
   "cell_type": "code",
   "execution_count": null,
   "id": "starting-gender",
   "metadata": {},
   "outputs": [],
   "source": []
  },
  {
   "cell_type": "code",
   "execution_count": 19,
   "id": "respected-burden",
   "metadata": {},
   "outputs": [],
   "source": [
    "def merge_train_test_valid_data(kg):\n",
    "\n",
    "    with open(f'datasets/{kg}/train.txt') as file:\n",
    "        train = file.readlines()\n",
    "\n",
    "    with open(f'datasets/{kg}/test.txt') as file:\n",
    "        test = file.readlines()\n",
    "\n",
    "    with open(f'datasets/{kg}/valid.txt') as file:\n",
    "        valid = file.readlines()\n",
    "\n",
    "    with open(f'datasets/{kg}/triples.txt', 'w') as file:\n",
    "        file.writelines(train+test+valid)\n",
    "    print('Donne creating triples.txt !')"
   ]
  },
  {
   "cell_type": "code",
   "execution_count": 15,
   "id": "classical-radical",
   "metadata": {},
   "outputs": [
    {
     "name": "stdout",
     "output_type": "stream",
     "text": [
      "Donne creating triples.txt !\n"
     ]
    }
   ],
   "source": [
    "merge_train_test_valid_data('yago3')"
   ]
  },
  {
   "cell_type": "code",
   "execution_count": 16,
   "id": "centered-houston",
   "metadata": {},
   "outputs": [
    {
     "name": "stdout",
     "output_type": "stream",
     "text": [
      "Donne creating triples.txt !\n"
     ]
    }
   ],
   "source": [
    "merge_train_test_valid_data('fb15k')"
   ]
  },
  {
   "cell_type": "code",
   "execution_count": 18,
   "id": "present-district",
   "metadata": {},
   "outputs": [
    {
     "name": "stdout",
     "output_type": "stream",
     "text": [
      "Donne creating triples.txt !\n"
     ]
    }
   ],
   "source": [
    "merge_train_test_valid_data('wn18rr')"
   ]
  },
  {
   "cell_type": "code",
   "execution_count": null,
   "id": "collect-judges",
   "metadata": {},
   "outputs": [],
   "source": []
  },
  {
   "cell_type": "markdown",
   "id": "arbitrary-liberal",
   "metadata": {},
   "source": [
    "### Splitting into train, test and validation as described above"
   ]
  },
  {
   "cell_type": "code",
   "execution_count": 20,
   "id": "incoming-biodiversity",
   "metadata": {},
   "outputs": [
    {
     "name": "stdout",
     "output_type": "stream",
     "text": [
      "93003\n",
      "\n",
      "Statistics train: 84.29943120114405%, valid: 4.504155779921078%,          test: 11.196413018934873%\n",
      "\n",
      " Done saving data\n"
     ]
    }
   ],
   "source": [
    "split_data('wn18rr', 'triples.txt')"
   ]
  },
  {
   "cell_type": "code",
   "execution_count": 21,
   "id": "alpine-study",
   "metadata": {},
   "outputs": [
    {
     "name": "stdout",
     "output_type": "stream",
     "text": [
      "310116\n",
      "\n",
      "Statistics train: 72.18943879064608%, valid: 7.934450334713462%,          test: 19.876110874640457%\n",
      "\n",
      " Done saving data\n"
     ]
    }
   ],
   "source": [
    "split_data('fb15k', 'triples.txt')"
   ]
  },
  {
   "cell_type": "code",
   "execution_count": 22,
   "id": "turned-comfort",
   "metadata": {},
   "outputs": [
    {
     "name": "stdout",
     "output_type": "stream",
     "text": [
      "1089040\n",
      "\n",
      "Statistics train: 72.87978402997135%, valid: 7.726437963711159%,          test: 19.39377800631749%\n",
      "\n",
      " Done saving data\n"
     ]
    }
   ],
   "source": [
    "split_data('yago3', 'triples.txt')"
   ]
  },
  {
   "cell_type": "code",
   "execution_count": 24,
   "id": "surrounded-conditions",
   "metadata": {},
   "outputs": [
    {
     "name": "stdout",
     "output_type": "stream",
     "text": [
      "5874261\n",
      "\n",
      "Statistics train: 72.17558089434569%, valid: 7.946957072557723%,          test: 19.877462033096588%\n",
      "\n",
      " Done saving data\n"
     ]
    }
   ],
   "source": [
    "split_data('drkg')"
   ]
  },
  {
   "cell_type": "code",
   "execution_count": 25,
   "id": "atomic-bangkok",
   "metadata": {},
   "outputs": [
    {
     "name": "stdout",
     "output_type": "stream",
     "text": [
      "96939\n",
      "\n",
      "Statistics train: 77.3733997668637%, valid: 6.324595879883225%,          test: 16.302004353253075%\n",
      "\n",
      " Done saving data\n"
     ]
    }
   ],
   "source": [
    "split_data('carcinogenesis', 'triples.txt')"
   ]
  },
  {
   "cell_type": "code",
   "execution_count": 26,
   "id": "traditional-bulgarian",
   "metadata": {},
   "outputs": [
    {
     "name": "stdout",
     "output_type": "stream",
     "text": [
      "62067\n",
      "\n",
      "Statistics train: 77.21655630206068%, valid: 6.3624792562875605%,          test: 16.420964441651762%\n",
      "\n",
      " Done saving data\n"
     ]
    }
   ],
   "source": [
    "split_data('mutagenesis', 'triples.txt')"
   ]
  },
  {
   "cell_type": "code",
   "execution_count": 27,
   "id": "chronic-eating",
   "metadata": {},
   "outputs": [
    {
     "name": "stdout",
     "output_type": "stream",
     "text": [
      "4563405\n",
      "\n",
      "Statistics train: 73.07898378513413%, valid: 7.684371647925179%,          test: 19.236644566940694%\n",
      "\n",
      " Done saving data\n"
     ]
    }
   ],
   "source": [
    "split_data('openbiolink', 'triples.txt')"
   ]
  },
  {
   "cell_type": "code",
   "execution_count": null,
   "id": "cleared-genome",
   "metadata": {},
   "outputs": [],
   "source": []
  },
  {
   "cell_type": "markdown",
   "id": "impressed-painting",
   "metadata": {},
   "source": [
    "### Here we replace the white space by an underscore in entity and relation names to avoid wrong splits in rule learning systems"
   ]
  },
  {
   "cell_type": "code",
   "execution_count": 29,
   "id": "labeled-detail",
   "metadata": {},
   "outputs": [],
   "source": [
    "def remove_space(data_type, kg='drkg'):\n",
    "    \"\"\" Only for the DRKG \n",
    "    - The function loads and modifies train, valid, and test files removing white spaces in entity and relation names\n",
    "    \"\"\"\n",
    "    with open(f'./datasets/{kg}/'+data_type+'.txt') as file:\n",
    "        data = file.readlines()\n",
    "    new_data = []\n",
    "    for triple in data:\n",
    "        e1,r,e2 = triple.split('\\t')\n",
    "        e1 = e1.replace(' ', '_')\n",
    "        e2 = e2.replace(' ', '_')\n",
    "        r = r.replace(' ', '_')\n",
    "        new_data.append('\\t'.join([e1, r, e2]))\n",
    "    with open(f'./datasets/{kg}/'+data_type+'.txt', 'w') as file:\n",
    "        file.writelines(new_data)"
   ]
  },
  {
   "cell_type": "code",
   "execution_count": 30,
   "id": "southern-structure",
   "metadata": {},
   "outputs": [],
   "source": [
    "remove_space('train')"
   ]
  },
  {
   "cell_type": "code",
   "execution_count": 31,
   "id": "forty-municipality",
   "metadata": {},
   "outputs": [],
   "source": [
    "remove_space('test')"
   ]
  },
  {
   "cell_type": "code",
   "execution_count": 32,
   "id": "infectious-young",
   "metadata": {},
   "outputs": [],
   "source": [
    "remove_space('valid')"
   ]
  },
  {
   "cell_type": "markdown",
   "id": "thorough-practitioner",
   "metadata": {},
   "source": [
    "### Counting the number of triples in train, valid and test splits. The numbers of relations and entities are also printed."
   ]
  },
  {
   "cell_type": "code",
   "execution_count": 18,
   "id": "wanted-private",
   "metadata": {},
   "outputs": [],
   "source": [
    "def statistics(kg):\n",
    "    for data_type in ['train', 'valid', 'test']:\n",
    "        print(f'\\n****** {data_type.upper()} ******\\n')\n",
    "        with open(f'./datasets/{kg}/{data_type}.txt') as file:\n",
    "            data = list(map(str.strip, file.readlines()))\n",
    "\n",
    "        print(\"triples: \", len(data))\n",
    "        entities = set()\n",
    "        for line in data:\n",
    "            entities.update(set(line.split('\\t')[0::2]))\n",
    "        relations = set(map(lambda x: x.split('\\t')[1], data))\n",
    "        print(\"entities: \", len(entities))\n",
    "        print(\"relations: \", len(relations))"
   ]
  },
  {
   "cell_type": "code",
   "execution_count": 19,
   "id": "governing-curtis",
   "metadata": {},
   "outputs": [
    {
     "name": "stdout",
     "output_type": "stream",
     "text": [
      "\n",
      "****** TRAIN ******\n",
      "\n",
      "triples:  75005\n",
      "entities:  23645\n",
      "relations:  24\n",
      "\n",
      "****** VALID ******\n",
      "\n",
      "triples:  6131\n",
      "entities:  7007\n",
      "relations:  20\n",
      "\n",
      "****** TEST ******\n",
      "\n",
      "triples:  15803\n",
      "entities:  14107\n",
      "relations:  22\n"
     ]
    }
   ],
   "source": [
    "statistics('carcinogenesis')"
   ]
  },
  {
   "cell_type": "code",
   "execution_count": 20,
   "id": "respected-problem",
   "metadata": {},
   "outputs": [
    {
     "name": "stdout",
     "output_type": "stream",
     "text": [
      "\n",
      "****** TRAIN ******\n",
      "\n",
      "triples:  47926\n",
      "entities:  15260\n",
      "relations:  14\n",
      "\n",
      "****** VALID ******\n",
      "\n",
      "triples:  3949\n",
      "entities:  4611\n",
      "relations:  10\n",
      "\n",
      "****** TEST ******\n",
      "\n",
      "triples:  10192\n",
      "entities:  9163\n",
      "relations:  12\n"
     ]
    }
   ],
   "source": [
    "statistics('mutagenesis')"
   ]
  },
  {
   "cell_type": "code",
   "execution_count": 21,
   "id": "dominant-costa",
   "metadata": {},
   "outputs": [
    {
     "name": "stdout",
     "output_type": "stream",
     "text": [
      "\n",
      "****** TRAIN ******\n",
      "\n",
      "triples:  3334890\n",
      "entities:  184635\n",
      "relations:  28\n",
      "\n",
      "****** VALID ******\n",
      "\n",
      "triples:  350669\n",
      "entities:  47963\n",
      "relations:  28\n",
      "\n",
      "****** TEST ******\n",
      "\n",
      "triples:  877846\n",
      "entities:  68272\n",
      "relations:  28\n"
     ]
    }
   ],
   "source": [
    "statistics('openbiolink')"
   ]
  },
  {
   "cell_type": "code",
   "execution_count": 22,
   "id": "utility-sessions",
   "metadata": {},
   "outputs": [
    {
     "name": "stdout",
     "output_type": "stream",
     "text": [
      "\n",
      "****** TRAIN ******\n",
      "\n",
      "triples:  4239782\n",
      "entities:  97238\n",
      "relations:  107\n",
      "\n",
      "****** VALID ******\n",
      "\n",
      "triples:  466825\n",
      "entities:  46072\n",
      "relations:  107\n",
      "\n",
      "****** TEST ******\n",
      "\n",
      "triples:  1167654\n",
      "entities:  58591\n",
      "relations:  107\n"
     ]
    }
   ],
   "source": [
    "statistics('drkg')"
   ]
  },
  {
   "cell_type": "code",
   "execution_count": 23,
   "id": "physical-puzzle",
   "metadata": {},
   "outputs": [
    {
     "name": "stdout",
     "output_type": "stream",
     "text": [
      "\n",
      "****** TRAIN ******\n",
      "\n",
      "triples:  793690\n",
      "entities:  123182\n",
      "relations:  37\n",
      "\n",
      "****** VALID ******\n",
      "\n",
      "triples:  84144\n",
      "entities:  65695\n",
      "relations:  36\n",
      "\n",
      "****** TEST ******\n",
      "\n",
      "triples:  211206\n",
      "entities:  95693\n",
      "relations:  37\n"
     ]
    }
   ],
   "source": [
    "statistics('yago3')"
   ]
  },
  {
   "cell_type": "code",
   "execution_count": 24,
   "id": "educated-share",
   "metadata": {},
   "outputs": [
    {
     "name": "stdout",
     "output_type": "stream",
     "text": [
      "\n",
      "****** TRAIN ******\n",
      "\n",
      "triples:  78401\n",
      "entities:  40943\n",
      "relations:  11\n",
      "\n",
      "****** VALID ******\n",
      "\n",
      "triples:  4189\n",
      "entities:  6384\n",
      "relations:  11\n",
      "\n",
      "****** TEST ******\n",
      "\n",
      "triples:  10413\n",
      "entities:  12659\n",
      "relations:  11\n"
     ]
    }
   ],
   "source": [
    "statistics('wn18rr')"
   ]
  },
  {
   "cell_type": "code",
   "execution_count": 25,
   "id": "straight-lincoln",
   "metadata": {},
   "outputs": [
    {
     "name": "stdout",
     "output_type": "stream",
     "text": [
      "\n",
      "****** TRAIN ******\n",
      "\n",
      "triples:  223871\n",
      "entities:  14541\n",
      "relations:  237\n",
      "\n",
      "****** VALID ******\n",
      "\n",
      "triples:  24606\n",
      "entities:  11112\n",
      "relations:  237\n",
      "\n",
      "****** TEST ******\n",
      "\n",
      "triples:  61639\n",
      "entities:  13166\n",
      "relations:  237\n"
     ]
    }
   ],
   "source": [
    "statistics('fb15k')"
   ]
  },
  {
   "cell_type": "code",
   "execution_count": null,
   "id": "fluid-andorra",
   "metadata": {},
   "outputs": [],
   "source": []
  }
 ],
 "metadata": {
  "kernelspec": {
   "display_name": "secondment",
   "language": "python",
   "name": "secondment"
  },
  "language_info": {
   "codemirror_mode": {
    "name": "ipython",
    "version": 3
   },
   "file_extension": ".py",
   "mimetype": "text/x-python",
   "name": "python",
   "nbconvert_exporter": "python",
   "pygments_lexer": "ipython3",
   "version": "3.9.7"
  }
 },
 "nbformat": 4,
 "nbformat_minor": 5
}
