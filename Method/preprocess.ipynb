{
 "cells": [
  {
   "cell_type": "code",
   "execution_count": null,
   "id": "reverse-rocket",
   "metadata": {},
   "outputs": [],
   "source": [
    "import pandas as pd"
   ]
  },
  {
   "cell_type": "code",
   "execution_count": 36,
   "id": "brutal-communications",
   "metadata": {},
   "outputs": [],
   "source": [
    "from sklearn.model_selection import train_test_split"
   ]
  },
  {
   "cell_type": "code",
   "execution_count": 85,
   "id": "interracial-wheel",
   "metadata": {},
   "outputs": [],
   "source": [
    "def get_entities(triples):\n",
    "    entities = set()\n",
    "    for l in triples:\n",
    "        entities.update({l.split('\\t')[0], l.split('\\t')[0]})\n",
    "    return entities\n",
    "\n",
    "def filter_triples(triples, train, valid_entities):\n",
    "    remaining, removed = [], []\n",
    "    for l in triples:\n",
    "        if l.split('\\t')[0] in valid_entities or l.split('\\t')[2] in valid_entities:\n",
    "            remaining.append(l)\n",
    "        else:\n",
    "            removed.append(l)\n",
    "    return train+removed, remaining\n",
    "\n",
    "def write_to_file(storage_path, data):\n",
    "    with open(storage_path, 'w') as file:\n",
    "        file.writelines(data)\n",
    "\n",
    "def split_data(kg):\n",
    "    path = \"./datasets/\"+kg\n",
    "    with open(path+\"/triples.txt\", 'r') as file:\n",
    "        data = file.readlines()\n",
    "        data = list(filter(lambda x: len(x.split('\\t')) == 3, data))\n",
    "        \n",
    "    train, temp_test = train_test_split(data, test_size=0.2, random_state=142)\n",
    "    \n",
    "    train_entities = get_entities(train)\n",
    "    train, test = filter_triples(temp_test, train, train_entities)\n",
    "    \n",
    "    train, temp_valid = train_test_split(train, test_size=0.1, random_state=142)\n",
    "    train_entities = get_entities(train)\n",
    "    train, valid = filter_triples(temp_valid, train, train_entities)\n",
    "    \n",
    "    print(f'\\nStatistics train: {100*float(len(train))/len(data)}%, valid: {100*float(len(valid))/len(data)}%,\\\n",
    "          test: {100*float(len(test))/len(data)}%')\n",
    "    storage_paths = ['./datasets/'+kg+'/train.txt', './datasets/'+kg+'/valid.txt', './datasets/'+kg+'/test.txt']\n",
    "    for path, d in zip(storage_paths, [train, valid, test]):\n",
    "        write_to_file(path, d)\n",
    "    print('\\n Done saving data')"
   ]
  },
  {
   "cell_type": "code",
   "execution_count": 89,
   "id": "binary-congress",
   "metadata": {},
   "outputs": [
    {
     "name": "stdout",
     "output_type": "stream",
     "text": [
      "\n",
      "Statustics train: 72.07842824825114%, valid: 7.976611866582026%,          test: 19.94495988516683%\n",
      "\n",
      " Done saving data\n"
     ]
    }
   ],
   "source": [
    "split_data('drkg')"
   ]
  },
  {
   "cell_type": "code",
   "execution_count": 1,
   "id": "young-enlargement",
   "metadata": {},
   "outputs": [],
   "source": [
    "def remove_space(data_type):\n",
    "    \"\"\" Only for the DRKG \n",
    "    - The function loads and modifies train, valid, and test files removing white spaces in entity and relation names\n",
    "    \"\"\"\n",
    "    with open('./datasets/drkg/'+data_type+'.txt') as file:\n",
    "        data = file.readlines()\n",
    "    new_data = []\n",
    "    for triple in data:\n",
    "        e1,r,e2 = triple.split('\\t')\n",
    "        e1 = e1.replace(' ', '_')\n",
    "        e2 = e2.replace(' ', '_')\n",
    "        r = r.replace(' ', '_')\n",
    "        new_data.append('\\t'.join([e1, r, e2]))\n",
    "    with open('./datasets/drkg/'+data_type+'_new.txt', 'w') as file:\n",
    "        file.writelines(new_data)"
   ]
  },
  {
   "cell_type": "code",
   "execution_count": 4,
   "id": "dense-adolescent",
   "metadata": {},
   "outputs": [],
   "source": [
    "remove_space('test')"
   ]
  },
  {
   "cell_type": "code",
   "execution_count": null,
   "id": "cathedral-priority",
   "metadata": {},
   "outputs": [],
   "source": []
  }
 ],
 "metadata": {
  "kernelspec": {
   "display_name": "secondment",
   "language": "python",
   "name": "secondment"
  },
  "language_info": {
   "codemirror_mode": {
    "name": "ipython",
    "version": 3
   },
   "file_extension": ".py",
   "mimetype": "text/x-python",
   "name": "python",
   "nbconvert_exporter": "python",
   "pygments_lexer": "ipython3",
   "version": "3.9.7"
  }
 },
 "nbformat": 4,
 "nbformat_minor": 5
}
