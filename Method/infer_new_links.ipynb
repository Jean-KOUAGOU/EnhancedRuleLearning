{
 "cells": [
  {
   "cell_type": "markdown",
   "id": "informed-beach",
   "metadata": {},
   "source": [
    "## Perform link prediction on drkg"
   ]
  },
  {
   "cell_type": "code",
   "execution_count": 1,
   "id": "sealed-screening",
   "metadata": {},
   "outputs": [
    {
     "name": "stdout",
     "output_type": "stream",
     "text": [
      "Initialized\n",
      "\n",
      "############################## Finding new triples ##############################\n",
      "\n",
      "Target relations: ['DGIDB::INHIBITOR::Gene:Compound', 'DRUGBANK::treats::Compound:Disease', 'GNBR::C::Compound:Disease', 'GNBR::Pa::Compound:Disease', 'GNBR::Pr::Compound:Disease', 'GNBR::T::Compound:Disease', 'Hetionet::CpD::Compound:Disease', 'Hetionet::CtD::Compound:Disease']\n"
     ]
    },
    {
     "name": "stderr",
     "output_type": "stream",
     "text": [
      "Outer loop (on relations): 100%|██████████| 8/8 [00:00<00:00, 13.74it/s]\n"
     ]
    },
    {
     "name": "stdout",
     "output_type": "stream",
     "text": [
      "\n",
      "*********************** Number of initial candidate triples: 320000 ***********************\n",
      "\n",
      "Here: TransE\n",
      "\n",
      "############################## Getting highest scoring triples from Pykeen TransE embeddings ##############################\n",
      "\n",
      "\n",
      "*********************** Number of suggested triples with score >= 0.8: 984 ***********************\n",
      "\n",
      "\n",
      "********************\n",
      "Storing new triples\n",
      "********************\n"
     ]
    }
   ],
   "source": [
    "%run -i 'predict_new_links.py' --target_relations \":Pr:\" \":treats:\"\\\n",
    " \":T:\" \":C:\" \":Pa:\" \":CpD:\" \":CtD:\" \":INHIBITOR:\" --max_num_entities 200 --store_triples True"
   ]
  },
  {
   "cell_type": "code",
   "execution_count": 2,
   "id": "major-confidence",
   "metadata": {},
   "outputs": [],
   "source": [
    "#Disease and treatment related relations: \"Compound:Disease\" \"Disease:Compound\" \"Gene:Disease\" \"Disease:Gene\""
   ]
  },
  {
   "cell_type": "markdown",
   "id": "mathematical-cruise",
   "metadata": {},
   "source": [
    "# Target relations"
   ]
  },
  {
   "cell_type": "markdown",
   "id": "beginning-constitution",
   "metadata": {},
   "source": [
    "### Pr, treats, T, C, Pa, CpD, CtD"
   ]
  },
  {
   "cell_type": "markdown",
   "id": "fewer-fellow",
   "metadata": {},
   "source": [
    "1.) Run rule learning algorithms: AMIE+ and anyBURL to predict rules.\n",
    "\n",
    "2.) Do link prediction using Pr, treats, T, C, Pa, CpD, CtD, INHIBITOR\n",
    "\n",
    "3.) Enrich the KGs\n",
    "\n",
    "4.) Run rule learning algorithms: AMIE+ and anyBURL to predict rules again\n",
    "\n",
    "5.) Compare 1.) and 4.)"
   ]
  },
  {
   "cell_type": "code",
   "execution_count": null,
   "id": "compressed-biography",
   "metadata": {},
   "outputs": [],
   "source": []
  },
  {
   "cell_type": "markdown",
   "id": "mathematical-emperor",
   "metadata": {},
   "source": [
    "### Interesting rules with AnyBURL "
   ]
  },
  {
   "cell_type": "markdown",
   "id": "nearby-program",
   "metadata": {},
   "source": [
    "1) GNBR::T::Compound:Disease(X,Disease::MESH:D005764) <= DRUGBANK::treats::Compound:Disease(X,Disease::MESH:D005764)\n",
    "\n",
    "Explanation 1) If some compound X treats disease MESH:D005764 then X also Ts MESH:D005764  \n",
    "\n",
    "2) DRUGBANK::treats::Compound:Disease(Compound::DB01229,Y) <= Hetionet::DaG::Disease:Gene(Y,Gene::8516)\n",
    "\n",
    "3) GNBR::T::Compound:Disease(Compound::DB00257,Y) <= DRUGBANK::treats::Compound:Disease(Compound::DB06820,Y)\n",
    "\n",
    "4) DRUGBANK::treats::Compound:Disease(Compound::DB00297,Y) <= DRUGBANK::treats::Compound:Disease(Compound::DB01234,Y) \n",
    "\n",
    "Explanation 4) If the compound DB01234 treats some disease Y then the compound DB00297 also treats disease Y.\n"
   ]
  },
  {
   "cell_type": "markdown",
   "id": "bibliographic-penguin",
   "metadata": {},
   "source": [
    "## Surprising rules"
   ]
  },
  {
   "cell_type": "markdown",
   "id": "scientific-depression",
   "metadata": {},
   "source": [
    "DRUGBANK::treats::Compound:Disease(X,Disease::MESH:D009798) <= Hetionet::CcSE::Compound:Side Effect(X,A), confidence 1.69%\n",
    "\n",
    "Any drug with side effects can treat MESH:D009798"
   ]
  },
  {
   "cell_type": "code",
   "execution_count": null,
   "id": "express-shoulder",
   "metadata": {},
   "outputs": [],
   "source": []
  }
 ],
 "metadata": {
  "kernelspec": {
   "display_name": "secondment",
   "language": "python",
   "name": "secondment"
  },
  "language_info": {
   "codemirror_mode": {
    "name": "ipython",
    "version": 3
   },
   "file_extension": ".py",
   "mimetype": "text/x-python",
   "name": "python",
   "nbconvert_exporter": "python",
   "pygments_lexer": "ipython3",
   "version": "3.9.7"
  }
 },
 "nbformat": 4,
 "nbformat_minor": 5
}
