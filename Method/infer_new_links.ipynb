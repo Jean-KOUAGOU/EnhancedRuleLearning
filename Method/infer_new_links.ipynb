{
 "cells": [
  {
   "cell_type": "markdown",
   "id": "unable-camel",
   "metadata": {},
   "source": [
    "## Perform link prediction using TransE"
   ]
  },
  {
   "cell_type": "code",
   "execution_count": 2,
   "id": "realistic-jaguar",
   "metadata": {},
   "outputs": [],
   "source": [
    "import torch\n",
    "\n",
    "model = torch.load(\"embeddings/carcinogenesis_TransE/trained_model.pkl\", map_location=\"cpu\")"
   ]
  },
  {
   "cell_type": "code",
   "execution_count": 3,
   "id": "wooden-amber",
   "metadata": {},
   "outputs": [
    {
     "data": {
      "text/plain": [
       "TransE(\n",
       "  (loss): BCEAfterSigmoidLoss()\n",
       "  (regularizer): NoRegularizer()\n",
       "  (entity_embeddings): Embedding(\n",
       "    (_embeddings): Embedding(23645, 50)\n",
       "  )\n",
       "  (relation_embeddings): Embedding(\n",
       "    (_embeddings): Embedding(24, 50)\n",
       "  )\n",
       ")"
      ]
     },
     "execution_count": 3,
     "metadata": {},
     "output_type": "execute_result"
    }
   ],
   "source": [
    "model"
   ]
  },
  {
   "cell_type": "code",
   "execution_count": 26,
   "id": "loved-concern",
   "metadata": {},
   "outputs": [
    {
     "name": "stdout",
     "output_type": "stream",
     "text": [
      "\n",
      "############################## Finding new triples ##############################\n",
      "\n",
      "Target relations: ['DGIDB::INHIBITOR::Gene:Compound', 'DRUGBANK::treats::Compound:Disease', 'GNBR::C::Compound:Disease', 'GNBR::Pa::Compound:Disease', 'GNBR::Pr::Compound:Disease', 'GNBR::T::Compound:Disease', 'Hetionet::CpD::Compound:Disease', 'Hetionet::CtD::Compound:Disease']\n"
     ]
    },
    {
     "name": "stderr",
     "output_type": "stream",
     "text": [
      "Outer loop (on relations): 100%|██████████| 8/8 [00:02<00:00,  3.38it/s]\n"
     ]
    },
    {
     "name": "stdout",
     "output_type": "stream",
     "text": [
      "\n",
      "*********************** Number of initial candidate triples: 1280000 ***********************\n",
      "\n",
      "\n",
      "############################## Getting highest scoring triples from Pykeen TransE embeddings ##############################\n",
      "\n",
      "All scores:  tensor([0.5393, 0.3138, 0.3051,  ..., 0.3073, 0.3495, 0.2336],\n",
      "       dtype=torch.float64)\n",
      "Max score:  tensor(0.9740, dtype=torch.float64)\n",
      "\n",
      "*********************** Number of suggested triples with score >= 0.8: 3122 ***********************\n",
      "\n",
      "\n",
      "********************\n",
      "Storing new triples\n",
      "********************\n",
      "Done !\n"
     ]
    }
   ],
   "source": [
    "%run -i 'predict_new_links.py' --kg drkg --model TransE --target_relations \":Pr:\" \":treats:\"\\\n",
    " \":T:\" \":C:\" \":Pa:\" \":CpD:\" \":CtD:\" \":INHIBITOR:\" --max_num_entities 400 --store_triples True"
   ]
  },
  {
   "cell_type": "code",
   "execution_count": 27,
   "id": "increased-france",
   "metadata": {},
   "outputs": [
    {
     "name": "stdout",
     "output_type": "stream",
     "text": [
      "\n",
      "############################## Finding new triples ##############################\n",
      "\n",
      "Using the following relations: ['GENE_GO', 'GENE_PHENOTYPE', 'GENE_PATHWAY', 'GENE_OVEREXPRESSED_ANATOMY', 'GENE_EXPRESSED_ANATOMY', 'DRUG_BINDINH_GENE', 'GENE_PTMOD_GENE', 'DRUG_REACTION_GENE', 'GENE_BINDING_GENE', 'GENE_INHIBITION_GENE', 'DRUG_PHENOTYPE', 'DIS_PHENOTYPE', 'DRUG_BINDACT_GENE', 'DRUG_BINDING_GENE', 'DRUG_ACTIVATION_GENE']\n"
     ]
    },
    {
     "name": "stderr",
     "output_type": "stream",
     "text": [
      "Outer loop (on relations): 100%|██████████| 15/15 [00:03<00:00,  3.79it/s]\n"
     ]
    },
    {
     "name": "stdout",
     "output_type": "stream",
     "text": [
      "\n",
      "*********************** Number of initial candidate triples: 2399996 ***********************\n",
      "\n",
      "\n",
      "############################## Getting highest scoring triples from Pykeen TransE embeddings ##############################\n",
      "\n",
      "All scores:  tensor([0.2791, 0.2742, 0.0862,  ..., 0.2786, 0.2743, 0.2174],\n",
      "       dtype=torch.float64)\n",
      "Max score:  tensor(0.9863, dtype=torch.float64)\n",
      "\n",
      "*********************** Number of suggested triples with score >= 0.8: 92489 ***********************\n",
      "\n",
      "\n",
      "********************\n",
      "Storing new triples\n",
      "********************\n",
      "Done !\n"
     ]
    }
   ],
   "source": [
    "%run -i 'predict_new_links.py' --kg openbiolink --model TransE --max_num_entities 400 --store_triples True --max_num_relations 15"
   ]
  },
  {
   "cell_type": "code",
   "execution_count": 21,
   "id": "veterinary-sunday",
   "metadata": {},
   "outputs": [
    {
     "name": "stdout",
     "output_type": "stream",
     "text": [
      "\n",
      "############################## Finding new triples ##############################\n",
      "\n",
      "Using the following relations: ['carcinogenesis#salmonella_n', 'rdf-schema#range', 'rdf-schema#domain', 'owl#disjointWith', 'carcinogenesis#micronuc_m', 'carcinogenesis#cytogen_ca', 'carcinogenesis#salmonella_reduc', 'carcinogenesis#hasAtom', 'carcinogenesis#hasStructure', 'rdf-schema#subClassOf', 'carcinogenesis#isMutagenic', 'carcinogenesis#inBond', 'carcinogenesis#chromex', '22-rdf-syntax-ns#type', 'carcinogenesis#amesTestPositive']\n"
     ]
    },
    {
     "name": "stderr",
     "output_type": "stream",
     "text": [
      "Outer loop (on relations): 100%|██████████| 15/15 [00:03<00:00,  4.30it/s]\n"
     ]
    },
    {
     "name": "stdout",
     "output_type": "stream",
     "text": [
      "\n",
      "*********************** Number of initial candidate triples: 2399996 ***********************\n",
      "\n",
      "\n",
      "############################## Getting highest scoring triples from Pykeen TransE embeddings ##############################\n",
      "\n",
      "All scores:  tensor([0.4009, 0.3579, 0.3892,  ..., 0.3231, 0.4261, 0.3779],\n",
      "       dtype=torch.float64)\n",
      "Max score:  tensor(0.9879, dtype=torch.float64)\n",
      "\n",
      "*********************** Number of suggested triples with score >= 0.8: 637 ***********************\n",
      "\n",
      "\n",
      "********************\n",
      "Storing new triples\n",
      "********************\n",
      "Done !\n"
     ]
    }
   ],
   "source": [
    "%run -i 'predict_new_links.py' --kg carcinogenesis --model TransE --max_num_entities 400 --store_triples True --max_num_relations 15"
   ]
  },
  {
   "cell_type": "code",
   "execution_count": 22,
   "id": "smart-institute",
   "metadata": {},
   "outputs": [
    {
     "name": "stdout",
     "output_type": "stream",
     "text": [
      "\n",
      "############################## Finding new triples ##############################\n",
      "\n",
      "Using the following relations: ['mutagenesis#logp', 'rdf-schema#domain', 'mutagenesis#lumo', 'rdf-schema#range', 'mutagenesis#hasThreeOrMoreFusedRings', 'mutagenesis#charge', 'rdf-schema#subClassOf', 'mutagenesis#inBond', 'mutagenesis#hasStructure', 'mutagenesis#hasFifeExamplesOfAcenthrylenes', 'mutagenesis#hasBond', '22-rdf-syntax-ns#type', 'mutagenesis#hasAtom', 'mutagenesis#act']\n"
     ]
    },
    {
     "name": "stderr",
     "output_type": "stream",
     "text": [
      "Outer loop (on relations): 100%|██████████| 14/14 [00:03<00:00,  4.53it/s]\n"
     ]
    },
    {
     "name": "stdout",
     "output_type": "stream",
     "text": [
      "\n",
      "*********************** Number of initial candidate triples: 2239984 ***********************\n",
      "\n",
      "\n",
      "############################## Getting highest scoring triples from Pykeen TransE embeddings ##############################\n",
      "\n",
      "All scores:  tensor([0.4875, 0.4193, 0.4296,  ..., 0.2931, 0.2973, 0.3350],\n",
      "       dtype=torch.float64)\n",
      "Max score:  tensor(0.9888, dtype=torch.float64)\n",
      "\n",
      "*********************** Number of suggested triples with score >= 0.8: 178 ***********************\n",
      "\n",
      "\n",
      "********************\n",
      "Storing new triples\n",
      "********************\n",
      "Done !\n"
     ]
    }
   ],
   "source": [
    "%run -i 'predict_new_links.py' --kg mutagenesis --model TransE --max_num_entities 400 --store_triples True --max_num_relations 15"
   ]
  },
  {
   "cell_type": "code",
   "execution_count": 23,
   "id": "metropolitan-proposition",
   "metadata": {},
   "outputs": [
    {
     "name": "stdout",
     "output_type": "stream",
     "text": [
      "\n",
      "############################## Finding new triples ##############################\n",
      "\n",
      "Using the following relations: ['_synset_domain_topic_of', '_member_of_domain_usage', '_has_part', '_verb_group', '_similar_to', '_member_of_domain_region', '_member_meronym', '_instance_hypernym', '_also_see', '_hypernym', '_derivationally_related_form']\n"
     ]
    },
    {
     "name": "stderr",
     "output_type": "stream",
     "text": [
      "Outer loop (on relations): 100%|██████████| 11/11 [00:02<00:00,  4.21it/s]\n"
     ]
    },
    {
     "name": "stdout",
     "output_type": "stream",
     "text": [
      "\n",
      "*********************** Number of initial candidate triples: 1759995 ***********************\n",
      "\n",
      "\n",
      "############################## Getting highest scoring triples from Pykeen TransE embeddings ##############################\n",
      "\n",
      "All scores:  tensor([0.3614, 0.3606, 0.4477,  ..., 0.4145, 0.4795, 0.5001],\n",
      "       dtype=torch.float64)\n",
      "Max score:  tensor(0.9657, dtype=torch.float64)\n",
      "\n",
      "*********************** Number of suggested triples with score >= 0.8: 534 ***********************\n",
      "\n",
      "\n",
      "********************\n",
      "Storing new triples\n",
      "********************\n",
      "Done !\n"
     ]
    }
   ],
   "source": [
    "%run -i 'predict_new_links.py' --kg wn18rr --model TransE --max_num_entities 400 --store_triples True --max_num_relations 15"
   ]
  },
  {
   "cell_type": "code",
   "execution_count": 24,
   "id": "ultimate-employer",
   "metadata": {},
   "outputs": [
    {
     "name": "stdout",
     "output_type": "stream",
     "text": [
      "\n",
      "############################## Finding new triples ##############################\n",
      "\n",
      "Using the following relations: ['owns', 'hasCapital', 'wroteMusicFor', 'hasWonPrize', 'isCitizenOf', 'participatedIn', 'isLeaderOf', 'isKnownFor', 'happenedIn', 'created', 'diedIn', 'hasAcademicAdvisor', 'edited', 'playsFor', 'hasWebsite']\n"
     ]
    },
    {
     "name": "stderr",
     "output_type": "stream",
     "text": [
      "Outer loop (on relations): 100%|██████████| 15/15 [00:03<00:00,  4.29it/s]\n"
     ]
    },
    {
     "name": "stdout",
     "output_type": "stream",
     "text": [
      "\n",
      "*********************** Number of initial candidate triples: 2399997 ***********************\n",
      "\n",
      "\n",
      "############################## Getting highest scoring triples from Pykeen TransE embeddings ##############################\n",
      "\n",
      "All scores:  tensor([0.8671, 0.7924, 0.4028,  ..., 0.3111, 0.5196, 0.3990],\n",
      "       dtype=torch.float64)\n",
      "Max score:  tensor(0.9698, dtype=torch.float64)\n",
      "\n",
      "*********************** Number of suggested triples with score >= 0.8: 486178 ***********************\n",
      "\n",
      "\n",
      "********************\n",
      "Storing new triples\n",
      "********************\n",
      "Done !\n"
     ]
    }
   ],
   "source": [
    "%run -i 'predict_new_links.py' --kg yago3 --model TransE --max_num_entities 400 --store_triples True --max_num_relations 15"
   ]
  },
  {
   "cell_type": "code",
   "execution_count": 25,
   "id": "expressed-twins",
   "metadata": {},
   "outputs": [
    {
     "name": "stdout",
     "output_type": "stream",
     "text": [
      "\n",
      "############################## Finding new triples ##############################\n",
      "\n",
      "Using the following relations: ['/music/genre/artists', '/organization/role/leaders./organization/leadership/organization', '/organization/organization/place_founded', '/olympics/olympic_participating_country/athletes./olympics/olympic_athlete_affiliation/olympics', '/location/country/second_level_divisions', '/broadcast/content/artist', '/film/film/country', '/film/film/other_crew./film/film_crew_gig/crewmember', '/film/film/prequel', '/sports/sports_team/roster./baseball/baseball_roster_position/position', '/sports/professional_sports_team/draft_picks./sports/sports_league_draft_pick/school', '/film/actor/dubbing_performances./film/dubbing_performance/language', '/award/award_nominee/award_nominations./award/award_nomination/award', '/base/eating/practicer_of_diet/diet', '/film/film/distributors./film/film_film_distributor_relationship/film_distribution_medium']\n"
     ]
    },
    {
     "name": "stderr",
     "output_type": "stream",
     "text": [
      "Outer loop (on relations): 100%|██████████| 15/15 [00:03<00:00,  3.98it/s]\n"
     ]
    },
    {
     "name": "stdout",
     "output_type": "stream",
     "text": [
      "\n",
      "*********************** Number of initial candidate triples: 2399959 ***********************\n",
      "\n",
      "\n",
      "############################## Getting highest scoring triples from Pykeen TransE embeddings ##############################\n",
      "\n",
      "All scores:  tensor([0.2236, 0.2525, 0.3567,  ..., 0.3798, 0.2879, 0.3472],\n",
      "       dtype=torch.float64)\n",
      "Max score:  tensor(0.9906, dtype=torch.float64)\n",
      "\n",
      "*********************** Number of suggested triples with score >= 0.8: 133952 ***********************\n",
      "\n",
      "\n",
      "********************\n",
      "Storing new triples\n",
      "********************\n",
      "Done !\n"
     ]
    }
   ],
   "source": [
    "%run -i 'predict_new_links.py' --kg fb15k --model TransE --max_num_entities 400 --store_triples True --max_num_relations 15"
   ]
  },
  {
   "cell_type": "code",
   "execution_count": null,
   "id": "horizontal-coral",
   "metadata": {},
   "outputs": [],
   "source": []
  },
  {
   "cell_type": "markdown",
   "id": "interracial-billion",
   "metadata": {},
   "source": [
    "## Perform link prediction using Distmult"
   ]
  },
  {
   "cell_type": "code",
   "execution_count": 7,
   "id": "unexpected-plaza",
   "metadata": {},
   "outputs": [
    {
     "name": "stdout",
     "output_type": "stream",
     "text": [
      "\n",
      "############################## Finding new triples ##############################\n",
      "\n",
      "Target relations: ['DGIDB::INHIBITOR::Gene:Compound', 'DRUGBANK::treats::Compound:Disease', 'GNBR::C::Compound:Disease', 'GNBR::Pa::Compound:Disease', 'GNBR::Pr::Compound:Disease', 'GNBR::T::Compound:Disease', 'Hetionet::CpD::Compound:Disease', 'Hetionet::CtD::Compound:Disease']\n"
     ]
    },
    {
     "name": "stderr",
     "output_type": "stream",
     "text": [
      "Outer loop (on relations): 100%|██████████| 8/8 [00:02<00:00,  3.96it/s]\n"
     ]
    },
    {
     "name": "stdout",
     "output_type": "stream",
     "text": [
      "\n",
      "*********************** Number of initial candidate triples: 1280000 ***********************\n",
      "\n",
      "\n",
      "############################## Getting highest scoring triples from Pykeen Distmult embeddings ##############################\n",
      "\n",
      "All scores:  tensor([0.5002, 0.5002, 0.5002,  ..., 0.5933, 0.5919, 0.5902],\n",
      "       dtype=torch.float64)\n",
      "Max score:  tensor(0.6089, dtype=torch.float64)\n",
      "\n",
      "*********************** Number of suggested triples with score >= 0.6: 149377 ***********************\n",
      "\n",
      "\n",
      "********************\n",
      "Storing new triples\n",
      "********************\n",
      "Done !\n"
     ]
    }
   ],
   "source": [
    "%run -i 'predict_new_links.py' --kg drkg --model Distmult --target_relations \":Pr:\" \":treats:\"\\\n",
    " \":T:\" \":C:\" \":Pa:\" \":CpD:\" \":CtD:\" \":INHIBITOR:\" --max_num_entities 400 --store_triples True --min_score 0.60"
   ]
  },
  {
   "cell_type": "code",
   "execution_count": 9,
   "id": "charming-tongue",
   "metadata": {},
   "outputs": [
    {
     "name": "stdout",
     "output_type": "stream",
     "text": [
      "\n",
      "############################## Finding new triples ##############################\n",
      "\n",
      "Using the following relations: ['GENE_GO', 'GENE_PHENOTYPE', 'GENE_PATHWAY', 'GENE_OVEREXPRESSED_ANATOMY', 'GENE_EXPRESSED_ANATOMY', 'DRUG_BINDINH_GENE', 'GENE_PTMOD_GENE', 'DRUG_REACTION_GENE', 'GENE_BINDING_GENE', 'GENE_INHIBITION_GENE', 'DRUG_PHENOTYPE', 'DIS_PHENOTYPE', 'DRUG_BINDACT_GENE', 'DRUG_BINDING_GENE', 'DRUG_ACTIVATION_GENE']\n"
     ]
    },
    {
     "name": "stderr",
     "output_type": "stream",
     "text": [
      "Outer loop (on relations): 100%|██████████| 15/15 [00:01<00:00, 14.75it/s]\n"
     ]
    },
    {
     "name": "stdout",
     "output_type": "stream",
     "text": [
      "\n",
      "*********************** Number of initial candidate triples: 599999 ***********************\n",
      "\n",
      "\n",
      "############################## Getting highest scoring triples from Pykeen Distmult embeddings ##############################\n",
      "\n",
      "All scores:  tensor([0.6123, 0.6163, 0.6154,  ..., 0.6093, 0.6080, 0.6086],\n",
      "       dtype=torch.float64)\n",
      "Max score:  tensor(0.8171, dtype=torch.float64)\n",
      "\n",
      "*********************** Number of suggested triples with score >= 0.81: 142612 ***********************\n",
      "\n",
      "\n",
      "********************\n",
      "Storing new triples\n",
      "********************\n",
      "Done !\n"
     ]
    }
   ],
   "source": [
    "%run -i 'predict_new_links.py' --kg openbiolink --model Distmult --max_num_entities 200 --store_triples True --min_score 0.81 --max_num_relations 15"
   ]
  },
  {
   "cell_type": "code",
   "execution_count": 10,
   "id": "enhanced-instrument",
   "metadata": {},
   "outputs": [
    {
     "name": "stdout",
     "output_type": "stream",
     "text": [
      "\n",
      "############################## Finding new triples ##############################\n",
      "\n",
      "Using the following relations: ['carcinogenesis#salmonella_n', 'rdf-schema#range', 'rdf-schema#domain', 'owl#disjointWith', 'carcinogenesis#micronuc_m', 'carcinogenesis#cytogen_ca', 'carcinogenesis#salmonella_reduc', 'carcinogenesis#hasAtom', 'carcinogenesis#hasStructure', 'rdf-schema#subClassOf', 'carcinogenesis#isMutagenic', 'carcinogenesis#inBond', 'carcinogenesis#chromex', '22-rdf-syntax-ns#type', 'carcinogenesis#amesTestPositive']\n"
     ]
    },
    {
     "name": "stderr",
     "output_type": "stream",
     "text": [
      "Outer loop (on relations): 100%|██████████| 15/15 [00:03<00:00,  4.66it/s]\n"
     ]
    },
    {
     "name": "stdout",
     "output_type": "stream",
     "text": [
      "\n",
      "*********************** Number of initial candidate triples: 2399996 ***********************\n",
      "\n",
      "\n",
      "############################## Getting highest scoring triples from Pykeen Distmult embeddings ##############################\n",
      "\n",
      "All scores:  tensor([0.5530, 0.5495, 0.5592,  ..., 0.5715, 0.5915, 0.5464],\n",
      "       dtype=torch.float64)\n",
      "Max score:  tensor(0.7782, dtype=torch.float64)\n",
      "\n",
      "*********************** Number of suggested triples with score >= 0.7: 162 ***********************\n",
      "\n",
      "\n",
      "********************\n",
      "Storing new triples\n",
      "********************\n",
      "Done !\n"
     ]
    }
   ],
   "source": [
    "%run -i 'predict_new_links.py' --kg carcinogenesis --model Distmult --max_num_entities 400 --store_triples True --min_score 0.7 --max_num_relations 15"
   ]
  },
  {
   "cell_type": "code",
   "execution_count": 12,
   "id": "referenced-mexico",
   "metadata": {},
   "outputs": [
    {
     "name": "stdout",
     "output_type": "stream",
     "text": [
      "\n",
      "############################## Finding new triples ##############################\n",
      "\n",
      "Using the following relations: ['mutagenesis#logp', 'rdf-schema#domain', 'mutagenesis#lumo', 'rdf-schema#range', 'mutagenesis#hasThreeOrMoreFusedRings', 'mutagenesis#charge', 'rdf-schema#subClassOf', 'mutagenesis#inBond', 'mutagenesis#hasStructure', 'mutagenesis#hasFifeExamplesOfAcenthrylenes', 'mutagenesis#hasBond', '22-rdf-syntax-ns#type', 'mutagenesis#hasAtom', 'mutagenesis#act']\n"
     ]
    },
    {
     "name": "stderr",
     "output_type": "stream",
     "text": [
      "Outer loop (on relations): 100%|██████████| 14/14 [00:02<00:00,  4.80it/s]\n"
     ]
    },
    {
     "name": "stdout",
     "output_type": "stream",
     "text": [
      "\n",
      "*********************** Number of initial candidate triples: 2239984 ***********************\n",
      "\n",
      "\n",
      "############################## Getting highest scoring triples from Pykeen Distmult embeddings ##############################\n",
      "\n",
      "All scores:  tensor([0.5001, 0.5001, 0.5001,  ..., 0.5001, 0.5001, 0.5001],\n",
      "       dtype=torch.float64)\n",
      "Max score:  tensor(0.5903, dtype=torch.float64)\n",
      "\n",
      "*********************** Number of suggested triples with score >= 0.55: 3146 ***********************\n",
      "\n",
      "\n",
      "********************\n",
      "Storing new triples\n",
      "********************\n",
      "Done !\n"
     ]
    }
   ],
   "source": [
    "%run -i 'predict_new_links.py' --kg mutagenesis --model Distmult --max_num_entities 400 --store_triples True --min_score 0.55 --max_num_relations 15"
   ]
  },
  {
   "cell_type": "code",
   "execution_count": 14,
   "id": "activated-former",
   "metadata": {},
   "outputs": [
    {
     "name": "stdout",
     "output_type": "stream",
     "text": [
      "\n",
      "############################## Finding new triples ##############################\n",
      "\n",
      "Using the following relations: ['_synset_domain_topic_of', '_member_of_domain_usage', '_has_part', '_verb_group', '_similar_to', '_member_of_domain_region', '_member_meronym', '_instance_hypernym', '_also_see', '_hypernym', '_derivationally_related_form']\n"
     ]
    },
    {
     "name": "stderr",
     "output_type": "stream",
     "text": [
      "Outer loop (on relations): 100%|██████████| 11/11 [00:02<00:00,  4.65it/s]\n"
     ]
    },
    {
     "name": "stdout",
     "output_type": "stream",
     "text": [
      "\n",
      "*********************** Number of initial candidate triples: 1759995 ***********************\n",
      "\n",
      "\n",
      "############################## Getting highest scoring triples from Pykeen Distmult embeddings ##############################\n",
      "\n",
      "All scores:  tensor([0.5000, 0.5000, 0.5000,  ..., 0.5000, 0.5000, 0.5000],\n",
      "       dtype=torch.float64)\n",
      "Max score:  tensor(0.5845, dtype=torch.float64)\n",
      "\n",
      "*********************** Number of suggested triples with score >= 0.58: 68 ***********************\n",
      "\n",
      "\n",
      "********************\n",
      "Storing new triples\n",
      "********************\n",
      "Done !\n"
     ]
    }
   ],
   "source": [
    "%run -i 'predict_new_links.py' --kg wn18rr --model Distmult --max_num_entities 400 --store_triples True --min_score 0.58 --max_num_relations 15"
   ]
  },
  {
   "cell_type": "code",
   "execution_count": 17,
   "id": "signal-breakfast",
   "metadata": {},
   "outputs": [
    {
     "name": "stdout",
     "output_type": "stream",
     "text": [
      "\n",
      "############################## Finding new triples ##############################\n",
      "\n",
      "Using the following relations: ['owns', 'hasCapital', 'wroteMusicFor', 'hasWonPrize', 'isCitizenOf', 'participatedIn', 'isLeaderOf', 'isKnownFor', 'happenedIn', 'created', 'diedIn', 'hasAcademicAdvisor', 'edited', 'playsFor', 'hasWebsite']\n"
     ]
    },
    {
     "name": "stderr",
     "output_type": "stream",
     "text": [
      "Outer loop (on relations): 100%|██████████| 15/15 [00:03<00:00,  4.44it/s]\n"
     ]
    },
    {
     "name": "stdout",
     "output_type": "stream",
     "text": [
      "\n",
      "*********************** Number of initial candidate triples: 2399997 ***********************\n",
      "\n",
      "\n",
      "############################## Getting highest scoring triples from Pykeen Distmult embeddings ##############################\n",
      "\n",
      "All scores:  tensor([0.5802, 0.5836, 0.5668,  ..., 0.5718, 0.5563, 0.5502],\n",
      "       dtype=torch.float64)\n",
      "Max score:  tensor(0.7454, dtype=torch.float64)\n",
      "\n",
      "*********************** Number of suggested triples with score >= 0.7: 725 ***********************\n",
      "\n",
      "\n",
      "********************\n",
      "Storing new triples\n",
      "********************\n",
      "Done !\n"
     ]
    }
   ],
   "source": [
    "%run -i 'predict_new_links.py' --kg yago3 --model Distmult --max_num_entities 400 --store_triples True --min_score 0.7 --max_num_relations 15"
   ]
  },
  {
   "cell_type": "code",
   "execution_count": 19,
   "id": "surface-harmony",
   "metadata": {},
   "outputs": [
    {
     "name": "stdout",
     "output_type": "stream",
     "text": [
      "\n",
      "############################## Finding new triples ##############################\n",
      "\n",
      "Using the following relations: ['/music/genre/artists', '/organization/role/leaders./organization/leadership/organization', '/organization/organization/place_founded', '/olympics/olympic_participating_country/athletes./olympics/olympic_athlete_affiliation/olympics', '/location/country/second_level_divisions', '/broadcast/content/artist', '/film/film/country', '/film/film/other_crew./film/film_crew_gig/crewmember', '/film/film/prequel', '/sports/sports_team/roster./baseball/baseball_roster_position/position', '/sports/professional_sports_team/draft_picks./sports/sports_league_draft_pick/school', '/film/actor/dubbing_performances./film/dubbing_performance/language', '/award/award_nominee/award_nominations./award/award_nomination/award', '/base/eating/practicer_of_diet/diet', '/film/film/distributors./film/film_film_distributor_relationship/film_distribution_medium']\n"
     ]
    },
    {
     "name": "stderr",
     "output_type": "stream",
     "text": [
      "Outer loop (on relations): 100%|██████████| 15/15 [00:03<00:00,  4.80it/s]\n"
     ]
    },
    {
     "name": "stdout",
     "output_type": "stream",
     "text": [
      "\n",
      "*********************** Number of initial candidate triples: 2399959 ***********************\n",
      "\n",
      "\n",
      "############################## Getting highest scoring triples from Pykeen Distmult embeddings ##############################\n",
      "\n",
      "All scores:  tensor([0.5000, 0.5000, 0.5000,  ..., 0.5003, 0.5003, 0.5003],\n",
      "       dtype=torch.float64)\n",
      "Max score:  tensor(0.8793, dtype=torch.float64)\n",
      "\n",
      "*********************** Number of suggested triples with score >= 0.85: 1818 ***********************\n",
      "\n",
      "\n",
      "********************\n",
      "Storing new triples\n",
      "********************\n",
      "Done !\n"
     ]
    }
   ],
   "source": [
    "%run -i 'predict_new_links.py' --kg fb15k --model Distmult --max_num_entities 400 --store_triples True --min_score 0.85 --max_num_relations 15"
   ]
  },
  {
   "cell_type": "code",
   "execution_count": 2,
   "id": "north-semester",
   "metadata": {},
   "outputs": [],
   "source": [
    "#Disease and treatment related relations: \"Compound:Disease\" \"Disease:Compound\" \"Gene:Disease\" \"Disease:Gene\""
   ]
  },
  {
   "cell_type": "markdown",
   "id": "optional-vinyl",
   "metadata": {},
   "source": [
    "# Target relations for DRKG"
   ]
  },
  {
   "cell_type": "markdown",
   "id": "martial-cleaning",
   "metadata": {},
   "source": [
    "### Pr, treats, T, C, Pa, CpD, CtD"
   ]
  },
  {
   "cell_type": "markdown",
   "id": "copyrighted-recorder",
   "metadata": {},
   "source": [
    "1.) Run rule learning algorithms: AMIE+ and anyBURL to predict rules.\n",
    "\n",
    "2.) Do link prediction using Pr, treats, T, C, Pa, CpD, CtD, INHIBITOR\n",
    "\n",
    "3.) Enrich the KGs\n",
    "\n",
    "4.) Run rule learning algorithms: AMIE+ and anyBURL to predict rules again\n",
    "\n",
    "5.) Compare 1.) and 4.)"
   ]
  },
  {
   "cell_type": "code",
   "execution_count": null,
   "id": "acquired-bradley",
   "metadata": {},
   "outputs": [],
   "source": []
  },
  {
   "cell_type": "markdown",
   "id": "jewish-firmware",
   "metadata": {},
   "source": [
    "### Interesting rules with AnyBURL "
   ]
  },
  {
   "cell_type": "markdown",
   "id": "pregnant-wrestling",
   "metadata": {},
   "source": [
    "1) GNBR::T::Compound:Disease(X,Disease::MESH:D005764) <= DRUGBANK::treats::Compound:Disease(X,Disease::MESH:D005764)\n",
    "\n",
    "Explanation 1) If some compound X treats disease MESH:D005764 then X also Ts MESH:D005764  \n",
    "\n",
    "2) DRUGBANK::treats::Compound:Disease(Compound::DB01229,Y) <= Hetionet::DaG::Disease:Gene(Y,Gene::8516)\n",
    "\n",
    "3) GNBR::T::Compound:Disease(Compound::DB00257,Y) <= DRUGBANK::treats::Compound:Disease(Compound::DB06820,Y)\n",
    "\n",
    "4) DRUGBANK::treats::Compound:Disease(Compound::DB00297,Y) <= DRUGBANK::treats::Compound:Disease(Compound::DB01234,Y) \n",
    "\n",
    "Explanation 4) If the compound DB01234 treats some disease Y then the compound DB00297 also treats disease Y.\n"
   ]
  },
  {
   "cell_type": "markdown",
   "id": "controlled-bunny",
   "metadata": {},
   "source": [
    "## Surprising rules"
   ]
  },
  {
   "cell_type": "markdown",
   "id": "comfortable-entry",
   "metadata": {},
   "source": [
    "DRUGBANK::treats::Compound:Disease(X,Disease::MESH:D009798) <= Hetionet::CcSE::Compound:Side Effect(X,A), confidence 1.69%\n",
    "\n",
    "Any drug with side effects can treat MESH:D009798"
   ]
  },
  {
   "cell_type": "code",
   "execution_count": null,
   "id": "sharing-beatles",
   "metadata": {},
   "outputs": [],
   "source": []
  }
 ],
 "metadata": {
  "kernelspec": {
   "display_name": "secondment",
   "language": "python",
   "name": "secondment"
  },
  "language_info": {
   "codemirror_mode": {
    "name": "ipython",
    "version": 3
   },
   "file_extension": ".py",
   "mimetype": "text/x-python",
   "name": "python",
   "nbconvert_exporter": "python",
   "pygments_lexer": "ipython3",
   "version": "3.9.7"
  }
 },
 "nbformat": 4,
 "nbformat_minor": 5
}
