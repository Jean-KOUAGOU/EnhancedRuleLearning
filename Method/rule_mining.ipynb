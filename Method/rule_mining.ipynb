{
 "cells": [
  {
   "cell_type": "markdown",
   "id": "charged-victoria",
   "metadata": {},
   "source": [
    "### Sort AMIE rules"
   ]
  },
  {
   "cell_type": "code",
   "execution_count": 1,
   "id": "reflected-biotechnology",
   "metadata": {},
   "outputs": [],
   "source": [
    "def sort_and_store_amie_rules(in_path, out_path):\n",
    "    with open(in_path) as file:\n",
    "        amie_rules = file.readlines()\n",
    "# Copying AMIE details (head lines)\n",
    "    heading = []\n",
    "    i = 0\n",
    "    while True:\n",
    "        line = amie_rules[i]\n",
    "        i += 1\n",
    "        if line.startswith(\"?\"):\n",
    "            break\n",
    "        heading.append(line)\n",
    "# Filter and sort rules w.r.t. Partial Compleness Assumption (PCA) confidence\n",
    "    amie_rules = list(filter(lambda x: x.startswith(\"?\"), amie_rules))\n",
    "    amie_rules = sorted(amie_rules, key=lambda x: x.split(\"\\t\")[3], reverse=True)\n",
    "    print(\"\\nFound {} rules\".format(len(amie_rules)))\n",
    "# Store sorted rules\n",
    "    with open(out_path, \"w\") as file:\n",
    "        file.writelines(heading+amie_rules)"
   ]
  },
  {
   "cell_type": "code",
   "execution_count": 10,
   "id": "continued-wages",
   "metadata": {},
   "outputs": [
    {
     "name": "stdout",
     "output_type": "stream",
     "text": [
      "\n",
      "Found 4329 rules\n"
     ]
    }
   ],
   "source": [
    "sort_and_store_amie_rules(\"./amie/out_amie_v3_sameAs_v1.txt\", \"./amie/amie_sorted_rules_v3.txt\")"
   ]
  },
  {
   "cell_type": "code",
   "execution_count": 3,
   "id": "warming-conspiracy",
   "metadata": {},
   "outputs": [
    {
     "name": "stdout",
     "output_type": "stream",
     "text": [
      "\n",
      "Found 4361 rules\n"
     ]
    }
   ],
   "source": [
    "sort_and_store_amie_rules(\"./amie/out_amie_v2.txt\", \"./amie/amie_sorted_rules_v2.txt\")"
   ]
  },
  {
   "cell_type": "markdown",
   "id": "fourth-neutral",
   "metadata": {},
   "source": [
    "### Sort AnyBURL rules"
   ]
  },
  {
   "cell_type": "markdown",
   "id": "revolutionary-gospel",
   "metadata": {},
   "source": [
    "java -Xmx3G -cp AnyBURL-RE.jar de.unima.ki.anyburl.LearnReinforced config-wn.properties\n",
    "\n",
    "java -Xmx3G -cp AnyBURL-RE.jar de.unima.ki.anyburl.Apply config-apply.properties\n",
    "\n",
    "java -Xmx3G -cp AnyBURL-RE.jar de.unima.ki.anyburl.Eval config-eval.properties"
   ]
  },
  {
   "cell_type": "code",
   "execution_count": 65,
   "id": "continuous-wireless",
   "metadata": {},
   "outputs": [],
   "source": [
    "def sort_and_store_anyBURL_rules(in_path, out_path):\n",
    "    with open(in_path) as file:\n",
    "        anyBURL_rules = file.readlines()\n",
    "# Filter and sort rules w.r.t. confidence\n",
    "#    anyBURL_rules = list(filter(lambda x: x.split(\"<=\")[-1].strip() != \"\", anyBURL_rules))\n",
    "    anyBURL_rules = sorted(anyBURL_rules, key=lambda x: x.split(\"\\t\")[2], reverse=True)\n",
    "    print(\"\\nFound {} rules\".format(len(anyBURL_rules)))\n",
    "# Store sorted rules\n",
    "    with open(out_path, \"w\") as file:\n",
    "        file.writelines(anyBURL_rules)"
   ]
  },
  {
   "cell_type": "code",
   "execution_count": null,
   "id": "minus-bleeding",
   "metadata": {},
   "outputs": [],
   "source": [
    "#sort_and_store_anyBURL_rules(\"./anyBURL/rules/alpha-100\", \"./anyBURL/rules/sorted_rules_v1\")"
   ]
  },
  {
   "cell_type": "code",
   "execution_count": null,
   "id": "unknown-nutrition",
   "metadata": {},
   "outputs": [],
   "source": []
  },
  {
   "cell_type": "markdown",
   "id": "dependent-letters",
   "metadata": {},
   "source": [
    "### Rule learning with enriched KGs"
   ]
  },
  {
   "cell_type": "code",
   "execution_count": null,
   "id": "instant-wichita",
   "metadata": {},
   "outputs": [],
   "source": []
  },
  {
   "cell_type": "markdown",
   "id": "preliminary-gambling",
   "metadata": {},
   "source": [
    "#### Link prediction with AnyBURL-RE\n",
    "\n",
    "WN18RR `Hits@1: 0.4693 Hits@10: 0.5265 MRR: 0.5936`\n",
    "\n",
    "FB15K `Hits@1: 0.2779  Hits@10: 0.4241 MRR: 0.5689`\n",
    "\n",
    "Mutagenesis: `Hits@1: 0.4772  Hits@10: 0.5473 MRR: 0.6394`\n",
    "\n",
    "Carcinogenesis: `Hits@1: 0.4834 Hits@10: 0.5330 MRR: 0.6300`\n",
    "\n",
    "YAGO3: `Hits@1: 0.3608 Hits@10: 0.4415 MRR: 0.5249` "
   ]
  },
  {
   "cell_type": "code",
   "execution_count": null,
   "id": "impressive-checkout",
   "metadata": {},
   "outputs": [],
   "source": []
  },
  {
   "cell_type": "markdown",
   "id": "prescribed-concrete",
   "metadata": {},
   "source": [
    "#### After enriching KG\n",
    "\n",
    "WN18RR `Hits@1: 0.4674 Hits@10: 0.5240 MRR: 0.5933`        \n",
    "\n",
    "FB15K `Hits@1: 0.2769   0.4210   0.5649` \n",
    "\n",
    "Mutagenesis: `Hits@1: 0.4747  Hits@10: 0.5463 MRR: 0.6374` \n",
    "\n",
    "Carcinogenesis: `Hits@1:0.4447 Hits@10: 0.5056 MRR: 0.5949`\n",
    "\n",
    "YAGO3: `Hits@1: 0.3718 Hits@10: 0.4572 MRR: 0.5307`\n"
   ]
  },
  {
   "cell_type": "markdown",
   "id": "green-budapest",
   "metadata": {},
   "source": [
    "### Counting new rules and lost rules"
   ]
  },
  {
   "cell_type": "code",
   "execution_count": 1,
   "id": "sharp-tunisia",
   "metadata": {},
   "outputs": [],
   "source": [
    "def compare_rules_anyburl(before_enrich_rules, after_enrich_rules, min_score=0.0):\n",
    "    with open(before_enrich_rules) as file:\n",
    "        rules_1 = list(filter(lambda x: float(x.split('\\t')[2])>=min_score, file.readlines()))\n",
    "        rules_1 = set(list(map(lambda x: x.split('\\t')[-1].strip('\\n'), rules_1)))\n",
    "    with open(after_enrich_rules) as file:\n",
    "        rules_2 = list(filter(lambda x: float(x.split('\\t')[2])>=min_score, file.readlines()))\n",
    "        rules_2 = set(list(map(lambda x: x.split('\\t')[-1].strip('\\n'), rules_2)))\n",
    "        \n",
    "    new_rules = rules_2-rules_1\n",
    "    \n",
    "    dropped_rules = rules_1-rules_2\n",
    "    \n",
    "    same_rules = rules_1.intersection(rules_2)\n",
    "    \n",
    "    print(f'There were {len(rules_1)} rules before, there are {len(rules_2)} after enrichment')\n",
    "    print()\n",
    "    print(f'There are {len(same_rules)} same rules, {len(new_rules)} new rules, {len(dropped_rules)} dropped rules')\n",
    "    \n",
    "    return same_rules, rules_1, rules_2, new_rules, dropped_rules"
   ]
  },
  {
   "cell_type": "code",
   "execution_count": 85,
   "id": "portuguese-financing",
   "metadata": {},
   "outputs": [
    {
     "name": "stdout",
     "output_type": "stream",
     "text": [
      "There were 35164 rules before, there are 40539 after enrichment\n",
      "\n",
      "There are 30542 same rules, 9997 new rules, 4622 dropped rules\n"
     ]
    }
   ],
   "source": [
    "same_rules_wn18rr, rules_before_wn18rr, rules_after_wn18rr, new_rules_anyburl_wn18rr, dropped_rules_anyburl_wn18rr = compare_rules_anyburl('AnyBURL/rules_wn18rr/alpha-500', 'AnyTrans/rules_wn18rr/alpha-500')"
   ]
  },
  {
   "cell_type": "code",
   "execution_count": 86,
   "id": "warming-building",
   "metadata": {},
   "outputs": [
    {
     "name": "stdout",
     "output_type": "stream",
     "text": [
      "There were 269660 rules before, there are 125910 after enrichment\n",
      "\n",
      "There are 42533 same rules, 83377 new rules, 227127 dropped rules\n"
     ]
    }
   ],
   "source": [
    "same_rules_mut, rules_before_mut, rules_after_mut, new_rules_anyburl_mut, dropped_rules_anyburl_mut = compare_rules_anyburl('AnyBURL/rules_mutagenesis/alpha-500', 'AnyTrans/rules_mutagenesis/alpha-500')"
   ]
  },
  {
   "cell_type": "code",
   "execution_count": 87,
   "id": "serious-uncle",
   "metadata": {},
   "outputs": [
    {
     "name": "stdout",
     "output_type": "stream",
     "text": [
      "There were 177924 rules before, there are 101030 after enrichment\n",
      "\n",
      "There are 45682 same rules, 55348 new rules, 132242 dropped rules\n"
     ]
    }
   ],
   "source": [
    "same_rules_car, rules_before_car, rules_after_car, new_rules_anyburl_car, dropped_rules_anyburl_car = compare_rules_anyburl('AnyBURL/rules_carcinogenesis/alpha-500', 'AnyTrans/rules_carcinogenesis/alpha-500')"
   ]
  },
  {
   "cell_type": "code",
   "execution_count": 88,
   "id": "breeding-routine",
   "metadata": {},
   "outputs": [
    {
     "name": "stdout",
     "output_type": "stream",
     "text": [
      "There were 1414568 rules before, there are 2000603 after enrichment\n",
      "\n",
      "There are 648984 same rules, 1351619 new rules, 765584 dropped rules\n"
     ]
    }
   ],
   "source": [
    "same_rules_fb, rules_before_fb, rules_after_fb, new_rules_anyburl_fb, dropped_rules_anyburl_fb = compare_rules_anyburl('AnyBURL/rules_fb15k/alpha-500', 'AnyTrans/rules_fb15k/alpha-500')"
   ]
  },
  {
   "cell_type": "code",
   "execution_count": 89,
   "id": "combined-characterization",
   "metadata": {},
   "outputs": [
    {
     "name": "stdout",
     "output_type": "stream",
     "text": [
      "There were 852324 rules before, there are 732241 after enrichment\n",
      "\n",
      "There are 241359 same rules, 490882 new rules, 610965 dropped rules\n"
     ]
    }
   ],
   "source": [
    "same_rules_yago, rules_before_yago, rules_after_yago, new_rules_anyburl_yago, dropped_rules_anyburl_yago = compare_rules_anyburl('AnyBURL/rules_yago3/alpha-500', 'AnyTrans/rules_yago3/alpha-500')"
   ]
  },
  {
   "cell_type": "code",
   "execution_count": 90,
   "id": "included-innocent",
   "metadata": {},
   "outputs": [
    {
     "name": "stdout",
     "output_type": "stream",
     "text": [
      "There were 1573497 rules before, there are 1417026 after enrichment\n",
      "\n",
      "There are 389627 same rules, 1027399 new rules, 1183870 dropped rules\n"
     ]
    }
   ],
   "source": [
    "same_rules_drkg, rules_before_drkg, rules_after_drkg, new_rules_anyburl_drkg, dropped_rules_anyburl_drkg = compare_rules_anyburl('AnyBURL/rules_drkg/alpha-500', 'AnyTrans/rules_drkg/alpha-500')"
   ]
  },
  {
   "cell_type": "code",
   "execution_count": 91,
   "id": "developing-jungle",
   "metadata": {},
   "outputs": [
    {
     "name": "stdout",
     "output_type": "stream",
     "text": [
      "There were 402256 rules before, there are 448267 after enrichment\n",
      "\n",
      "There are 278572 same rules, 169695 new rules, 123684 dropped rules\n"
     ]
    }
   ],
   "source": [
    "same_rules_obl, rules_before_obl, rules_after_obl, new_rules_anyburl_obl, dropped_rules_anyburl_obl = compare_rules_anyburl('AnyBURL/rules_openbiolink/alpha-500', 'AnyTrans/rules_openbiolink/alpha-500')"
   ]
  },
  {
   "cell_type": "code",
   "execution_count": null,
   "id": "seeing-shield",
   "metadata": {},
   "outputs": [],
   "source": []
  },
  {
   "cell_type": "markdown",
   "id": "embedded-physiology",
   "metadata": {},
   "source": [
    "### AMIE+"
   ]
  },
  {
   "cell_type": "code",
   "execution_count": 13,
   "id": "loaded-extra",
   "metadata": {},
   "outputs": [],
   "source": [
    "def compare_rules_amie(rules_before, rules_after):\n",
    "    with open(rules_before) as file:\n",
    "        Rules_1 = file.read().strip().split('\\n')\n",
    "    with open(rules_after) as file:\n",
    "        Rules_2 = file.read().strip().split('\\n')\n",
    "    rules_1 = list(filter(lambda x: x.startswith(\"?\"), Rules_1))\n",
    "    rules_2 = list(filter(lambda x: x.startswith(\"?\"), Rules_2))\n",
    "    Rules_1 = set(map(lambda x: x.split('\\t')[0], rules_1))\n",
    "    Rules_2 = set(map(lambda x: x.split('\\t')[0], rules_2))\n",
    "    \n",
    "    new_rules = Rules_2-Rules_1\n",
    "    \n",
    "    dropped_rules = Rules_1-Rules_2\n",
    "    \n",
    "    same_rules = Rules_1.intersection(Rules_2)\n",
    "    \n",
    "    new_rules = sorted(filter(lambda x: x.split('\\t')[0] in new_rules, rules_2),key=lambda t: float(t.split('\\t')[3]), reverse=True)\n",
    "    dropped_rules = sorted(filter(lambda x: x.split('\\t')[0] in dropped_rules, rules_1),key=lambda t: float(t.split('\\t')[3]), reverse=True)\n",
    "    same_rules = sorted(filter(lambda x: x.split('\\t')[0] in same_rules, rules_1),key=lambda t: float(t.split('\\t')[3]), reverse=True)\n",
    "    rules_1 = sorted(rules_1, key=lambda t: float(t.split('\\t')[3]), reverse=True)\n",
    "    rules_2 = sorted(rules_2, key=lambda t: float(t.split('\\t')[3]), reverse=True)\n",
    "    \n",
    "    print(f'There were {len(Rules_1)} rules before, there are {len(Rules_2)} after enrichment')\n",
    "    print()\n",
    "    print(f'There are {len(same_rules)} same rules, {len(new_rules)} new rules, {len(dropped_rules)} dropped rules')\n",
    "    \n",
    "    #print('\\nNew rules', new_rules)\n",
    "    #print('\\nDropped rules', dropped_rules)\n",
    "    return same_rules, rules_1, rules_2, new_rules, dropped_rules"
   ]
  },
  {
   "cell_type": "markdown",
   "id": "treated-zimbabwe",
   "metadata": {},
   "source": [
    "## WN18RR"
   ]
  },
  {
   "cell_type": "code",
   "execution_count": 14,
   "id": "rural-transsexual",
   "metadata": {},
   "outputs": [
    {
     "name": "stdout",
     "output_type": "stream",
     "text": [
      "There were 34 rules before, there are 90 after enrichment\n",
      "\n",
      "There are 24 same rules, 66 new rules, 10 dropped rules\n"
     ]
    }
   ],
   "source": [
    "same_rules_amie_wn18rr, rules_amie_before_wn18rr, rules_amie_after_wn18rr, \\\n",
    "new_rules_amie_wn18rr, dropped_rules_amie_wn18rr = compare_rules_amie('AMIE/rules_wn18rr/rules.txt', 'TransAMIE/rules_wn18rr/rules.txt')"
   ]
  },
  {
   "cell_type": "code",
   "execution_count": 16,
   "id": "invalid-pantyhose",
   "metadata": {},
   "outputs": [
    {
     "data": {
      "text/plain": [
       "['?b  _verb_group  ?a   => ?a  _verb_group  ?b\\t0.931458699\\t0.931458699\\t0.980573543\\t1060\\t1138\\t1081\\t?b',\n",
       " '?b  _derivationally_related_form  ?a   => ?a  _derivationally_related_form  ?b\\t0.932222783\\t0.932222783\\t0.95163008\\t27701\\t29715\\t29109\\t?b',\n",
       " '?b  _also_see  ?a   => ?a  _also_see  ?b\\t0.637413395\\t0.637413395\\t0.883671291\\t828\\t1299\\t937\\t?b',\n",
       " '?a  _instance_hypernym  ?h  ?h  _synset_domain_topic_of  ?b   => ?a  _synset_domain_topic_of  ?b\\t0.032092426\\t0.395256917\\t0.862068966\\t100\\t253\\t116\\t?a',\n",
       " '?a  _hypernym  ?h  ?h  _synset_domain_topic_of  ?b   => ?a  _synset_domain_topic_of  ?b\\t0.178754814\\t0.285056295\\t0.809593023\\t557\\t1954\\t688\\t?a',\n",
       " '?a  _has_part  ?h  ?h  _synset_domain_topic_of  ?b   => ?a  _synset_domain_topic_of  ?b\\t0.013478819\\t0.259259259\\t0.79245283\\t42\\t162\\t53\\t?a',\n",
       " '?b  _hypernym  ?h  ?a  _member_of_domain_usage  ?h   => ?a  _member_of_domain_usage  ?b\\t0.049284579\\t0.196202532\\t0.756097561\\t31\\t158\\t41\\t?b',\n",
       " '?g  _has_part  ?a  ?g  _synset_domain_topic_of  ?b   => ?a  _synset_domain_topic_of  ?b\\t0.018934531\\t0.239837398\\t0.746835443\\t59\\t246\\t79\\t?a',\n",
       " '?b  _hypernym  ?h  ?a  _member_of_domain_region  ?h   => ?a  _member_of_domain_region  ?b\\t0.015167931\\t0.237288136\\t0.736842105\\t14\\t59\\t19\\t?b',\n",
       " '?g  _hypernym  ?a  ?g  _synset_domain_topic_of  ?b   => ?a  _synset_domain_topic_of  ?b\\t0.088254172\\t0.145348837\\t0.721784777\\t275\\t1892\\t381\\t?a']"
      ]
     },
     "execution_count": 16,
     "metadata": {},
     "output_type": "execute_result"
    }
   ],
   "source": [
    "same_rules_amie_wn18rr[:10]"
   ]
  },
  {
   "cell_type": "code",
   "execution_count": 18,
   "id": "prepared-savings",
   "metadata": {},
   "outputs": [
    {
     "data": {
      "text/plain": [
       "['?h  _synset_domain_topic_of  ?b  ?a  _verb_group  ?h   => ?a  _synset_domain_topic_of  ?b\\t0.012516046\\t0.375\\t0.75\\t39\\t104\\t52\\t?a',\n",
       " '?g  _synset_domain_topic_of  ?b  ?g  _verb_group  ?a   => ?a  _synset_domain_topic_of  ?b\\t0.012516046\\t0.386138614\\t0.75\\t39\\t101\\t52\\t?a',\n",
       " '?g  _hypernym  ?b  ?a  _member_of_domain_region  ?g   => ?a  _member_of_domain_region  ?b\\t0.01191766\\t0.021072797\\t0.733333333\\t11\\t522\\t15\\t?b',\n",
       " '?g  _hypernym  ?b  ?a  _member_of_domain_usage  ?g   => ?a  _member_of_domain_usage  ?b\\t0.028616852\\t0.04400978\\t0.72\\t18\\t409\\t25\\t?b',\n",
       " '?a  _has_part  ?h  ?b  _instance_hypernym  ?h   => ?a  _has_part  ?b\\t0.029900332\\t0.41025641\\t0.52173913\\t144\\t351\\t276\\t?b',\n",
       " '?g  _derivationally_related_form  ?b  ?a  _derivationally_related_form  ?g   => ?a  _verb_group  ?b\\t0.422671353\\t0.008085393\\t0.145537065\\t481\\t59490\\t3305\\t?b',\n",
       " '?a  _also_see  ?h  ?b  _also_see  ?h   => ?a  _also_see  ?b\\t0.16243264\\t0.094831461\\t0.115997801\\t211\\t2225\\t1819\\t?b',\n",
       " '?h  _also_see  ?a  ?b  _also_see  ?h   => ?a  _also_see  ?b\\t0.15704388\\t0.110809343\\t0.113712375\\t204\\t1841\\t1794\\t?b',\n",
       " '?h  _also_see  ?b  ?a  _also_see  ?h   => ?a  _also_see  ?b\\t0.157813703\\t0.111352526\\t0.111352526\\t205\\t1841\\t1841\\t?b',\n",
       " '?a  _has_part  ?g  ?g  _hypernym  ?b   => ?a  _has_part  ?b\\t0.01038206\\t0.022482014\\t0.101832994\\t50\\t2224\\t491\\t?b']"
      ]
     },
     "execution_count": 18,
     "metadata": {},
     "output_type": "execute_result"
    }
   ],
   "source": [
    "dropped_rules_amie_wn18rr[:10]"
   ]
  },
  {
   "cell_type": "code",
   "execution_count": 80,
   "id": "backed-worth",
   "metadata": {},
   "outputs": [
    {
     "name": "stdout",
     "output_type": "stream",
     "text": [
      "PCA: 0.4063505224\n",
      "Std: 0.15840383379999998\n"
     ]
    }
   ],
   "source": [
    "# Dropped rules\n",
    "print('PCA:',sum(list(map(lambda x: float(x.split('\\t')[3]), dropped_rules_amie_wn18rr)))/len(dropped_rules_amie_wn18rr))\n",
    "print('Std:',sum(list(map(lambda x: float(x.split('\\t')[2]), dropped_rules_amie_wn18rr)))/len(dropped_rules_amie_wn18rr))"
   ]
  },
  {
   "cell_type": "code",
   "execution_count": 20,
   "id": "geological-words",
   "metadata": {},
   "outputs": [
    {
     "data": {
      "text/plain": [
       "['?a  _member_meronym  ?b   => ?a  _similar_to  ?b\\t0.460526316\\t0.009140768\\t0.707070707\\t70\\t7658\\t99\\t?b',\n",
       " '?a  _hypernym  ?b   => ?a  _similar_to  ?b\\t0.414473684\\t0.001971091\\t0.692307692\\t63\\t31962\\t91\\t?b',\n",
       " '?a  _also_see  ?b   => ?a  _similar_to  ?b\\t0.513157895\\t0.06824147\\t0.684210526\\t78\\t1143\\t114\\t?b',\n",
       " '?h  _hypernym  ?b  ?a  _member_of_domain_usage  ?h   => ?a  _member_of_domain_usage  ?b\\t0.01610306\\t0.02617801\\t0.666666667\\t10\\t382\\t15\\t?b',\n",
       " '?a  _derivationally_related_form  ?b   => ?a  _similar_to  ?b\\t0.513157895\\t0.003055469\\t0.527027027\\t78\\t25528\\t148\\t?b',\n",
       " '?a  _member_meronym  ?b   => ?a  _has_part  ?b\\t0.015331462\\t0.00927135\\t0.360406091\\t71\\t7658\\t197\\t?b',\n",
       " '?a  _derivationally_related_form  ?b   => ?a  _member_meronym  ?b\\t0.010446592\\t0.003133814\\t0.283687943\\t80\\t25528\\t282\\t?b',\n",
       " '?a  _hypernym  ?b   => ?a  _also_see  ?b\\t0.058617673\\t0.002096239\\t0.201201201\\t67\\t31962\\t333\\t?b',\n",
       " '?a  _derivationally_related_form  ?b   => ?a  _has_part  ?b\\t0.016627078\\t0.003016296\\t0.172259508\\t77\\t25528\\t447\\t?b',\n",
       " '?h  _derivationally_related_form  ?b  ?a  _derivationally_related_form  ?h   => ?a  _verb_group  ?b\\t0.265761397\\t0.006023964\\t0.143756558\\t274\\t45485\\t1906\\t?b']"
      ]
     },
     "execution_count": 20,
     "metadata": {},
     "output_type": "execute_result"
    }
   ],
   "source": [
    "new_rules_amie_wn18rr[-10:]"
   ]
  },
  {
   "cell_type": "code",
   "execution_count": 79,
   "id": "contrary-selling",
   "metadata": {},
   "outputs": [
    {
     "name": "stdout",
     "output_type": "stream",
     "text": [
      "PCA: 0.8880675046818184\n",
      "Std: 0.6548039246212123\n"
     ]
    }
   ],
   "source": [
    "# New rules\n",
    "print('PCA:',sum(list(map(lambda x: float(x.split('\\t')[3]), new_rules_amie_wn18rr)))/len(new_rules_amie_wn18rr))\n",
    "print('Std:',sum(list(map(lambda x: float(x.split('\\t')[2]), new_rules_amie_wn18rr)))/len(new_rules_amie_wn18rr))"
   ]
  },
  {
   "cell_type": "code",
   "execution_count": 78,
   "id": "liable-memphis",
   "metadata": {},
   "outputs": [
    {
     "name": "stdout",
     "output_type": "stream",
     "text": [
      "PCA: 0.5201082241249999\n",
      "Std: 0.2835829905833334\n"
     ]
    }
   ],
   "source": [
    "# Same rules\n",
    "print('PCA:',sum(list(map(lambda x: float(x.split('\\t')[3]), same_rules_amie_wn18rr)))/len(same_rules_amie_wn18rr))\n",
    "print('Std:',sum(list(map(lambda x: float(x.split('\\t')[2]), same_rules_amie_wn18rr)))/len(same_rules_amie_wn18rr))"
   ]
  },
  {
   "cell_type": "code",
   "execution_count": 76,
   "id": "chief-opera",
   "metadata": {},
   "outputs": [
    {
     "name": "stdout",
     "output_type": "stream",
     "text": [
      "PCA: 0.4866500765588235\n",
      "Std: 0.24676559152941172\n"
     ]
    }
   ],
   "source": [
    "# Before\n",
    "print('PCA:',sum(list(map(lambda x: float(x.split('\\t')[3]), rules_amie_before_wn18rr)))/len(rules_amie_before_wn18rr))\n",
    "print('Std:',sum(list(map(lambda x: float(x.split('\\t')[2]), rules_amie_before_wn18rr)))/len(rules_amie_before_wn18rr))"
   ]
  },
  {
   "cell_type": "code",
   "execution_count": 75,
   "id": "remarkable-decrease",
   "metadata": {},
   "outputs": [
    {
     "name": "stdout",
     "output_type": "stream",
     "text": [
      "PCA: 0.7775618269444449\n",
      "Std: 0.5406861664222223\n"
     ]
    }
   ],
   "source": [
    "# After enrichment\n",
    "print('PCA:',sum(list(map(lambda x: float(x.split('\\t')[3]), rules_amie_after_wn18rr)))/len(rules_amie_after_wn18rr))\n",
    "print('Std:',sum(list(map(lambda x: float(x.split('\\t')[2]), rules_amie_after_wn18rr)))/len(rules_amie_after_wn18rr))"
   ]
  },
  {
   "cell_type": "markdown",
   "id": "abstract-working",
   "metadata": {},
   "source": [
    "## Mutagenesis"
   ]
  },
  {
   "cell_type": "code",
   "execution_count": 26,
   "id": "developed-optimum",
   "metadata": {},
   "outputs": [
    {
     "name": "stdout",
     "output_type": "stream",
     "text": [
      "There were 9 rules before, there are 17 after enrichment\n",
      "\n",
      "There are 9 same rules, 8 new rules, 0 dropped rules\n"
     ]
    }
   ],
   "source": [
    "same_rules_amie_mut, rules_amie_before_mut, rules_amie_after_mut, \\\n",
    "new_rules_amie_mut, dropped_rules_amie_mut = compare_rules_amie('AMIE/rules_mutagenesis/rules.txt', 'TransAMIE/rules_mutagenesis/rules.txt')"
   ]
  },
  {
   "cell_type": "code",
   "execution_count": 29,
   "id": "tough-graham",
   "metadata": {},
   "outputs": [],
   "source": [
    "# Dropped rules, undefined\n",
    "#sum(list(map(lambda x: float(x.split('\\t')[3]), dropped_rules_amie_mut)))/len(dropped_rules_amie_mut)"
   ]
  },
  {
   "cell_type": "code",
   "execution_count": 71,
   "id": "surprising-publicity",
   "metadata": {},
   "outputs": [
    {
     "name": "stdout",
     "output_type": "stream",
     "text": [
      "PCA: 0.5425176136666666\n",
      "Std: 0.43713459811111105\n"
     ]
    }
   ],
   "source": [
    "# Before enrichment\n",
    "print('PCA:',sum(list(map(lambda x: float(x.split('\\t')[3]), rules_amie_before_mut)))/len(rules_amie_before_mut))\n",
    "print('Std:',sum(list(map(lambda x: float(x.split('\\t')[2]), rules_amie_before_mut)))/len(rules_amie_before_mut))"
   ]
  },
  {
   "cell_type": "code",
   "execution_count": 72,
   "id": "realistic-sight",
   "metadata": {},
   "outputs": [
    {
     "name": "stdout",
     "output_type": "stream",
     "text": [
      "PCA: 0.5532036077058823\n",
      "Std: 0.47268887935294107\n"
     ]
    }
   ],
   "source": [
    "# After enrichment\n",
    "print('PCA:',sum(list(map(lambda x: float(x.split('\\t')[3]), rules_amie_after_mut)))/len(rules_amie_after_mut))\n",
    "print('Std:',sum(list(map(lambda x: float(x.split('\\t')[2]), rules_amie_after_mut)))/len(rules_amie_after_mut))"
   ]
  },
  {
   "cell_type": "code",
   "execution_count": 73,
   "id": "surrounded-cameroon",
   "metadata": {},
   "outputs": [
    {
     "name": "stdout",
     "output_type": "stream",
     "text": [
      "PCA: 0.5425176136666666\n",
      "Std: 0.43713459811111105\n"
     ]
    }
   ],
   "source": [
    "# Same rules\n",
    "print('PCA:',sum(list(map(lambda x: float(x.split('\\t')[3]), same_rules_amie_mut)))/len(same_rules_amie_mut))\n",
    "print('Std:',sum(list(map(lambda x: float(x.split('\\t')[2]), same_rules_amie_mut)))/len(same_rules_amie_mut))"
   ]
  },
  {
   "cell_type": "code",
   "execution_count": 74,
   "id": "important-analysis",
   "metadata": {},
   "outputs": [
    {
     "name": "stdout",
     "output_type": "stream",
     "text": [
      "PCA: 0.5625\n",
      "Std: 0.47321428574999996\n"
     ]
    }
   ],
   "source": [
    "# New rules\n",
    "print('PCA:',sum(list(map(lambda x: float(x.split('\\t')[3]), new_rules_amie_mut)))/len(new_rules_amie_mut))\n",
    "print('Std:',sum(list(map(lambda x: float(x.split('\\t')[2]), new_rules_amie_mut)))/len(new_rules_amie_mut))"
   ]
  },
  {
   "cell_type": "markdown",
   "id": "unlike-landscape",
   "metadata": {},
   "source": [
    "## Carcinogenesis"
   ]
  },
  {
   "cell_type": "code",
   "execution_count": 34,
   "id": "composed-advisory",
   "metadata": {},
   "outputs": [
    {
     "name": "stdout",
     "output_type": "stream",
     "text": [
      "There were 185 rules before, there are 317 after enrichment\n",
      "\n",
      "There are 147 same rules, 170 new rules, 38 dropped rules\n"
     ]
    }
   ],
   "source": [
    "same_rules_amie_car, rules_amie_before_car, rules_amie_after_car, \\\n",
    "new_rules_amie_car, dropped_rules_amie_car = compare_rules_amie('AMIE/rules_carcinogenesis/rules.txt', 'TransAMIE/rules_carcinogenesis/rules.txt')"
   ]
  },
  {
   "cell_type": "code",
   "execution_count": 66,
   "id": "animal-forward",
   "metadata": {},
   "outputs": [
    {
     "name": "stdout",
     "output_type": "stream",
     "text": [
      "PCA: 0.7375154245621616\n",
      "Std: 0.5162657981027027\n"
     ]
    }
   ],
   "source": [
    "# Before enrichment\n",
    "print('PCA:', sum(list(map(lambda x: float(x.split('\\t')[3]), rules_amie_before_car)))/len(rules_amie_before_car))\n",
    "print('Std:', sum(list(map(lambda x: float(x.split('\\t')[2]), rules_amie_before_car)))/len(rules_amie_before_car))"
   ]
  },
  {
   "cell_type": "code",
   "execution_count": 67,
   "id": "departmental-muslim",
   "metadata": {},
   "outputs": [
    {
     "name": "stdout",
     "output_type": "stream",
     "text": [
      "PCA: 0.695144739694006\n",
      "Std: 0.4452791533312304\n"
     ]
    }
   ],
   "source": [
    "# After enrichment\n",
    "print('PCA:',sum(list(map(lambda x: float(x.split('\\t')[3]), rules_amie_after_car)))/len(rules_amie_after_car))\n",
    "print('Std:',sum(list(map(lambda x: float(x.split('\\t')[2]), rules_amie_after_car)))/len(rules_amie_after_car))"
   ]
  },
  {
   "cell_type": "code",
   "execution_count": 68,
   "id": "looking-behalf",
   "metadata": {},
   "outputs": [
    {
     "name": "stdout",
     "output_type": "stream",
     "text": [
      "PCA: 0.6813794434588235\n",
      "Std: 0.4150670346941179\n"
     ]
    }
   ],
   "source": [
    "# New rules\n",
    "print('PCA:',sum(list(map(lambda x: float(x.split('\\t')[3]), new_rules_amie_car)))/len(new_rules_amie_car))\n",
    "print('Std:',sum(list(map(lambda x: float(x.split('\\t')[2]), new_rules_amie_car)))/len(new_rules_amie_car))"
   ]
  },
  {
   "cell_type": "code",
   "execution_count": 69,
   "id": "maritime-pipeline",
   "metadata": {},
   "outputs": [
    {
     "name": "stdout",
     "output_type": "stream",
     "text": [
      "PCA: 0.7535989299210527\n",
      "Std: 0.5282689622105262\n"
     ]
    }
   ],
   "source": [
    "# Dropped rules\n",
    "print('PCA:',sum(list(map(lambda x: float(x.split('\\t')[3]), dropped_rules_amie_car)))/len(dropped_rules_amie_car))\n",
    "print('Std:',sum(list(map(lambda x: float(x.split('\\t')[2]), dropped_rules_amie_car)))/len(dropped_rules_amie_car))"
   ]
  },
  {
   "cell_type": "code",
   "execution_count": 70,
   "id": "running-package",
   "metadata": {},
   "outputs": [
    {
     "name": "stdout",
     "output_type": "stream",
     "text": [
      "PCA: 0.7333577837210885\n",
      "Std: 0.5131629393537415\n"
     ]
    }
   ],
   "source": [
    "# Same rules\n",
    "print('PCA:',sum(list(map(lambda x: float(x.split('\\t')[3]), same_rules_amie_car)))/len(same_rules_amie_car))\n",
    "print('Std:',sum(list(map(lambda x: float(x.split('\\t')[2]), same_rules_amie_car)))/len(same_rules_amie_car))"
   ]
  },
  {
   "cell_type": "markdown",
   "id": "adaptive-fireplace",
   "metadata": {},
   "source": [
    "## FB15k"
   ]
  },
  {
   "cell_type": "code",
   "execution_count": 40,
   "id": "massive-trash",
   "metadata": {},
   "outputs": [
    {
     "name": "stdout",
     "output_type": "stream",
     "text": [
      "There were 7591 rules before, there are 10109 after enrichment\n",
      "\n",
      "There are 7591 same rules, 4905 new rules, 0 dropped rules\n"
     ]
    }
   ],
   "source": [
    "same_rules_amie_fb, rules_amie_before_fb, rules_amie_after_fb, \\\n",
    "new_rules_amie_fb, dropped_rules_amie_fb = compare_rules_amie('AMIE/rules_fb15k/rules.txt', 'TransAMIE/rules_fb15k/rules.txt')"
   ]
  },
  {
   "cell_type": "code",
   "execution_count": 81,
   "id": "adopted-desperate",
   "metadata": {},
   "outputs": [
    {
     "name": "stdout",
     "output_type": "stream",
     "text": [
      "PCA: 0.5633267253446179\n",
      "Std: 0.3071214942907393\n"
     ]
    }
   ],
   "source": [
    "# Before enrichment\n",
    "print('PCA:',sum(list(map(lambda x: float(x.split('\\t')[3]), rules_amie_before_fb)))/len(rules_amie_before_fb))\n",
    "print('Std:',sum(list(map(lambda x: float(x.split('\\t')[2]), rules_amie_before_fb)))/len(rules_amie_before_fb))"
   ]
  },
  {
   "cell_type": "code",
   "execution_count": 82,
   "id": "computational-thomson",
   "metadata": {},
   "outputs": [
    {
     "name": "stdout",
     "output_type": "stream",
     "text": [
      "PCA: 0.5629404381041404\n",
      "Std: 0.27093583009590555\n"
     ]
    }
   ],
   "source": [
    "# After enrichment\n",
    "print('PCA:',sum(list(map(lambda x: float(x.split('\\t')[3]), rules_amie_after_fb)))/len(rules_amie_after_fb))\n",
    "print('Std:',sum(list(map(lambda x: float(x.split('\\t')[2]), rules_amie_after_fb)))/len(rules_amie_after_fb))"
   ]
  },
  {
   "cell_type": "code",
   "execution_count": 44,
   "id": "contrary-birmingham",
   "metadata": {},
   "outputs": [],
   "source": [
    "# dropped rules, no dropped rules\n",
    "#sum(list(map(lambda x: float(x.split('\\t')[3]), dropped_rules_amie_fb)))/len(dropped_rules_amie_fb)"
   ]
  },
  {
   "cell_type": "code",
   "execution_count": 83,
   "id": "adjusted-testament",
   "metadata": {},
   "outputs": [
    {
     "name": "stdout",
     "output_type": "stream",
     "text": [
      "PCA: 0.5460132989651448\n",
      "Std: 0.1516606972941899\n"
     ]
    }
   ],
   "source": [
    "# New rules\n",
    "print('PCA:',sum(list(map(lambda x: float(x.split('\\t')[3]), new_rules_amie_fb)))/len(new_rules_amie_fb))\n",
    "print('Std:',sum(list(map(lambda x: float(x.split('\\t')[2]), new_rules_amie_fb)))/len(new_rules_amie_fb))"
   ]
  },
  {
   "cell_type": "code",
   "execution_count": 84,
   "id": "addressed-budapest",
   "metadata": {},
   "outputs": [
    {
     "name": "stdout",
     "output_type": "stream",
     "text": [
      "PCA: 0.5633267253446179\n",
      "Std: 0.3071214942907393\n"
     ]
    }
   ],
   "source": [
    "# Same rules\n",
    "print('PCA:',sum(list(map(lambda x: float(x.split('\\t')[3]), same_rules_amie_fb)))/len(same_rules_amie_fb))\n",
    "print('Std:',sum(list(map(lambda x: float(x.split('\\t')[2]), same_rules_amie_fb)))/len(same_rules_amie_fb))"
   ]
  },
  {
   "cell_type": "markdown",
   "id": "secret-utilization",
   "metadata": {},
   "source": [
    "## YAGO3"
   ]
  },
  {
   "cell_type": "code",
   "execution_count": 47,
   "id": "italic-voice",
   "metadata": {},
   "outputs": [
    {
     "name": "stdout",
     "output_type": "stream",
     "text": [
      "There were 235 rules before, there are 310 after enrichment\n",
      "\n",
      "There are 116 same rules, 194 new rules, 119 dropped rules\n"
     ]
    }
   ],
   "source": [
    "same_rules_amie_yago, rules_amie_before_yago, rules_amie_after_yago, \\\n",
    "new_rules_amie_yago, dropped_rules_amie_yago = compare_rules_amie('AMIE/rules_yago3/rules.txt', 'TransAMIE/rules_yago3/rules.txt')"
   ]
  },
  {
   "cell_type": "code",
   "execution_count": 85,
   "id": "colonial-marina",
   "metadata": {},
   "outputs": [
    {
     "name": "stdout",
     "output_type": "stream",
     "text": [
      "PCA: 0.3242538606127661\n",
      "Std: 0.19154214194468083\n"
     ]
    }
   ],
   "source": [
    "# Before enrichment\n",
    "print('PCA:',sum(list(map(lambda x: float(x.split('\\t')[3]), rules_amie_before_yago)))/len(rules_amie_before_yago))\n",
    "print('Std:',sum(list(map(lambda x: float(x.split('\\t')[2]), rules_amie_before_yago)))/len(rules_amie_before_yago))"
   ]
  },
  {
   "cell_type": "code",
   "execution_count": 86,
   "id": "racial-adolescent",
   "metadata": {},
   "outputs": [
    {
     "name": "stdout",
     "output_type": "stream",
     "text": [
      "PCA: 0.6707416839645169\n",
      "Std: 0.6007938599645165\n"
     ]
    }
   ],
   "source": [
    "# After enrichment\n",
    "print('PCA:',sum(list(map(lambda x: float(x.split('\\t')[3]), rules_amie_after_yago)))/len(rules_amie_after_yago))\n",
    "print('Std:',sum(list(map(lambda x: float(x.split('\\t')[2]), rules_amie_after_yago)))/len(rules_amie_after_yago))"
   ]
  },
  {
   "cell_type": "code",
   "execution_count": 87,
   "id": "exterior-humanity",
   "metadata": {},
   "outputs": [
    {
     "name": "stdout",
     "output_type": "stream",
     "text": [
      "PCA: 0.8879264069587636\n",
      "Std: 0.8583710295567017\n"
     ]
    }
   ],
   "source": [
    "# New rules\n",
    "print('PCA:',sum(list(map(lambda x: float(x.split('\\t')[3]), new_rules_amie_yago)))/len(new_rules_amie_yago))\n",
    "print('Std:',sum(list(map(lambda x: float(x.split('\\t')[2]), new_rules_amie_yago)))/len(new_rules_amie_yago))"
   ]
  },
  {
   "cell_type": "code",
   "execution_count": 88,
   "id": "competent-myrtle",
   "metadata": {},
   "outputs": [
    {
     "name": "stdout",
     "output_type": "stream",
     "text": [
      "PCA: 0.2895052532268907\n",
      "Std: 0.14846234643697478\n"
     ]
    }
   ],
   "source": [
    "# Dropped rules\n",
    "print('PCA:',sum(list(map(lambda x: float(x.split('\\t')[3]), dropped_rules_amie_yago)))/len(dropped_rules_amie_yago))\n",
    "print('Std:',sum(list(map(lambda x: float(x.split('\\t')[2]), dropped_rules_amie_yago)))/len(dropped_rules_amie_yago))"
   ]
  },
  {
   "cell_type": "code",
   "execution_count": 89,
   "id": "included-injury",
   "metadata": {},
   "outputs": [
    {
     "name": "stdout",
     "output_type": "stream",
     "text": [
      "PCA: 0.35990113887931047\n",
      "Std: 0.23573607009482755\n"
     ]
    }
   ],
   "source": [
    "# Same rules\n",
    "print('PCA:',sum(list(map(lambda x: float(x.split('\\t')[3]), same_rules_amie_yago)))/len(same_rules_amie_yago))\n",
    "print('Std:',sum(list(map(lambda x: float(x.split('\\t')[2]), same_rules_amie_yago)))/len(same_rules_amie_yago))"
   ]
  },
  {
   "cell_type": "markdown",
   "id": "insured-realtor",
   "metadata": {},
   "source": [
    "## Open Bio Link"
   ]
  },
  {
   "cell_type": "code",
   "execution_count": 53,
   "id": "random-crack",
   "metadata": {},
   "outputs": [
    {
     "name": "stdout",
     "output_type": "stream",
     "text": [
      "There were 713 rules before, there are 611 after enrichment\n",
      "\n",
      "There are 510 same rules, 101 new rules, 203 dropped rules\n"
     ]
    }
   ],
   "source": [
    "same_rules_amie_op, rules_amie_before_op, rules_amie_after_op, \\\n",
    "new_rules_amie_op, dropped_rules_amie_op = compare_rules_amie('AMIE/rules_openbiolink/rules.txt', 'TransAMIE/rules_openbiolink/rules.txt')"
   ]
  },
  {
   "cell_type": "code",
   "execution_count": 90,
   "id": "rotary-surfing",
   "metadata": {},
   "outputs": [
    {
     "name": "stdout",
     "output_type": "stream",
     "text": [
      "PCA: 0.31666675416129036\n",
      "Std: 0.2804260248106593\n"
     ]
    }
   ],
   "source": [
    "# Before enrichment\n",
    "print('PCA:',sum(list(map(lambda x: float(x.split('\\t')[3]), rules_amie_before_op)))/len(rules_amie_before_op))\n",
    "print('Std:',sum(list(map(lambda x: float(x.split('\\t')[2]), rules_amie_before_op)))/len(rules_amie_before_op))"
   ]
  },
  {
   "cell_type": "code",
   "execution_count": 91,
   "id": "minus-climate",
   "metadata": {},
   "outputs": [
    {
     "name": "stdout",
     "output_type": "stream",
     "text": [
      "PCA: 0.3353037292291323\n",
      "Std: 0.2905857795957448\n"
     ]
    }
   ],
   "source": [
    "# After enrichment\n",
    "print('PCA:',sum(list(map(lambda x: float(x.split('\\t')[3]), rules_amie_after_op)))/len(rules_amie_after_op))\n",
    "print('Std:',sum(list(map(lambda x: float(x.split('\\t')[2]), rules_amie_after_op)))/len(rules_amie_after_op))"
   ]
  },
  {
   "cell_type": "code",
   "execution_count": 92,
   "id": "wrong-picture",
   "metadata": {},
   "outputs": [
    {
     "name": "stdout",
     "output_type": "stream",
     "text": [
      "PCA: 0.24821895901477792\n",
      "Std: 0.21569599121182248\n"
     ]
    }
   ],
   "source": [
    "# Dropped rules\n",
    "print('PCA:',sum(list(map(lambda x: float(x.split('\\t')[3]), dropped_rules_amie_op)))/len(dropped_rules_amie_op))\n",
    "print('Std:',sum(list(map(lambda x: float(x.split('\\t')[2]), dropped_rules_amie_op)))/len(dropped_rules_amie_op))"
   ]
  },
  {
   "cell_type": "code",
   "execution_count": 93,
   "id": "expected-dublin",
   "metadata": {},
   "outputs": [
    {
     "name": "stdout",
     "output_type": "stream",
     "text": [
      "PCA: 0.6501759515148514\n",
      "Std: 0.5803524768019802\n"
     ]
    }
   ],
   "source": [
    "# New rules\n",
    "print('PCA:',sum(list(map(lambda x: float(x.split('\\t')[3]), new_rules_amie_op)))/len(new_rules_amie_op))\n",
    "print('Std:',sum(list(map(lambda x: float(x.split('\\t')[2]), new_rules_amie_op)))/len(new_rules_amie_op))"
   ]
  },
  {
   "cell_type": "code",
   "execution_count": 94,
   "id": "married-volunteer",
   "metadata": {},
   "outputs": [
    {
     "name": "stdout",
     "output_type": "stream",
     "text": [
      "PCA: 0.3439116608568628\n",
      "Std: 0.306191116615686\n"
     ]
    }
   ],
   "source": [
    "# Same rules\n",
    "print('PCA:',sum(list(map(lambda x: float(x.split('\\t')[3]), same_rules_amie_op)))/len(same_rules_amie_op))\n",
    "print('Std:',sum(list(map(lambda x: float(x.split('\\t')[2]), same_rules_amie_op)))/len(same_rules_amie_op))"
   ]
  },
  {
   "cell_type": "markdown",
   "id": "given-philadelphia",
   "metadata": {},
   "source": [
    "## DRKG"
   ]
  },
  {
   "cell_type": "code",
   "execution_count": 60,
   "id": "light-harris",
   "metadata": {},
   "outputs": [
    {
     "name": "stdout",
     "output_type": "stream",
     "text": [
      "There were 2804 rules before, there are 2776 after enrichment\n",
      "\n",
      "There are 1303 same rules, 1473 new rules, 1501 dropped rules\n"
     ]
    }
   ],
   "source": [
    "same_rules_amie_drkg, rules_amie_before_drkg, rules_amie_after_drkg, \\\n",
    "new_rules_amie_drkg, dropped_rules_amie_drkg = compare_rules_amie('AMIE/rules_drkg/rules.txt', 'TransAMIE/rules_drkg/rules.txt')"
   ]
  },
  {
   "cell_type": "code",
   "execution_count": 95,
   "id": "incredible-surname",
   "metadata": {},
   "outputs": [
    {
     "name": "stdout",
     "output_type": "stream",
     "text": [
      "PCA: 0.2894146629104849\n",
      "Std: 0.16976895299358047\n"
     ]
    }
   ],
   "source": [
    "# Before enrichment\n",
    "print('PCA:',sum(list(map(lambda x: float(x.split('\\t')[3]), rules_amie_before_drkg)))/len(rules_amie_before_drkg))\n",
    "print('Std:',sum(list(map(lambda x: float(x.split('\\t')[2]), rules_amie_before_drkg)))/len(rules_amie_before_drkg))"
   ]
  },
  {
   "cell_type": "code",
   "execution_count": 96,
   "id": "theoretical-imagination",
   "metadata": {},
   "outputs": [
    {
     "name": "stdout",
     "output_type": "stream",
     "text": [
      "PCA: 0.28688603990669986\n",
      "Std: 0.17173715055079278\n"
     ]
    }
   ],
   "source": [
    "# After enrichment\n",
    "print('PCA:',sum(list(map(lambda x: float(x.split('\\t')[3]), rules_amie_after_drkg)))/len(rules_amie_after_drkg))\n",
    "print('Std:',sum(list(map(lambda x: float(x.split('\\t')[2]), rules_amie_after_drkg)))/len(rules_amie_after_drkg))"
   ]
  },
  {
   "cell_type": "code",
   "execution_count": 97,
   "id": "appreciated-violation",
   "metadata": {},
   "outputs": [
    {
     "name": "stdout",
     "output_type": "stream",
     "text": [
      "PCA: 0.2713560277094369\n",
      "Std: 0.1468777073951121\n"
     ]
    }
   ],
   "source": [
    "# New rules\n",
    "print('PCA:',sum(list(map(lambda x: float(x.split('\\t')[3]), new_rules_amie_drkg)))/len(new_rules_amie_drkg))\n",
    "print('Std:',sum(list(map(lambda x: float(x.split('\\t')[2]), new_rules_amie_drkg)))/len(new_rules_amie_drkg))"
   ]
  },
  {
   "cell_type": "code",
   "execution_count": 98,
   "id": "accessible-affiliate",
   "metadata": {},
   "outputs": [
    {
     "name": "stdout",
     "output_type": "stream",
     "text": [
      "PCA: 0.27349933227981377\n",
      "Std: 0.14287335827581618\n"
     ]
    }
   ],
   "source": [
    "# Dropped rules\n",
    "print('PCA:',sum(list(map(lambda x: float(x.split('\\t')[3]), dropped_rules_amie_drkg)))/len(dropped_rules_amie_drkg))\n",
    "print('Std:',sum(list(map(lambda x: float(x.split('\\t')[2]), dropped_rules_amie_drkg)))/len(dropped_rules_amie_drkg))"
   ]
  },
  {
   "cell_type": "code",
   "execution_count": 99,
   "id": "judicial-owner",
   "metadata": {},
   "outputs": [
    {
     "name": "stdout",
     "output_type": "stream",
     "text": [
      "PCA: 0.3077484397920187\n",
      "Std: 0.20075152219646988\n"
     ]
    }
   ],
   "source": [
    "# Same rules\n",
    "print('PCA:',sum(list(map(lambda x: float(x.split('\\t')[3]), same_rules_amie_drkg)))/len(same_rules_amie_drkg))\n",
    "print('Std:',sum(list(map(lambda x: float(x.split('\\t')[2]), same_rules_amie_drkg)))/len(same_rules_amie_drkg))"
   ]
  },
  {
   "cell_type": "code",
   "execution_count": null,
   "id": "structured-mailing",
   "metadata": {},
   "outputs": [],
   "source": []
  },
  {
   "cell_type": "code",
   "execution_count": null,
   "id": "seven-diabetes",
   "metadata": {},
   "outputs": [],
   "source": []
  },
  {
   "cell_type": "code",
   "execution_count": 9,
   "id": "substantial-attribute",
   "metadata": {},
   "outputs": [],
   "source": [
    "#def check_grounding(new_rules, kg_name):\n",
    "#    with open('../datasets/'+kg_name) as file:\n",
    "#        triples = file.read()\n",
    "#    for rule in new_rules:\n",
    "#        body, head = rule.split('=>')\n",
    "#        head = head.split('\\t')[0]\n",
    "#        body_rels = [x for x in body.split(' ') if not '?' in x]\n",
    "#        for rel in"
   ]
  },
  {
   "cell_type": "code",
   "execution_count": 1,
   "id": "indonesian-server",
   "metadata": {},
   "outputs": [],
   "source": [
    "#for rule in new_rules_amie_wn18rr:\n",
    "#    #pieces = rule.split(' ')\n",
    "#    #print(pieces)\n",
    "#    #print(pieces[2], pieces[10])\n",
    "#    body, head = rule.split('=>')\n",
    "#    head = head.split('\\t')[0]\n",
    "#    body_rels = [x for x in body.split(' ') if not '?' in x and x!='']\n",
    "#    head_rels = [x for x in head.split(' ') if not '?' in x and x!='']\n",
    "#    print(body_rels + head_rels)"
   ]
  },
  {
   "cell_type": "code",
   "execution_count": 8,
   "id": "abandoned-admission",
   "metadata": {},
   "outputs": [],
   "source": [
    "import pandas as pd\n",
    "from tqdm import tqdm"
   ]
  },
  {
   "cell_type": "code",
   "execution_count": 13,
   "id": "minimal-string",
   "metadata": {},
   "outputs": [],
   "source": [
    "def check_grounding(new_rules, kg_name=''):\n",
    "    with open('datasets/'+kg_name+'/train_completed_TransE.txt') as file:\n",
    "        triples = file.read().strip().split('\\n')\n",
    "    triples = pd.DataFrame(triples, columns=['triple'])\n",
    "    grounding = {}\n",
    "    for rule in tqdm(new_rules, desc='New rules...'):\n",
    "        body, head = rule.split('=>')\n",
    "        head = head.split('\\t')[0]\n",
    "        body_rels = [x for x in body.split(' ') if not '?' in x and x!='']\n",
    "        head_rels = [x for x in head.split(' ') if not '?' in x and x!='']\n",
    "        \n",
    "        #potential_triples_body = [triple for triple in triples if any([rel in triple for rel in body_rels])]\n",
    "        #potential_triples_head = [triple for triple in triples if any([rel in triple for rel in head_rels])]\n",
    "        all_body_triples = triples[triples['triple'].apply(lambda x: x.split('\\t')[1] in body_rels)].values.squeeze()\n",
    "        all_head_triples = triples[triples['triple'].apply(lambda x: x.split('\\t')[1] in head_rels)].values.squeeze()\n",
    "        \n",
    "        body_entities = set()\n",
    "        for triple in all_body_triples:\n",
    "            body_entities.update(set(triple.split('\\t')[0::2]))\n",
    "            \n",
    "        binding_head_triples = 0.0\n",
    "        for triple in all_head_triples:\n",
    "            binding_head_triples += float(set(triple.split('\\t')[0::2]) < body_entities)\n",
    "        confidence = binding_head_triples/len(all_head_triples)\n",
    "        grounding[rule.split('\\t')[0]] = confidence\n",
    "    return dict(sorted(grounding.items(), key=lambda x: x[1], reverse=True))"
   ]
  },
  {
   "cell_type": "code",
   "execution_count": null,
   "id": "final-thirty",
   "metadata": {},
   "outputs": [],
   "source": []
  },
  {
   "cell_type": "code",
   "execution_count": null,
   "id": "organizational-utilization",
   "metadata": {},
   "outputs": [],
   "source": []
  },
  {
   "cell_type": "code",
   "execution_count": null,
   "id": "greater-division",
   "metadata": {},
   "outputs": [],
   "source": []
  },
  {
   "cell_type": "markdown",
   "id": "spanish-vertical",
   "metadata": {},
   "source": [
    "### SAFRAN"
   ]
  },
  {
   "cell_type": "markdown",
   "id": "unable-blood",
   "metadata": {},
   "source": [
    "Steps: 1) run ./SAFRAN calcjacc config-file, 2) run ./SAFRAN learnnrnoisy config-file, and 3) ./SAFRAN applynrnoisy config-file\n",
    "\n",
    "Link prediction: python SAFRAN/python/eval.py safran/results_drkg/predictions.txt datasets/drkg/test.txt"
   ]
  },
  {
   "cell_type": "code",
   "execution_count": null,
   "id": "fresh-million",
   "metadata": {},
   "outputs": [],
   "source": []
  },
  {
   "cell_type": "markdown",
   "id": "surprising-riding",
   "metadata": {},
   "source": [
    "### Link prediction results before KG enrichment using SAFRAN\n",
    "\n",
    "WN18RR\n",
    "`MRR: 0.506\n",
    "Hits@1: 0.465\n",
    "Hits@3: 0.526\n",
    "Hits@10: 0.595`\n",
    "\n",
    "DRKG\n",
    "`MRR: 0.429\n",
    "Hits@1: 0.385\n",
    "Hits@3: 0.453\n",
    "Hits@10: 0.533`\n",
    "\n",
    "MUTAGENESIS\n",
    "`MRR: 0.529\n",
    "Hits@1: 0.478\n",
    "Hits@3: 0.556\n",
    "Hits@10: 0.650`\n",
    "\n",
    "CARCINOGENESIS\n",
    "`MRR: 0.524\n",
    "Hits@1: 0.482\n",
    "Hits@3: 0.538\n",
    "Hits@10: 0.639`\n",
    "\n",
    "OPENBIOLINK\n",
    "`MRR: 0.246\n",
    "Hits@1: 0.170\n",
    "Hits@3: 0.283\n",
    "Hits@10: 0.440`\n",
    "\n",
    "FB15k\n",
    "` MRR: 0.380\n",
    "Hits@1: 0.288\n",
    "Hits@3: 0.437\n",
    "Hits@10: 0.581\n",
    "`\n",
    "\n",
    "YAGO3:\n",
    "`MRR: 0.427\n",
    "Hits@1: 0.375\n",
    "Hits@3: 0.462\n",
    "Hits@10: 0.533`"
   ]
  },
  {
   "cell_type": "code",
   "execution_count": null,
   "id": "passing-contribution",
   "metadata": {},
   "outputs": [],
   "source": []
  },
  {
   "cell_type": "markdown",
   "id": "incident-columbia",
   "metadata": {},
   "source": [
    "### After KG enrichment"
   ]
  },
  {
   "cell_type": "markdown",
   "id": "seventh-billion",
   "metadata": {},
   "source": [
    "WN18RR\n",
    "`MRR: 0.508\n",
    "Hits@1: 0.469\n",
    "Hits@3: 0.527\n",
    "Hits@10: 0.597`\n",
    "\n",
    "MUTAGENESIS\n",
    "`MRR: 0.527\n",
    "Hits@1: 0.475\n",
    "Hits@3: 0.559\n",
    "Hits@10: 0.646`\n",
    "\n",
    "CARCINOGENESIS\n",
    "`MRR: 0.489\n",
    "Hits@1: 0.447\n",
    "Hits@3: 0.506\n",
    "Hits@10: 0.602`\n",
    "\n",
    "\n",
    "FB15k\n",
    "` MRR: 0.384\n",
    "Hits@1: 0.290\n",
    "Hits@3: 0.444\n",
    "Hits@10: 0.587\n",
    "`\n"
   ]
  },
  {
   "cell_type": "code",
   "execution_count": null,
   "id": "prescription-channels",
   "metadata": {},
   "outputs": [],
   "source": []
  },
  {
   "cell_type": "code",
   "execution_count": null,
   "id": "equal-inspection",
   "metadata": {},
   "outputs": [],
   "source": []
  },
  {
   "cell_type": "code",
   "execution_count": null,
   "id": "honey-monthly",
   "metadata": {},
   "outputs": [],
   "source": []
  },
  {
   "cell_type": "code",
   "execution_count": null,
   "id": "private-google",
   "metadata": {},
   "outputs": [],
   "source": []
  },
  {
   "cell_type": "code",
   "execution_count": null,
   "id": "mechanical-lithuania",
   "metadata": {},
   "outputs": [],
   "source": []
  },
  {
   "cell_type": "code",
   "execution_count": null,
   "id": "adjusted-victor",
   "metadata": {},
   "outputs": [],
   "source": []
  },
  {
   "cell_type": "markdown",
   "id": "clean-assembly",
   "metadata": {},
   "source": [
    "### Compare mined rules (AMIE+)"
   ]
  },
  {
   "cell_type": "code",
   "execution_count": 2,
   "id": "collaborative-opportunity",
   "metadata": {},
   "outputs": [],
   "source": [
    "### import numpy as np\n",
    "with open(\"./amie/out_amie_v1.txt\") as file:\n",
    "    rules_v1 = file.readlines()\n",
    "    rules_v1 = list(filter(lambda x: x.startswith(\"?\"), rules_v1))\n",
    "with open(\"./amie/out_amie_v3_sameAs_v1.txt\") as file:\n",
    "    rules_v2 = file.readlines()\n",
    "    rules_v2 = list(filter(lambda x: x.startswith(\"?\"), rules_v2))\n"
   ]
  },
  {
   "cell_type": "code",
   "execution_count": 3,
   "id": "medium-baseline",
   "metadata": {},
   "outputs": [
    {
     "data": {
      "text/plain": [
       "'?b  INTACT::DEPHOSPHORYLATION REACTION::Gene:Gene  ?a   => ?a  INTACT::DEPHOSPHORYLATION REACTION::Gene:Gene  ?b\\t0.227722772\\t0.227722772\\t0.250909091\\t69\\t303\\t275\\t?a\\n'"
      ]
     },
     "execution_count": 3,
     "metadata": {},
     "output_type": "execute_result"
    }
   ],
   "source": [
    "rules_v1[0]"
   ]
  },
  {
   "cell_type": "code",
   "execution_count": 4,
   "id": "suited-spiritual",
   "metadata": {},
   "outputs": [
    {
     "name": "stdout",
     "output_type": "stream",
     "text": [
      "Jaccard index of mined rules v1 and v2:  0.9876004592422503\n",
      "\n",
      "Avg confidence v1: 0.3118219945172175, v2: 0.3118627327964888\n"
     ]
    }
   ],
   "source": [
    "import numpy as np\n",
    "rule_expression1 = set(list(map(lambda x: x.split(\"\\t\")[0], rules_v1)))\n",
    "rule_expression2 = set(list(map(lambda x: x.split(\"\\t\")[0], rules_v2)))\n",
    "index = len(rule_expression1.intersection(rule_expression2))/len(rule_expression1.union(rule_expression2))\n",
    "print(\"Jaccard index of mined rules v1 and v2: \", index)\n",
    "\n",
    "# Confidence of mined rules\n",
    "avg_conf1 = np.mean([float(rule.split(\"\\t\")[3]) for rule in rules_v1])\n",
    "avg_conf2 = np.mean([float(rule.split(\"\\t\")[3]) for rule in rules_v2])\n",
    "\n",
    "print(\"\\nAvg confidence v1: {}, v2: {}\".format(avg_conf1, avg_conf2))"
   ]
  },
  {
   "cell_type": "code",
   "execution_count": null,
   "id": "complete-ebony",
   "metadata": {},
   "outputs": [],
   "source": []
  },
  {
   "cell_type": "code",
   "execution_count": null,
   "id": "challenging-opening",
   "metadata": {},
   "outputs": [],
   "source": []
  },
  {
   "cell_type": "markdown",
   "id": "intermediate-account",
   "metadata": {},
   "source": [
    "### Compare mined rules (AnyBURL)"
   ]
  },
  {
   "cell_type": "code",
   "execution_count": 70,
   "id": "auburn-aquatic",
   "metadata": {},
   "outputs": [],
   "source": [
    "def return_confidence(rule):\n",
    "    return float(rule.split(\"\\t\")[2])"
   ]
  },
  {
   "cell_type": "code",
   "execution_count": 81,
   "id": "amateur-donna",
   "metadata": {},
   "outputs": [
    {
     "data": {
      "text/plain": [
       "'5\\t5\\t1.0\\tSTRING::OTHER::Gene:Gene(Gene::83998,Y) <= STRING::OTHER::Gene:Gene(Y,Gene::83998)\\n'"
      ]
     },
     "execution_count": 81,
     "metadata": {},
     "output_type": "execute_result"
    }
   ],
   "source": [
    "threshold = 1.\n",
    "anyBURL_rules_filt = list(filter(lambda x: return_confidence(x)>=threshold, anyBURL_rules_v1))\n",
    "\n",
    "anyBURL_rules_filt[-1]"
   ]
  },
  {
   "cell_type": "code",
   "execution_count": 87,
   "id": "abroad-associate",
   "metadata": {},
   "outputs": [
    {
     "name": "stdout",
     "output_type": "stream",
     "text": [
      "Jaccard index of mined rules v1 and v2:  0.2712462672137839\n",
      "\n",
      "Avg confidence v1: 0.5285819316297514, v2: 0.534223820369677\n"
     ]
    }
   ],
   "source": [
    "### import numpy as np\n",
    "with open(\"./anyBURL/rules/sorted_rules_v1\") as file:\n",
    "    anyBURL_rules_v1 = file.readlines()\n",
    "with open(\"./anyBURL/rules/sorted_rules_v2\") as file:\n",
    "    anyBURL_rules_v2 = file.readlines()\n",
    "\n",
    "# Jaccard index\n",
    "#anyBURL_rules_v1 = list(filter(lambda x: return_confidence(x)>=threshold, anyBURL_rules_v1))\n",
    "#anyBURL_rules_v2 = list(filter(lambda x: return_confidence(x)>=threshold, anyBURL_rules_v2))\n",
    "\n",
    "rule_expression1 = set(list(map(lambda x: x.split(\"\\t\")[3], anyBURL_rules_v1)))\n",
    "rule_expression2 = set(list(map(lambda x: x.split(\"\\t\")[3], anyBURL_rules_v2)))\n",
    "index = len(rule_expression1.intersection(rule_expression2))/len(rule_expression1.union(rule_expression2))\n",
    "print(\"Jaccard index of mined rules v1 and v2: \", index)\n",
    "\n",
    "# Confidence of mined rules\n",
    "avg_conf1 = np.mean([float(rule.split(\"\\t\")[2]) for rule in anyBURL_rules_v1])\n",
    "avg_conf2 = np.mean([float(rule.split(\"\\t\")[2]) for rule in anyBURL_rules_v2])\n",
    "\n",
    "print(\"\\nAvg confidence v1: {}, v2: {}\".format(avg_conf1, avg_conf2))"
   ]
  },
  {
   "cell_type": "code",
   "execution_count": 83,
   "id": "configured-prague",
   "metadata": {},
   "outputs": [
    {
     "data": {
      "text/plain": [
       "['50\\t50\\t1.0\\tSTRING::BINDING::Gene:Gene(Gene::51077,Y) <= STRING::BINDING::Gene:Gene(Y,Gene::51077)\\n',\n",
       " '211\\t211\\t1.0\\tSTRING::CATALYSIS::Gene:Gene(X,Gene::1233) <= STRING::REACTION::Gene:Gene(X,Gene::1233)\\n',\n",
       " '211\\t211\\t1.0\\tSTRING::CATALYSIS::Gene:Gene(X,Gene::1233) <= STRING::REACTION::Gene:Gene(Gene::1233,X)\\n',\n",
       " '13\\t13\\t1.0\\tSTRING::OTHER::Gene:Gene(X,Gene::5140) <= STRING::OTHER::Gene:Gene(Gene::5140,X)\\n',\n",
       " '105\\t105\\t1.0\\tSTRING::BINDING::Gene:Gene(Gene::23063,Y) <= STRING::BINDING::Gene:Gene(Y,Gene::23063)\\n',\n",
       " '6\\t6\\t1.0\\tGNBR::E+::Gene:Gene(Gene::6287,Y) <= GNBR::E+::Gene:Gene(Y,Gene::6287)\\n',\n",
       " '17\\t17\\t1.0\\tSTRING::OTHER::Gene:Gene(Gene::788,Y) <= STRING::OTHER::Gene:Gene(Y,Gene::788)\\n',\n",
       " '3\\t3\\t1.0\\tGNBR::E::Compound:Gene(Compound::DB11257,Y) <= GNBR::E+::Compound:Gene(Compound::DB11257,Y)\\n',\n",
       " '112\\t112\\t1.0\\tSTRING::BINDING::Gene:Gene(X,Gene::2072) <= STRING::BINDING::Gene:Gene(Gene::2072,X)\\n',\n",
       " '26\\t26\\t1.0\\tSTRING::REACTION::Gene:Gene(X,Gene::9984) <= STRING::ACTIVATION::Gene:Gene(X,Gene::9984)\\n',\n",
       " '26\\t26\\t1.0\\tSTRING::REACTION::Gene:Gene(X,Gene::9984) <= STRING::ACTIVATION::Gene:Gene(Gene::9984,X)\\n',\n",
       " '6\\t6\\t1.0\\tSTRING::ACTIVATION::Gene:Gene(Gene::10000,Y) <= STRING::EXPRESSION::Gene:Gene(Gene::10000,Y)\\n',\n",
       " '7\\t7\\t1.0\\tSTRING::ACTIVATION::Gene:Gene(X,Gene::84254) <= STRING::ACTIVATION::Gene:Gene(Gene::84254,X)\\n',\n",
       " '11\\t11\\t1.0\\tGNBR::E+::Gene:Gene(Gene::15945,Y) <= GNBR::E+::Gene:Gene(Y,Gene::15945)\\n',\n",
       " '259\\t259\\t1.0\\tSTRING::CATALYSIS::Gene:Gene(X,Gene::55958) <= STRING::CATALYSIS::Gene:Gene(Gene::55958,X)\\n',\n",
       " '7\\t7\\t1.0\\tSTRING::ACTIVATION::Gene:Gene(Gene::51719,Y) <= STRING::PTMOD::Gene:Gene(Y,Gene::51719)\\n',\n",
       " '51\\t51\\t1.0\\tSTRING::BINDING::Gene:Gene(X,Gene::4684) <= STRING::BINDING::Gene:Gene(Gene::4684,X)\\n',\n",
       " '69\\t69\\t1.0\\tSTRING::REACTION::Gene:Gene(X,Gene::170482) <= STRING::REACTION::Gene:Gene(Gene::170482,X)\\n',\n",
       " '116\\t116\\t1.0\\tSTRING::OTHER::Gene:Gene(Gene::6648,Y) <= STRING::OTHER::Gene:Gene(Y,Gene::6648)\\n',\n",
       " '35\\t35\\t1.0\\tSTRING::REACTION::Gene:Gene(Gene::81792,Y) <= STRING::REACTION::Gene:Gene(Y,Gene::81792)\\n']"
      ]
     },
     "execution_count": 83,
     "metadata": {},
     "output_type": "execute_result"
    }
   ],
   "source": [
    "anyBURL_rules_v1"
   ]
  },
  {
   "cell_type": "code",
   "execution_count": 84,
   "id": "waiting-remains",
   "metadata": {},
   "outputs": [
    {
     "data": {
      "text/plain": [
       "['50\\t50\\t1.0\\tSTRING::BINDING::Gene:Gene(Gene::51077,Y) <= STRING::BINDING::Gene:Gene(Y,Gene::51077)\\n',\n",
       " '3\\t3\\t1.0\\tGNBR::Rg::Gene:Gene(Gene::23191,Y) <= GNBR::Rg::Gene:Gene(Y,Gene::23191)\\n',\n",
       " '2\\t2\\t1.0\\tbioarx::HumGenHumGen:Gene:Gene(Gene::27284,Y) <= INTACT::PHYSICAL ASSOCIATION::Gene:Gene(Gene::27284,Y)\\n',\n",
       " '211\\t211\\t1.0\\tSTRING::CATALYSIS::Gene:Gene(X,Gene::1233) <= STRING::REACTION::Gene:Gene(X,Gene::1233)\\n',\n",
       " '211\\t211\\t1.0\\tSTRING::CATALYSIS::Gene:Gene(X,Gene::1233) <= STRING::REACTION::Gene:Gene(Gene::1233,X)\\n',\n",
       " '3\\t3\\t1.0\\tSTRING::CATALYSIS::Gene:Gene(Gene::23774,Y) <= STRING::INHIBITION::Gene:Gene(Y,Gene::23774)\\n',\n",
       " '13\\t13\\t1.0\\tSTRING::OTHER::Gene:Gene(X,Gene::5140) <= STRING::OTHER::Gene:Gene(Gene::5140,X)\\n',\n",
       " '105\\t105\\t1.0\\tSTRING::BINDING::Gene:Gene(Gene::23063,Y) <= STRING::BINDING::Gene:Gene(Y,Gene::23063)\\n',\n",
       " '112\\t112\\t1.0\\tSTRING::BINDING::Gene:Gene(X,Gene::2072) <= STRING::BINDING::Gene:Gene(Gene::2072,X)\\n',\n",
       " '26\\t26\\t1.0\\tSTRING::REACTION::Gene:Gene(X,Gene::9984) <= STRING::ACTIVATION::Gene:Gene(Gene::9984,X)\\n',\n",
       " '7\\t7\\t1.0\\tSTRING::ACTIVATION::Gene:Gene(X,Gene::84254) <= STRING::ACTIVATION::Gene:Gene(Gene::84254,X)\\n',\n",
       " '7\\t7\\t1.0\\tDRUGBANK::ddi-interactor-in::Compound:Compound(Compound::DB00349,Y) <= Hetionet::PCiC::Pharmacologic Class:Compound(Pharmacologic Class::N0000007853,Y)\\n',\n",
       " '11\\t11\\t1.0\\tGNBR::E+::Gene:Gene(Gene::15945,Y) <= GNBR::E+::Gene:Gene(Y,Gene::15945)\\n',\n",
       " '259\\t259\\t1.0\\tSTRING::CATALYSIS::Gene:Gene(X,Gene::55958) <= STRING::CATALYSIS::Gene:Gene(Gene::55958,X)\\n',\n",
       " '18\\t18\\t1.0\\tSTRING::REACTION::Gene:Gene(X,Gene::10476) <= STRING::CATALYSIS::Gene:Gene(X,Gene::10476)\\n',\n",
       " '7\\t7\\t1.0\\tSTRING::ACTIVATION::Gene:Gene(Gene::51719,Y) <= STRING::PTMOD::Gene:Gene(Y,Gene::51719)\\n',\n",
       " '7\\t7\\t1.0\\tSTRING::ACTIVATION::Gene:Gene(Gene::51719,Y) <= STRING::PTMOD::Gene:Gene(Gene::51719,Y)\\n',\n",
       " '7\\t7\\t1.0\\tSTRING::INHIBITION::Gene:Gene(Gene::3572,Y) <= STRING::INHIBITION::Gene:Gene(Y,Gene::3572)\\n',\n",
       " '51\\t51\\t1.0\\tSTRING::BINDING::Gene:Gene(X,Gene::4684) <= STRING::BINDING::Gene:Gene(Gene::4684,X)\\n',\n",
       " '69\\t69\\t1.0\\tSTRING::REACTION::Gene:Gene(X,Gene::170482) <= STRING::REACTION::Gene:Gene(Gene::170482,X)\\n']"
      ]
     },
     "execution_count": 84,
     "metadata": {},
     "output_type": "execute_result"
    }
   ],
   "source": [
    "anyBURL_rules_v2[:20]"
   ]
  },
  {
   "cell_type": "code",
   "execution_count": 86,
   "id": "coupled-cinema",
   "metadata": {},
   "outputs": [
    {
     "data": {
      "text/plain": [
       "57124"
      ]
     },
     "execution_count": 86,
     "metadata": {},
     "output_type": "execute_result"
    }
   ],
   "source": [
    "len(set(anyBURL_rules_v1).intersection(set(anyBURL_rules_v2)))"
   ]
  },
  {
   "cell_type": "code",
   "execution_count": 88,
   "id": "following-rally",
   "metadata": {},
   "outputs": [
    {
     "data": {
      "text/plain": [
       "290590"
      ]
     },
     "execution_count": 88,
     "metadata": {},
     "output_type": "execute_result"
    }
   ],
   "source": [
    "len(anyBURL_rules_v1)"
   ]
  },
  {
   "cell_type": "code",
   "execution_count": 89,
   "id": "hollywood-prerequisite",
   "metadata": {},
   "outputs": [
    {
     "data": {
      "text/plain": [
       "301137"
      ]
     },
     "execution_count": 89,
     "metadata": {},
     "output_type": "execute_result"
    }
   ],
   "source": [
    "len(anyBURL_rules_v2)"
   ]
  },
  {
   "cell_type": "code",
   "execution_count": null,
   "id": "caroline-blast",
   "metadata": {},
   "outputs": [],
   "source": []
  }
 ],
 "metadata": {
  "kernelspec": {
   "display_name": "secondment",
   "language": "python",
   "name": "secondment"
  },
  "language_info": {
   "codemirror_mode": {
    "name": "ipython",
    "version": 3
   },
   "file_extension": ".py",
   "mimetype": "text/x-python",
   "name": "python",
   "nbconvert_exporter": "python",
   "pygments_lexer": "ipython3",
   "version": "3.9.7"
  }
 },
 "nbformat": 4,
 "nbformat_minor": 5
}
