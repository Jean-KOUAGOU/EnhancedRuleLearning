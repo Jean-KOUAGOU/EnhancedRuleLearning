{
 "cells": [
  {
   "cell_type": "markdown",
   "id": "proud-beijing",
   "metadata": {},
   "source": [
    "### Sort AMIE rules"
   ]
  },
  {
   "cell_type": "code",
   "execution_count": 1,
   "id": "changed-manor",
   "metadata": {},
   "outputs": [],
   "source": [
    "def sort_and_store_amie_rules(in_path, out_path):\n",
    "    with open(in_path) as file:\n",
    "        amie_rules = file.readlines()\n",
    "# Copying AMIE details (head lines)\n",
    "    heading = []\n",
    "    i = 0\n",
    "    while True:\n",
    "        line = amie_rules[i]\n",
    "        i += 1\n",
    "        if line.startswith(\"?\"):\n",
    "            break\n",
    "        heading.append(line)\n",
    "# Filter and sort rules w.r.t. Partial Compleness Assumption (PCA) confidence\n",
    "    amie_rules = list(filter(lambda x: x.startswith(\"?\"), amie_rules))\n",
    "    amie_rules = sorted(amie_rules, key=lambda x: x.split(\"\\t\")[3], reverse=True)\n",
    "    print(\"\\nFound {} rules\".format(len(amie_rules)))\n",
    "# Store sorted rules\n",
    "    with open(out_path, \"w\") as file:\n",
    "        file.writelines(heading+amie_rules)"
   ]
  },
  {
   "cell_type": "code",
   "execution_count": 10,
   "id": "southern-thinking",
   "metadata": {},
   "outputs": [
    {
     "name": "stdout",
     "output_type": "stream",
     "text": [
      "\n",
      "Found 4329 rules\n"
     ]
    }
   ],
   "source": [
    "sort_and_store_amie_rules(\"./amie/out_amie_v3_sameAs_v1.txt\", \"./amie/amie_sorted_rules_v3.txt\")"
   ]
  },
  {
   "cell_type": "code",
   "execution_count": 3,
   "id": "elect-founder",
   "metadata": {},
   "outputs": [
    {
     "name": "stdout",
     "output_type": "stream",
     "text": [
      "\n",
      "Found 4361 rules\n"
     ]
    }
   ],
   "source": [
    "sort_and_store_amie_rules(\"./amie/out_amie_v2.txt\", \"./amie/amie_sorted_rules_v2.txt\")"
   ]
  },
  {
   "cell_type": "code",
   "execution_count": null,
   "id": "received-mentor",
   "metadata": {},
   "outputs": [],
   "source": []
  },
  {
   "cell_type": "markdown",
   "id": "amazing-weight",
   "metadata": {},
   "source": [
    "### Sort AnyBURL rules"
   ]
  },
  {
   "cell_type": "code",
   "execution_count": 65,
   "id": "dated-platinum",
   "metadata": {},
   "outputs": [],
   "source": [
    "def sort_and_store_anyBURL_rules(in_path, out_path):\n",
    "    with open(in_path) as file:\n",
    "        anyBURL_rules = file.readlines()\n",
    "# Filter and sort rules w.r.t. confidence\n",
    "#    anyBURL_rules = list(filter(lambda x: x.split(\"<=\")[-1].strip() != \"\", anyBURL_rules))\n",
    "    anyBURL_rules = sorted(anyBURL_rules, key=lambda x: x.split(\"\\t\")[2], reverse=True)\n",
    "    print(\"\\nFound {} rules\".format(len(anyBURL_rules)))\n",
    "# Store sorted rules\n",
    "    with open(out_path, \"w\") as file:\n",
    "        file.writelines(anyBURL_rules)"
   ]
  },
  {
   "cell_type": "code",
   "execution_count": null,
   "id": "behind-norway",
   "metadata": {},
   "outputs": [],
   "source": [
    "sort_and_store_anyBURL_rules(\"./anyBURL/rules/alpha-100\", \"./anyBURL/rules/sorted_rules_v1\")"
   ]
  },
  {
   "cell_type": "code",
   "execution_count": null,
   "id": "adequate-capability",
   "metadata": {},
   "outputs": [],
   "source": []
  },
  {
   "cell_type": "markdown",
   "id": "tamil-israel",
   "metadata": {},
   "source": [
    "### SAFRAN"
   ]
  },
  {
   "cell_type": "markdown",
   "id": "obvious-concentrate",
   "metadata": {},
   "source": [
    "Steps: 1) run ./SAFRAN calcjacc config-file, 2) run ./SAFRAN learnnrnoisy config-file, and 3) ./SAFRAN applynrnoisy config-file"
   ]
  },
  {
   "cell_type": "code",
   "execution_count": null,
   "id": "failing-consistency",
   "metadata": {},
   "outputs": [],
   "source": []
  },
  {
   "cell_type": "markdown",
   "id": "collectible-amount",
   "metadata": {},
   "source": [
    "### Link prediction results before KG enrichment using SAFRAN\n",
    "\n",
    "WN18RR\n",
    "`MRR: 0.478\n",
    "Hits@1: 0.442\n",
    "Hits@3: 0.494\n",
    "Hits@10: 0.560`\n",
    "\n",
    "DRKG\n",
    "`MRR: 0.429\n",
    "Hits@1: 0.385\n",
    "Hits@3: 0.453\n",
    "Hits@10: 0.533`\n",
    "\n",
    "MUTAGENESIS\n",
    "`MRR: 0.513\n",
    "Hits@1: 0.474\n",
    "Hits@3: 0.530\n",
    "Hits@10: 0.612`\n",
    "\n",
    "CARCINOGENESIS\n",
    "`MRR: 0.503\n",
    "Hits@1: 0.467\n",
    "Hits@3: 0.516\n",
    "Hits@10: 0.598`\n",
    "\n",
    "OPENBIOLINK\n",
    "`MRR: 0.246\n",
    "Hits@1: 0.170\n",
    "Hits@3: 0.283\n",
    "Hits@10: 0.440`\n",
    "\n",
    "FB15k\n",
    "` MRR: 0.309\n",
    "Hits@1: 0.236\n",
    "Hits@3: 0.348\n",
    "Hits@10: 0.486\n",
    "`\n",
    "\n",
    "YAGO3:\n",
    "`MRR: 0.549\n",
    "Hits@1: 0.487\n",
    "Hits@3: 0.594\n",
    "Hits@10: 0.668`"
   ]
  },
  {
   "cell_type": "code",
   "execution_count": null,
   "id": "heated-trade",
   "metadata": {},
   "outputs": [],
   "source": []
  },
  {
   "cell_type": "markdown",
   "id": "proud-opportunity",
   "metadata": {},
   "source": [
    "### After KG enrichment"
   ]
  },
  {
   "cell_type": "code",
   "execution_count": null,
   "id": "sunset-teacher",
   "metadata": {},
   "outputs": [],
   "source": []
  },
  {
   "cell_type": "code",
   "execution_count": null,
   "id": "informal-fifteen",
   "metadata": {},
   "outputs": [],
   "source": []
  },
  {
   "cell_type": "code",
   "execution_count": null,
   "id": "early-wisconsin",
   "metadata": {},
   "outputs": [],
   "source": []
  },
  {
   "cell_type": "markdown",
   "id": "noble-glance",
   "metadata": {},
   "source": [
    "### Compare mined rules (AMIE+)"
   ]
  },
  {
   "cell_type": "code",
   "execution_count": 2,
   "id": "august-frost",
   "metadata": {},
   "outputs": [],
   "source": [
    "### import numpy as np\n",
    "with open(\"./amie/out_amie_v1.txt\") as file:\n",
    "    rules_v1 = file.readlines()\n",
    "    rules_v1 = list(filter(lambda x: x.startswith(\"?\"), rules_v1))\n",
    "with open(\"./amie/out_amie_v3_sameAs_v1.txt\") as file:\n",
    "    rules_v2 = file.readlines()\n",
    "    rules_v2 = list(filter(lambda x: x.startswith(\"?\"), rules_v2))\n"
   ]
  },
  {
   "cell_type": "code",
   "execution_count": 3,
   "id": "modified-clone",
   "metadata": {},
   "outputs": [
    {
     "data": {
      "text/plain": [
       "'?b  INTACT::DEPHOSPHORYLATION REACTION::Gene:Gene  ?a   => ?a  INTACT::DEPHOSPHORYLATION REACTION::Gene:Gene  ?b\\t0.227722772\\t0.227722772\\t0.250909091\\t69\\t303\\t275\\t?a\\n'"
      ]
     },
     "execution_count": 3,
     "metadata": {},
     "output_type": "execute_result"
    }
   ],
   "source": [
    "rules_v1[0]"
   ]
  },
  {
   "cell_type": "code",
   "execution_count": 4,
   "id": "corrected-august",
   "metadata": {},
   "outputs": [
    {
     "name": "stdout",
     "output_type": "stream",
     "text": [
      "Jaccard index of mined rules v1 and v2:  0.9876004592422503\n",
      "\n",
      "Avg confidence v1: 0.3118219945172175, v2: 0.3118627327964888\n"
     ]
    }
   ],
   "source": [
    "import numpy as np\n",
    "rule_expression1 = set(list(map(lambda x: x.split(\"\\t\")[0], rules_v1)))\n",
    "rule_expression2 = set(list(map(lambda x: x.split(\"\\t\")[0], rules_v2)))\n",
    "index = len(rule_expression1.intersection(rule_expression2))/len(rule_expression1.union(rule_expression2))\n",
    "print(\"Jaccard index of mined rules v1 and v2: \", index)\n",
    "\n",
    "# Confidence of mined rules\n",
    "avg_conf1 = np.mean([float(rule.split(\"\\t\")[3]) for rule in rules_v1])\n",
    "avg_conf2 = np.mean([float(rule.split(\"\\t\")[3]) for rule in rules_v2])\n",
    "\n",
    "print(\"\\nAvg confidence v1: {}, v2: {}\".format(avg_conf1, avg_conf2))"
   ]
  },
  {
   "cell_type": "code",
   "execution_count": null,
   "id": "suffering-federal",
   "metadata": {},
   "outputs": [],
   "source": []
  },
  {
   "cell_type": "code",
   "execution_count": null,
   "id": "severe-warrior",
   "metadata": {},
   "outputs": [],
   "source": []
  },
  {
   "cell_type": "markdown",
   "id": "corresponding-marks",
   "metadata": {},
   "source": [
    "### Compare mined rules (AnyBURL)"
   ]
  },
  {
   "cell_type": "code",
   "execution_count": 70,
   "id": "surgical-vancouver",
   "metadata": {},
   "outputs": [],
   "source": [
    "def return_confidence(rule):\n",
    "    return float(rule.split(\"\\t\")[2])"
   ]
  },
  {
   "cell_type": "code",
   "execution_count": 81,
   "id": "documented-yahoo",
   "metadata": {},
   "outputs": [
    {
     "data": {
      "text/plain": [
       "'5\\t5\\t1.0\\tSTRING::OTHER::Gene:Gene(Gene::83998,Y) <= STRING::OTHER::Gene:Gene(Y,Gene::83998)\\n'"
      ]
     },
     "execution_count": 81,
     "metadata": {},
     "output_type": "execute_result"
    }
   ],
   "source": [
    "threshold = 1.\n",
    "anyBURL_rules_filt = list(filter(lambda x: return_confidence(x)>=threshold, anyBURL_rules_v1))\n",
    "\n",
    "anyBURL_rules_filt[-1]"
   ]
  },
  {
   "cell_type": "code",
   "execution_count": 87,
   "id": "boxed-period",
   "metadata": {},
   "outputs": [
    {
     "name": "stdout",
     "output_type": "stream",
     "text": [
      "Jaccard index of mined rules v1 and v2:  0.2712462672137839\n",
      "\n",
      "Avg confidence v1: 0.5285819316297514, v2: 0.534223820369677\n"
     ]
    }
   ],
   "source": [
    "### import numpy as np\n",
    "with open(\"./anyBURL/rules/sorted_rules_v1\") as file:\n",
    "    anyBURL_rules_v1 = file.readlines()\n",
    "with open(\"./anyBURL/rules/sorted_rules_v2\") as file:\n",
    "    anyBURL_rules_v2 = file.readlines()\n",
    "\n",
    "# Jaccard index\n",
    "#anyBURL_rules_v1 = list(filter(lambda x: return_confidence(x)>=threshold, anyBURL_rules_v1))\n",
    "#anyBURL_rules_v2 = list(filter(lambda x: return_confidence(x)>=threshold, anyBURL_rules_v2))\n",
    "\n",
    "rule_expression1 = set(list(map(lambda x: x.split(\"\\t\")[3], anyBURL_rules_v1)))\n",
    "rule_expression2 = set(list(map(lambda x: x.split(\"\\t\")[3], anyBURL_rules_v2)))\n",
    "index = len(rule_expression1.intersection(rule_expression2))/len(rule_expression1.union(rule_expression2))\n",
    "print(\"Jaccard index of mined rules v1 and v2: \", index)\n",
    "\n",
    "# Confidence of mined rules\n",
    "avg_conf1 = np.mean([float(rule.split(\"\\t\")[2]) for rule in anyBURL_rules_v1])\n",
    "avg_conf2 = np.mean([float(rule.split(\"\\t\")[2]) for rule in anyBURL_rules_v2])\n",
    "\n",
    "print(\"\\nAvg confidence v1: {}, v2: {}\".format(avg_conf1, avg_conf2))"
   ]
  },
  {
   "cell_type": "code",
   "execution_count": 83,
   "id": "parental-local",
   "metadata": {},
   "outputs": [
    {
     "data": {
      "text/plain": [
       "['50\\t50\\t1.0\\tSTRING::BINDING::Gene:Gene(Gene::51077,Y) <= STRING::BINDING::Gene:Gene(Y,Gene::51077)\\n',\n",
       " '211\\t211\\t1.0\\tSTRING::CATALYSIS::Gene:Gene(X,Gene::1233) <= STRING::REACTION::Gene:Gene(X,Gene::1233)\\n',\n",
       " '211\\t211\\t1.0\\tSTRING::CATALYSIS::Gene:Gene(X,Gene::1233) <= STRING::REACTION::Gene:Gene(Gene::1233,X)\\n',\n",
       " '13\\t13\\t1.0\\tSTRING::OTHER::Gene:Gene(X,Gene::5140) <= STRING::OTHER::Gene:Gene(Gene::5140,X)\\n',\n",
       " '105\\t105\\t1.0\\tSTRING::BINDING::Gene:Gene(Gene::23063,Y) <= STRING::BINDING::Gene:Gene(Y,Gene::23063)\\n',\n",
       " '6\\t6\\t1.0\\tGNBR::E+::Gene:Gene(Gene::6287,Y) <= GNBR::E+::Gene:Gene(Y,Gene::6287)\\n',\n",
       " '17\\t17\\t1.0\\tSTRING::OTHER::Gene:Gene(Gene::788,Y) <= STRING::OTHER::Gene:Gene(Y,Gene::788)\\n',\n",
       " '3\\t3\\t1.0\\tGNBR::E::Compound:Gene(Compound::DB11257,Y) <= GNBR::E+::Compound:Gene(Compound::DB11257,Y)\\n',\n",
       " '112\\t112\\t1.0\\tSTRING::BINDING::Gene:Gene(X,Gene::2072) <= STRING::BINDING::Gene:Gene(Gene::2072,X)\\n',\n",
       " '26\\t26\\t1.0\\tSTRING::REACTION::Gene:Gene(X,Gene::9984) <= STRING::ACTIVATION::Gene:Gene(X,Gene::9984)\\n',\n",
       " '26\\t26\\t1.0\\tSTRING::REACTION::Gene:Gene(X,Gene::9984) <= STRING::ACTIVATION::Gene:Gene(Gene::9984,X)\\n',\n",
       " '6\\t6\\t1.0\\tSTRING::ACTIVATION::Gene:Gene(Gene::10000,Y) <= STRING::EXPRESSION::Gene:Gene(Gene::10000,Y)\\n',\n",
       " '7\\t7\\t1.0\\tSTRING::ACTIVATION::Gene:Gene(X,Gene::84254) <= STRING::ACTIVATION::Gene:Gene(Gene::84254,X)\\n',\n",
       " '11\\t11\\t1.0\\tGNBR::E+::Gene:Gene(Gene::15945,Y) <= GNBR::E+::Gene:Gene(Y,Gene::15945)\\n',\n",
       " '259\\t259\\t1.0\\tSTRING::CATALYSIS::Gene:Gene(X,Gene::55958) <= STRING::CATALYSIS::Gene:Gene(Gene::55958,X)\\n',\n",
       " '7\\t7\\t1.0\\tSTRING::ACTIVATION::Gene:Gene(Gene::51719,Y) <= STRING::PTMOD::Gene:Gene(Y,Gene::51719)\\n',\n",
       " '51\\t51\\t1.0\\tSTRING::BINDING::Gene:Gene(X,Gene::4684) <= STRING::BINDING::Gene:Gene(Gene::4684,X)\\n',\n",
       " '69\\t69\\t1.0\\tSTRING::REACTION::Gene:Gene(X,Gene::170482) <= STRING::REACTION::Gene:Gene(Gene::170482,X)\\n',\n",
       " '116\\t116\\t1.0\\tSTRING::OTHER::Gene:Gene(Gene::6648,Y) <= STRING::OTHER::Gene:Gene(Y,Gene::6648)\\n',\n",
       " '35\\t35\\t1.0\\tSTRING::REACTION::Gene:Gene(Gene::81792,Y) <= STRING::REACTION::Gene:Gene(Y,Gene::81792)\\n']"
      ]
     },
     "execution_count": 83,
     "metadata": {},
     "output_type": "execute_result"
    }
   ],
   "source": [
    "anyBURL_rules_v1"
   ]
  },
  {
   "cell_type": "code",
   "execution_count": 84,
   "id": "thermal-burke",
   "metadata": {},
   "outputs": [
    {
     "data": {
      "text/plain": [
       "['50\\t50\\t1.0\\tSTRING::BINDING::Gene:Gene(Gene::51077,Y) <= STRING::BINDING::Gene:Gene(Y,Gene::51077)\\n',\n",
       " '3\\t3\\t1.0\\tGNBR::Rg::Gene:Gene(Gene::23191,Y) <= GNBR::Rg::Gene:Gene(Y,Gene::23191)\\n',\n",
       " '2\\t2\\t1.0\\tbioarx::HumGenHumGen:Gene:Gene(Gene::27284,Y) <= INTACT::PHYSICAL ASSOCIATION::Gene:Gene(Gene::27284,Y)\\n',\n",
       " '211\\t211\\t1.0\\tSTRING::CATALYSIS::Gene:Gene(X,Gene::1233) <= STRING::REACTION::Gene:Gene(X,Gene::1233)\\n',\n",
       " '211\\t211\\t1.0\\tSTRING::CATALYSIS::Gene:Gene(X,Gene::1233) <= STRING::REACTION::Gene:Gene(Gene::1233,X)\\n',\n",
       " '3\\t3\\t1.0\\tSTRING::CATALYSIS::Gene:Gene(Gene::23774,Y) <= STRING::INHIBITION::Gene:Gene(Y,Gene::23774)\\n',\n",
       " '13\\t13\\t1.0\\tSTRING::OTHER::Gene:Gene(X,Gene::5140) <= STRING::OTHER::Gene:Gene(Gene::5140,X)\\n',\n",
       " '105\\t105\\t1.0\\tSTRING::BINDING::Gene:Gene(Gene::23063,Y) <= STRING::BINDING::Gene:Gene(Y,Gene::23063)\\n',\n",
       " '112\\t112\\t1.0\\tSTRING::BINDING::Gene:Gene(X,Gene::2072) <= STRING::BINDING::Gene:Gene(Gene::2072,X)\\n',\n",
       " '26\\t26\\t1.0\\tSTRING::REACTION::Gene:Gene(X,Gene::9984) <= STRING::ACTIVATION::Gene:Gene(Gene::9984,X)\\n',\n",
       " '7\\t7\\t1.0\\tSTRING::ACTIVATION::Gene:Gene(X,Gene::84254) <= STRING::ACTIVATION::Gene:Gene(Gene::84254,X)\\n',\n",
       " '7\\t7\\t1.0\\tDRUGBANK::ddi-interactor-in::Compound:Compound(Compound::DB00349,Y) <= Hetionet::PCiC::Pharmacologic Class:Compound(Pharmacologic Class::N0000007853,Y)\\n',\n",
       " '11\\t11\\t1.0\\tGNBR::E+::Gene:Gene(Gene::15945,Y) <= GNBR::E+::Gene:Gene(Y,Gene::15945)\\n',\n",
       " '259\\t259\\t1.0\\tSTRING::CATALYSIS::Gene:Gene(X,Gene::55958) <= STRING::CATALYSIS::Gene:Gene(Gene::55958,X)\\n',\n",
       " '18\\t18\\t1.0\\tSTRING::REACTION::Gene:Gene(X,Gene::10476) <= STRING::CATALYSIS::Gene:Gene(X,Gene::10476)\\n',\n",
       " '7\\t7\\t1.0\\tSTRING::ACTIVATION::Gene:Gene(Gene::51719,Y) <= STRING::PTMOD::Gene:Gene(Y,Gene::51719)\\n',\n",
       " '7\\t7\\t1.0\\tSTRING::ACTIVATION::Gene:Gene(Gene::51719,Y) <= STRING::PTMOD::Gene:Gene(Gene::51719,Y)\\n',\n",
       " '7\\t7\\t1.0\\tSTRING::INHIBITION::Gene:Gene(Gene::3572,Y) <= STRING::INHIBITION::Gene:Gene(Y,Gene::3572)\\n',\n",
       " '51\\t51\\t1.0\\tSTRING::BINDING::Gene:Gene(X,Gene::4684) <= STRING::BINDING::Gene:Gene(Gene::4684,X)\\n',\n",
       " '69\\t69\\t1.0\\tSTRING::REACTION::Gene:Gene(X,Gene::170482) <= STRING::REACTION::Gene:Gene(Gene::170482,X)\\n']"
      ]
     },
     "execution_count": 84,
     "metadata": {},
     "output_type": "execute_result"
    }
   ],
   "source": [
    "anyBURL_rules_v2[:20]"
   ]
  },
  {
   "cell_type": "code",
   "execution_count": 86,
   "id": "powerful-separate",
   "metadata": {},
   "outputs": [
    {
     "data": {
      "text/plain": [
       "57124"
      ]
     },
     "execution_count": 86,
     "metadata": {},
     "output_type": "execute_result"
    }
   ],
   "source": [
    "len(set(anyBURL_rules_v1).intersection(set(anyBURL_rules_v2)))"
   ]
  },
  {
   "cell_type": "code",
   "execution_count": 88,
   "id": "specific-funeral",
   "metadata": {},
   "outputs": [
    {
     "data": {
      "text/plain": [
       "290590"
      ]
     },
     "execution_count": 88,
     "metadata": {},
     "output_type": "execute_result"
    }
   ],
   "source": [
    "len(anyBURL_rules_v1)"
   ]
  },
  {
   "cell_type": "code",
   "execution_count": 89,
   "id": "muslim-sheriff",
   "metadata": {},
   "outputs": [
    {
     "data": {
      "text/plain": [
       "301137"
      ]
     },
     "execution_count": 89,
     "metadata": {},
     "output_type": "execute_result"
    }
   ],
   "source": [
    "len(anyBURL_rules_v2)"
   ]
  },
  {
   "cell_type": "code",
   "execution_count": null,
   "id": "strategic-novel",
   "metadata": {},
   "outputs": [],
   "source": []
  },
  {
   "cell_type": "code",
   "execution_count": 2,
   "id": "polish-finance",
   "metadata": {},
   "outputs": [],
   "source": [
    "import pandas as pd"
   ]
  },
  {
   "cell_type": "code",
   "execution_count": null,
   "id": "retired-substitute",
   "metadata": {},
   "outputs": [],
   "source": []
  },
  {
   "cell_type": "code",
   "execution_count": null,
   "id": "attended-peter",
   "metadata": {},
   "outputs": [],
   "source": []
  },
  {
   "cell_type": "code",
   "execution_count": null,
   "id": "statewide-vacation",
   "metadata": {},
   "outputs": [],
   "source": []
  },
  {
   "cell_type": "code",
   "execution_count": null,
   "id": "interstate-exercise",
   "metadata": {},
   "outputs": [],
   "source": []
  }
 ],
 "metadata": {
  "kernelspec": {
   "display_name": "secondment",
   "language": "python",
   "name": "secondment"
  },
  "language_info": {
   "codemirror_mode": {
    "name": "ipython",
    "version": 3
   },
   "file_extension": ".py",
   "mimetype": "text/x-python",
   "name": "python",
   "nbconvert_exporter": "python",
   "pygments_lexer": "ipython3",
   "version": "3.9.7"
  }
 },
 "nbformat": 4,
 "nbformat_minor": 5
}
