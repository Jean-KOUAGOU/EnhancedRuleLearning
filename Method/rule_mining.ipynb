{
 "cells": [
  {
   "cell_type": "markdown",
   "id": "stylish-specification",
   "metadata": {},
   "source": [
    "### AMIE rules before and after KG enrichment using TransE"
   ]
  },
  {
   "cell_type": "code",
   "execution_count": 1,
   "id": "lasting-harvey",
   "metadata": {},
   "outputs": [],
   "source": [
    "def compare_rules_amie(rules_before, rules_after):\n",
    "    with open(rules_before) as file:\n",
    "        Rules_1 = file.read().strip().split('\\n')\n",
    "    with open(rules_after) as file:\n",
    "        Rules_2 = file.read().strip().split('\\n')\n",
    "    rules_1 = list(filter(lambda x: x.startswith(\"?\"), Rules_1))\n",
    "    rules_2 = list(filter(lambda x: x.startswith(\"?\"), Rules_2))\n",
    "    Rules_1 = set(map(lambda x: x.split('\\t')[0], rules_1))\n",
    "    Rules_2 = set(map(lambda x: x.split('\\t')[0], rules_2))\n",
    "    \n",
    "    new_rules = Rules_2-Rules_1\n",
    "    \n",
    "    dropped_rules = Rules_1-Rules_2\n",
    "    \n",
    "    same_rules = Rules_1.intersection(Rules_2)\n",
    "    \n",
    "    new_rules = sorted(filter(lambda x: x.split('\\t')[0] in new_rules, rules_2),key=lambda t: float(t.split('\\t')[3]), reverse=True)\n",
    "    dropped_rules = sorted(filter(lambda x: x.split('\\t')[0] in dropped_rules, rules_1),key=lambda t: float(t.split('\\t')[3]), reverse=True)\n",
    "    same_rules_1 = sorted(filter(lambda x: x.split('\\t')[0] in same_rules, rules_1),key=lambda t: float(t.split('\\t')[3]), reverse=True)\n",
    "    same_rules_2 = sorted(filter(lambda x: x.split('\\t')[0] in same_rules, rules_2),key=lambda t: float(t.split('\\t')[3]), reverse=True)\n",
    "    rules_1 = sorted(rules_1, key=lambda t: float(t.split('\\t')[3]), reverse=True)\n",
    "    rules_2 = sorted(rules_2, key=lambda t: float(t.split('\\t')[3]), reverse=True)\n",
    "    \n",
    "    print(f'There were {len(Rules_1)} rules before, there are {len(Rules_2)} after enrichment')\n",
    "    print()\n",
    "    print(f'There are {len(same_rules)} same rules, {len(new_rules)} new rules, {len(dropped_rules)} dropped rules')\n",
    "    \n",
    "    #print('\\nNew rules', new_rules)\n",
    "    #print('\\nDropped rules', dropped_rules)\n",
    "    return same_rules_1, same_rules_2, rules_1, rules_2, new_rules, dropped_rules"
   ]
  },
  {
   "cell_type": "markdown",
   "id": "informal-accountability",
   "metadata": {},
   "source": [
    "## WN18RR"
   ]
  },
  {
   "cell_type": "code",
   "execution_count": 2,
   "id": "existing-initial",
   "metadata": {},
   "outputs": [
    {
     "name": "stdout",
     "output_type": "stream",
     "text": [
      "There were 34 rules before, there are 90 after enrichment\n",
      "\n",
      "There are 24 same rules, 66 new rules, 10 dropped rules\n"
     ]
    }
   ],
   "source": [
    "same_rules_amie_wn18rr_1, same_rules_amie_wn18rr_2, rules_amie_before_wn18rr, rules_amie_after_wn18rr, \\\n",
    "new_rules_amie_wn18rr, dropped_rules_amie_wn18rr = compare_rules_amie('AMIE/rules_wn18rr/rules.txt', 'TransAMIE/rules_wn18rr/rules.txt')"
   ]
  },
  {
   "cell_type": "code",
   "execution_count": 3,
   "id": "vulnerable-vessel",
   "metadata": {},
   "outputs": [
    {
     "data": {
      "text/plain": [
       "['?b  _verb_group  ?a   => ?a  _verb_group  ?b\\t0.931458699\\t0.931458699\\t0.980573543\\t1060\\t1138\\t1081\\t?b',\n",
       " '?b  _derivationally_related_form  ?a   => ?a  _derivationally_related_form  ?b\\t0.932222783\\t0.932222783\\t0.95163008\\t27701\\t29715\\t29109\\t?b',\n",
       " '?b  _also_see  ?a   => ?a  _also_see  ?b\\t0.637413395\\t0.637413395\\t0.883671291\\t828\\t1299\\t937\\t?b',\n",
       " '?a  _instance_hypernym  ?h  ?h  _synset_domain_topic_of  ?b   => ?a  _synset_domain_topic_of  ?b\\t0.032092426\\t0.395256917\\t0.862068966\\t100\\t253\\t116\\t?a',\n",
       " '?a  _hypernym  ?h  ?h  _synset_domain_topic_of  ?b   => ?a  _synset_domain_topic_of  ?b\\t0.178754814\\t0.285056295\\t0.809593023\\t557\\t1954\\t688\\t?a']"
      ]
     },
     "execution_count": 3,
     "metadata": {},
     "output_type": "execute_result"
    }
   ],
   "source": [
    "same_rules_amie_wn18rr_1[:5]"
   ]
  },
  {
   "cell_type": "code",
   "execution_count": 4,
   "id": "southern-reunion",
   "metadata": {},
   "outputs": [
    {
     "data": {
      "text/plain": [
       "['?h  _synset_domain_topic_of  ?b  ?a  _verb_group  ?h   => ?a  _synset_domain_topic_of  ?b\\t0.012516046\\t0.375\\t0.75\\t39\\t104\\t52\\t?a',\n",
       " '?g  _synset_domain_topic_of  ?b  ?g  _verb_group  ?a   => ?a  _synset_domain_topic_of  ?b\\t0.012516046\\t0.386138614\\t0.75\\t39\\t101\\t52\\t?a',\n",
       " '?g  _hypernym  ?b  ?a  _member_of_domain_region  ?g   => ?a  _member_of_domain_region  ?b\\t0.01191766\\t0.021072797\\t0.733333333\\t11\\t522\\t15\\t?b',\n",
       " '?g  _hypernym  ?b  ?a  _member_of_domain_usage  ?g   => ?a  _member_of_domain_usage  ?b\\t0.028616852\\t0.04400978\\t0.72\\t18\\t409\\t25\\t?b',\n",
       " '?a  _has_part  ?h  ?b  _instance_hypernym  ?h   => ?a  _has_part  ?b\\t0.029900332\\t0.41025641\\t0.52173913\\t144\\t351\\t276\\t?b']"
      ]
     },
     "execution_count": 4,
     "metadata": {},
     "output_type": "execute_result"
    }
   ],
   "source": [
    "dropped_rules_amie_wn18rr[:5]"
   ]
  },
  {
   "cell_type": "code",
   "execution_count": 5,
   "id": "tribal-nevada",
   "metadata": {},
   "outputs": [
    {
     "name": "stdout",
     "output_type": "stream",
     "text": [
      "PCA: 0.4063505224\n",
      "Std: 0.15840383379999998\n"
     ]
    }
   ],
   "source": [
    "# Dropped rules\n",
    "print('PCA:',sum(list(map(lambda x: float(x.split('\\t')[3]), dropped_rules_amie_wn18rr)))/len(dropped_rules_amie_wn18rr))\n",
    "print('Std:',sum(list(map(lambda x: float(x.split('\\t')[2]), dropped_rules_amie_wn18rr)))/len(dropped_rules_amie_wn18rr))"
   ]
  },
  {
   "cell_type": "code",
   "execution_count": 6,
   "id": "strong-potential",
   "metadata": {},
   "outputs": [
    {
     "data": {
      "text/plain": [
       "['?a  _member_meronym  ?b   => ?a  _similar_to  ?b\\t0.460526316\\t0.009140768\\t0.707070707\\t70\\t7658\\t99\\t?b',\n",
       " '?a  _hypernym  ?b   => ?a  _similar_to  ?b\\t0.414473684\\t0.001971091\\t0.692307692\\t63\\t31962\\t91\\t?b',\n",
       " '?a  _also_see  ?b   => ?a  _similar_to  ?b\\t0.513157895\\t0.06824147\\t0.684210526\\t78\\t1143\\t114\\t?b',\n",
       " '?h  _hypernym  ?b  ?a  _member_of_domain_usage  ?h   => ?a  _member_of_domain_usage  ?b\\t0.01610306\\t0.02617801\\t0.666666667\\t10\\t382\\t15\\t?b',\n",
       " '?a  _derivationally_related_form  ?b   => ?a  _similar_to  ?b\\t0.513157895\\t0.003055469\\t0.527027027\\t78\\t25528\\t148\\t?b',\n",
       " '?a  _member_meronym  ?b   => ?a  _has_part  ?b\\t0.015331462\\t0.00927135\\t0.360406091\\t71\\t7658\\t197\\t?b',\n",
       " '?a  _derivationally_related_form  ?b   => ?a  _member_meronym  ?b\\t0.010446592\\t0.003133814\\t0.283687943\\t80\\t25528\\t282\\t?b',\n",
       " '?a  _hypernym  ?b   => ?a  _also_see  ?b\\t0.058617673\\t0.002096239\\t0.201201201\\t67\\t31962\\t333\\t?b',\n",
       " '?a  _derivationally_related_form  ?b   => ?a  _has_part  ?b\\t0.016627078\\t0.003016296\\t0.172259508\\t77\\t25528\\t447\\t?b',\n",
       " '?h  _derivationally_related_form  ?b  ?a  _derivationally_related_form  ?h   => ?a  _verb_group  ?b\\t0.265761397\\t0.006023964\\t0.143756558\\t274\\t45485\\t1906\\t?b']"
      ]
     },
     "execution_count": 6,
     "metadata": {},
     "output_type": "execute_result"
    }
   ],
   "source": [
    "new_rules_amie_wn18rr[-10:]"
   ]
  },
  {
   "cell_type": "code",
   "execution_count": 7,
   "id": "elementary-north",
   "metadata": {},
   "outputs": [
    {
     "name": "stdout",
     "output_type": "stream",
     "text": [
      "PCA: 0.8880675046818184\n",
      "Std: 0.6548039246212123\n"
     ]
    }
   ],
   "source": [
    "# New rules\n",
    "print('PCA:',sum(list(map(lambda x: float(x.split('\\t')[3]), new_rules_amie_wn18rr)))/len(new_rules_amie_wn18rr))\n",
    "print('Std:',sum(list(map(lambda x: float(x.split('\\t')[2]), new_rules_amie_wn18rr)))/len(new_rules_amie_wn18rr))"
   ]
  },
  {
   "cell_type": "code",
   "execution_count": 8,
   "id": "cultural-conspiracy",
   "metadata": {},
   "outputs": [
    {
     "name": "stdout",
     "output_type": "stream",
     "text": [
      "PCA: 0.5201082241249999\n",
      "Std: 0.2835829905833334\n",
      "\n",
      "PCA: 0.4736712131666667\n",
      "Std: 0.226862331375\n"
     ]
    }
   ],
   "source": [
    "# Same rules\n",
    "print('PCA:',sum(list(map(lambda x: float(x.split('\\t')[3]), same_rules_amie_wn18rr_1)))/len(same_rules_amie_wn18rr_1))\n",
    "print('Std:',sum(list(map(lambda x: float(x.split('\\t')[2]), same_rules_amie_wn18rr_1)))/len(same_rules_amie_wn18rr_1))\n",
    "\n",
    "print()\n",
    "print('PCA:',sum(list(map(lambda x: float(x.split('\\t')[3]), same_rules_amie_wn18rr_2)))/len(same_rules_amie_wn18rr_2))\n",
    "print('Std:',sum(list(map(lambda x: float(x.split('\\t')[2]), same_rules_amie_wn18rr_2)))/len(same_rules_amie_wn18rr_2))"
   ]
  },
  {
   "cell_type": "code",
   "execution_count": 9,
   "id": "taken-explanation",
   "metadata": {},
   "outputs": [
    {
     "name": "stdout",
     "output_type": "stream",
     "text": [
      "PCA: 0.4866500765588235\n",
      "Std: 0.24676559152941172\n"
     ]
    }
   ],
   "source": [
    "# Before\n",
    "print('PCA:',sum(list(map(lambda x: float(x.split('\\t')[3]), rules_amie_before_wn18rr)))/len(rules_amie_before_wn18rr))\n",
    "print('Std:',sum(list(map(lambda x: float(x.split('\\t')[2]), rules_amie_before_wn18rr)))/len(rules_amie_before_wn18rr))"
   ]
  },
  {
   "cell_type": "code",
   "execution_count": 10,
   "id": "reduced-terry",
   "metadata": {},
   "outputs": [
    {
     "name": "stdout",
     "output_type": "stream",
     "text": [
      "PCA: 0.7775618269444449\n",
      "Std: 0.5406861664222223\n"
     ]
    }
   ],
   "source": [
    "# After enrichment\n",
    "print('PCA:',sum(list(map(lambda x: float(x.split('\\t')[3]), rules_amie_after_wn18rr)))/len(rules_amie_after_wn18rr))\n",
    "print('Std:',sum(list(map(lambda x: float(x.split('\\t')[2]), rules_amie_after_wn18rr)))/len(rules_amie_after_wn18rr))"
   ]
  },
  {
   "cell_type": "markdown",
   "id": "moral-palestine",
   "metadata": {},
   "source": [
    "## Mutagenesis"
   ]
  },
  {
   "cell_type": "code",
   "execution_count": 11,
   "id": "static-librarian",
   "metadata": {},
   "outputs": [
    {
     "name": "stdout",
     "output_type": "stream",
     "text": [
      "There were 9 rules before, there are 17 after enrichment\n",
      "\n",
      "There are 9 same rules, 8 new rules, 0 dropped rules\n"
     ]
    }
   ],
   "source": [
    "same_rules_amie_mut_1, same_rules_amie_mut_2, rules_amie_before_mut, rules_amie_after_mut, \\\n",
    "new_rules_amie_mut, dropped_rules_amie_mut = compare_rules_amie('AMIE/rules_mutagenesis/rules.txt', 'TransAMIE/rules_mutagenesis/rules.txt')"
   ]
  },
  {
   "cell_type": "code",
   "execution_count": 12,
   "id": "clear-emerald",
   "metadata": {},
   "outputs": [],
   "source": [
    "# Dropped rules, undefined\n",
    "#sum(list(map(lambda x: float(x.split('\\t')[3]), dropped_rules_amie_mut)))/len(dropped_rules_amie_mut)"
   ]
  },
  {
   "cell_type": "code",
   "execution_count": 13,
   "id": "rough-affect",
   "metadata": {},
   "outputs": [
    {
     "name": "stdout",
     "output_type": "stream",
     "text": [
      "PCA: 0.5425176136666666\n",
      "Std: 0.43713459811111105\n"
     ]
    }
   ],
   "source": [
    "# Before enrichment\n",
    "print('PCA:',sum(list(map(lambda x: float(x.split('\\t')[3]), rules_amie_before_mut)))/len(rules_amie_before_mut))\n",
    "print('Std:',sum(list(map(lambda x: float(x.split('\\t')[2]), rules_amie_before_mut)))/len(rules_amie_before_mut))"
   ]
  },
  {
   "cell_type": "code",
   "execution_count": 14,
   "id": "likely-grove",
   "metadata": {},
   "outputs": [
    {
     "name": "stdout",
     "output_type": "stream",
     "text": [
      "PCA: 0.5532036077058823\n",
      "Std: 0.47268887935294107\n"
     ]
    }
   ],
   "source": [
    "# After enrichment\n",
    "print('PCA:',sum(list(map(lambda x: float(x.split('\\t')[3]), rules_amie_after_mut)))/len(rules_amie_after_mut))\n",
    "print('Std:',sum(list(map(lambda x: float(x.split('\\t')[2]), rules_amie_after_mut)))/len(rules_amie_after_mut))"
   ]
  },
  {
   "cell_type": "code",
   "execution_count": 15,
   "id": "activated-florida",
   "metadata": {},
   "outputs": [
    {
     "name": "stdout",
     "output_type": "stream",
     "text": [
      "PCA: 0.5425176136666666\n",
      "Std: 0.43713459811111105\n",
      "\n",
      "PCA: 0.5449401478888889\n",
      "Std: 0.47222185144444445\n"
     ]
    }
   ],
   "source": [
    "# Same rules\n",
    "print('PCA:',sum(list(map(lambda x: float(x.split('\\t')[3]), same_rules_amie_mut_1)))/len(same_rules_amie_mut_1))\n",
    "print('Std:',sum(list(map(lambda x: float(x.split('\\t')[2]), same_rules_amie_mut_1)))/len(same_rules_amie_mut_1))\n",
    "print()\n",
    "print('PCA:',sum(list(map(lambda x: float(x.split('\\t')[3]), same_rules_amie_mut_2)))/len(same_rules_amie_mut_2))\n",
    "print('Std:',sum(list(map(lambda x: float(x.split('\\t')[2]), same_rules_amie_mut_2)))/len(same_rules_amie_mut_2))"
   ]
  },
  {
   "cell_type": "code",
   "execution_count": 16,
   "id": "adaptive-basic",
   "metadata": {},
   "outputs": [
    {
     "name": "stdout",
     "output_type": "stream",
     "text": [
      "PCA: 0.5625\n",
      "Std: 0.47321428574999996\n"
     ]
    }
   ],
   "source": [
    "# New rules\n",
    "print('PCA:',sum(list(map(lambda x: float(x.split('\\t')[3]), new_rules_amie_mut)))/len(new_rules_amie_mut))\n",
    "print('Std:',sum(list(map(lambda x: float(x.split('\\t')[2]), new_rules_amie_mut)))/len(new_rules_amie_mut))"
   ]
  },
  {
   "cell_type": "markdown",
   "id": "nutritional-ukraine",
   "metadata": {},
   "source": [
    "## Carcinogenesis"
   ]
  },
  {
   "cell_type": "code",
   "execution_count": 17,
   "id": "measured-enhancement",
   "metadata": {},
   "outputs": [
    {
     "name": "stdout",
     "output_type": "stream",
     "text": [
      "There were 185 rules before, there are 317 after enrichment\n",
      "\n",
      "There are 147 same rules, 170 new rules, 38 dropped rules\n"
     ]
    }
   ],
   "source": [
    "same_rules_amie_car_1, same_rules_amie_car_2, rules_amie_before_car, rules_amie_after_car, \\\n",
    "new_rules_amie_car, dropped_rules_amie_car = compare_rules_amie('AMIE/rules_carcinogenesis/rules.txt', 'TransAMIE/rules_carcinogenesis/rules.txt')"
   ]
  },
  {
   "cell_type": "code",
   "execution_count": 18,
   "id": "unexpected-writing",
   "metadata": {},
   "outputs": [
    {
     "name": "stdout",
     "output_type": "stream",
     "text": [
      "PCA: 0.7375154245621616\n",
      "Std: 0.5162657981027027\n"
     ]
    }
   ],
   "source": [
    "# Before enrichment\n",
    "print('PCA:', sum(list(map(lambda x: float(x.split('\\t')[3]), rules_amie_before_car)))/len(rules_amie_before_car))\n",
    "print('Std:', sum(list(map(lambda x: float(x.split('\\t')[2]), rules_amie_before_car)))/len(rules_amie_before_car))"
   ]
  },
  {
   "cell_type": "code",
   "execution_count": 19,
   "id": "exact-forth",
   "metadata": {},
   "outputs": [
    {
     "name": "stdout",
     "output_type": "stream",
     "text": [
      "PCA: 0.695144739694006\n",
      "Std: 0.4452791533312304\n"
     ]
    }
   ],
   "source": [
    "# After enrichment\n",
    "print('PCA:',sum(list(map(lambda x: float(x.split('\\t')[3]), rules_amie_after_car)))/len(rules_amie_after_car))\n",
    "print('Std:',sum(list(map(lambda x: float(x.split('\\t')[2]), rules_amie_after_car)))/len(rules_amie_after_car))"
   ]
  },
  {
   "cell_type": "code",
   "execution_count": 20,
   "id": "integrated-bowling",
   "metadata": {},
   "outputs": [
    {
     "name": "stdout",
     "output_type": "stream",
     "text": [
      "PCA: 0.6813794434588235\n",
      "Std: 0.4150670346941179\n"
     ]
    }
   ],
   "source": [
    "# New rules\n",
    "print('PCA:',sum(list(map(lambda x: float(x.split('\\t')[3]), new_rules_amie_car)))/len(new_rules_amie_car))\n",
    "print('Std:',sum(list(map(lambda x: float(x.split('\\t')[2]), new_rules_amie_car)))/len(new_rules_amie_car))"
   ]
  },
  {
   "cell_type": "code",
   "execution_count": 21,
   "id": "forbidden-locator",
   "metadata": {},
   "outputs": [
    {
     "name": "stdout",
     "output_type": "stream",
     "text": [
      "PCA: 0.7535989299210527\n",
      "Std: 0.5282689622105262\n"
     ]
    }
   ],
   "source": [
    "# Dropped rules\n",
    "print('PCA:',sum(list(map(lambda x: float(x.split('\\t')[3]), dropped_rules_amie_car)))/len(dropped_rules_amie_car))\n",
    "print('Std:',sum(list(map(lambda x: float(x.split('\\t')[2]), dropped_rules_amie_car)))/len(dropped_rules_amie_car))"
   ]
  },
  {
   "cell_type": "code",
   "execution_count": 22,
   "id": "specified-doctrine",
   "metadata": {},
   "outputs": [
    {
     "name": "stdout",
     "output_type": "stream",
     "text": [
      "PCA: 0.7333577837210885\n",
      "Std: 0.5131629393537415\n"
     ]
    }
   ],
   "source": [
    "# Same rules\n",
    "print('PCA:',sum(list(map(lambda x: float(x.split('\\t')[3]), same_rules_amie_car_1)))/len(same_rules_amie_car_1))\n",
    "print('Std:',sum(list(map(lambda x: float(x.split('\\t')[2]), same_rules_amie_car_1)))/len(same_rules_amie_car_1))"
   ]
  },
  {
   "cell_type": "markdown",
   "id": "every-scout",
   "metadata": {},
   "source": [
    "## FB15k"
   ]
  },
  {
   "cell_type": "code",
   "execution_count": 23,
   "id": "according-muscle",
   "metadata": {},
   "outputs": [
    {
     "name": "stdout",
     "output_type": "stream",
     "text": [
      "There were 7591 rules before, there are 10109 after enrichment\n",
      "\n",
      "There are 7591 same rules, 4905 new rules, 0 dropped rules\n"
     ]
    }
   ],
   "source": [
    "same_rules_amie_fb_1, same_rules_amie_fb_2, rules_amie_before_fb, rules_amie_after_fb, \\\n",
    "new_rules_amie_fb, dropped_rules_amie_fb = compare_rules_amie('AMIE/rules_fb15k/rules.txt', 'TransAMIE/rules_fb15k/rules.txt')"
   ]
  },
  {
   "cell_type": "code",
   "execution_count": 24,
   "id": "incomplete-conspiracy",
   "metadata": {},
   "outputs": [
    {
     "name": "stdout",
     "output_type": "stream",
     "text": [
      "PCA: 0.5633267253446179\n",
      "Std: 0.3071214942907393\n"
     ]
    }
   ],
   "source": [
    "# Before enrichment\n",
    "print('PCA:',sum(list(map(lambda x: float(x.split('\\t')[3]), rules_amie_before_fb)))/len(rules_amie_before_fb))\n",
    "print('Std:',sum(list(map(lambda x: float(x.split('\\t')[2]), rules_amie_before_fb)))/len(rules_amie_before_fb))"
   ]
  },
  {
   "cell_type": "code",
   "execution_count": 25,
   "id": "civilian-thread",
   "metadata": {},
   "outputs": [
    {
     "name": "stdout",
     "output_type": "stream",
     "text": [
      "PCA: 0.5629404381041404\n",
      "Std: 0.27093583009590555\n"
     ]
    }
   ],
   "source": [
    "# After enrichment\n",
    "print('PCA:',sum(list(map(lambda x: float(x.split('\\t')[3]), rules_amie_after_fb)))/len(rules_amie_after_fb))\n",
    "print('Std:',sum(list(map(lambda x: float(x.split('\\t')[2]), rules_amie_after_fb)))/len(rules_amie_after_fb))"
   ]
  },
  {
   "cell_type": "code",
   "execution_count": 26,
   "id": "cosmetic-pressing",
   "metadata": {},
   "outputs": [],
   "source": [
    "# dropped rules, no dropped rules\n",
    "#sum(list(map(lambda x: float(x.split('\\t')[3]), dropped_rules_amie_fb)))/len(dropped_rules_amie_fb)"
   ]
  },
  {
   "cell_type": "code",
   "execution_count": 27,
   "id": "anonymous-chinese",
   "metadata": {},
   "outputs": [
    {
     "name": "stdout",
     "output_type": "stream",
     "text": [
      "PCA: 0.5460132989651448\n",
      "Std: 0.1516606972941899\n"
     ]
    }
   ],
   "source": [
    "# New rules\n",
    "print('PCA:',sum(list(map(lambda x: float(x.split('\\t')[3]), new_rules_amie_fb)))/len(new_rules_amie_fb))\n",
    "print('Std:',sum(list(map(lambda x: float(x.split('\\t')[2]), new_rules_amie_fb)))/len(new_rules_amie_fb))"
   ]
  },
  {
   "cell_type": "code",
   "execution_count": 28,
   "id": "following-eating",
   "metadata": {},
   "outputs": [
    {
     "name": "stdout",
     "output_type": "stream",
     "text": [
      "PCA: 0.5633267253446179\n",
      "Std: 0.3071214942907393\n"
     ]
    }
   ],
   "source": [
    "# Same rules\n",
    "print('PCA:',sum(list(map(lambda x: float(x.split('\\t')[3]), same_rules_amie_fb_1)))/len(same_rules_amie_fb_1))\n",
    "print('Std:',sum(list(map(lambda x: float(x.split('\\t')[2]), same_rules_amie_fb_1)))/len(same_rules_amie_fb_1))"
   ]
  },
  {
   "cell_type": "markdown",
   "id": "practical-howard",
   "metadata": {},
   "source": [
    "## YAGO3"
   ]
  },
  {
   "cell_type": "code",
   "execution_count": 29,
   "id": "fewer-finland",
   "metadata": {},
   "outputs": [
    {
     "name": "stdout",
     "output_type": "stream",
     "text": [
      "There were 235 rules before, there are 310 after enrichment\n",
      "\n",
      "There are 116 same rules, 194 new rules, 119 dropped rules\n"
     ]
    }
   ],
   "source": [
    "same_rules_amie_yago_1, same_rules_amie_yago_2, rules_amie_before_yago, rules_amie_after_yago, \\\n",
    "new_rules_amie_yago, dropped_rules_amie_yago = compare_rules_amie('AMIE/rules_yago3/rules.txt', 'TransAMIE/rules_yago3/rules.txt')"
   ]
  },
  {
   "cell_type": "code",
   "execution_count": 30,
   "id": "immediate-opposition",
   "metadata": {},
   "outputs": [
    {
     "name": "stdout",
     "output_type": "stream",
     "text": [
      "PCA: 0.3242538606127661\n",
      "Std: 0.19154214194468083\n"
     ]
    }
   ],
   "source": [
    "# Before enrichment\n",
    "print('PCA:',sum(list(map(lambda x: float(x.split('\\t')[3]), rules_amie_before_yago)))/len(rules_amie_before_yago))\n",
    "print('Std:',sum(list(map(lambda x: float(x.split('\\t')[2]), rules_amie_before_yago)))/len(rules_amie_before_yago))"
   ]
  },
  {
   "cell_type": "code",
   "execution_count": 31,
   "id": "ongoing-hopkins",
   "metadata": {},
   "outputs": [
    {
     "name": "stdout",
     "output_type": "stream",
     "text": [
      "PCA: 0.6707416839645169\n",
      "Std: 0.6007938599645165\n"
     ]
    }
   ],
   "source": [
    "# After enrichment\n",
    "print('PCA:',sum(list(map(lambda x: float(x.split('\\t')[3]), rules_amie_after_yago)))/len(rules_amie_after_yago))\n",
    "print('Std:',sum(list(map(lambda x: float(x.split('\\t')[2]), rules_amie_after_yago)))/len(rules_amie_after_yago))"
   ]
  },
  {
   "cell_type": "code",
   "execution_count": 32,
   "id": "piano-peoples",
   "metadata": {},
   "outputs": [
    {
     "name": "stdout",
     "output_type": "stream",
     "text": [
      "PCA: 0.8879264069587636\n",
      "Std: 0.8583710295567017\n"
     ]
    }
   ],
   "source": [
    "# New rules\n",
    "print('PCA:',sum(list(map(lambda x: float(x.split('\\t')[3]), new_rules_amie_yago)))/len(new_rules_amie_yago))\n",
    "print('Std:',sum(list(map(lambda x: float(x.split('\\t')[2]), new_rules_amie_yago)))/len(new_rules_amie_yago))"
   ]
  },
  {
   "cell_type": "code",
   "execution_count": 33,
   "id": "driven-karma",
   "metadata": {},
   "outputs": [
    {
     "name": "stdout",
     "output_type": "stream",
     "text": [
      "PCA: 0.2895052532268907\n",
      "Std: 0.14846234643697478\n"
     ]
    }
   ],
   "source": [
    "# Dropped rules\n",
    "print('PCA:',sum(list(map(lambda x: float(x.split('\\t')[3]), dropped_rules_amie_yago)))/len(dropped_rules_amie_yago))\n",
    "print('Std:',sum(list(map(lambda x: float(x.split('\\t')[2]), dropped_rules_amie_yago)))/len(dropped_rules_amie_yago))"
   ]
  },
  {
   "cell_type": "code",
   "execution_count": 34,
   "id": "rural-textbook",
   "metadata": {},
   "outputs": [
    {
     "name": "stdout",
     "output_type": "stream",
     "text": [
      "PCA: 0.35990113887931047\n",
      "Std: 0.23573607009482755\n"
     ]
    }
   ],
   "source": [
    "# Same rules\n",
    "print('PCA:',sum(list(map(lambda x: float(x.split('\\t')[3]), same_rules_amie_yago_1)))/len(same_rules_amie_yago_1))\n",
    "print('Std:',sum(list(map(lambda x: float(x.split('\\t')[2]), same_rules_amie_yago_1)))/len(same_rules_amie_yago_1))"
   ]
  },
  {
   "cell_type": "markdown",
   "id": "passing-progress",
   "metadata": {},
   "source": [
    "## Open Bio Link"
   ]
  },
  {
   "cell_type": "code",
   "execution_count": 35,
   "id": "desperate-finger",
   "metadata": {},
   "outputs": [
    {
     "name": "stdout",
     "output_type": "stream",
     "text": [
      "There were 713 rules before, there are 611 after enrichment\n",
      "\n",
      "There are 510 same rules, 101 new rules, 203 dropped rules\n"
     ]
    }
   ],
   "source": [
    "same_rules_amie_op_1, same_rules_amie_op_2, rules_amie_before_op, rules_amie_after_op, \\\n",
    "new_rules_amie_op, dropped_rules_amie_op = compare_rules_amie('AMIE/rules_openbiolink/rules.txt', 'TransAMIE/rules_openbiolink/rules.txt')"
   ]
  },
  {
   "cell_type": "code",
   "execution_count": 36,
   "id": "romantic-assumption",
   "metadata": {},
   "outputs": [
    {
     "name": "stdout",
     "output_type": "stream",
     "text": [
      "PCA: 0.31666675416129036\n",
      "Std: 0.2804260248106593\n"
     ]
    }
   ],
   "source": [
    "# Before enrichment\n",
    "print('PCA:',sum(list(map(lambda x: float(x.split('\\t')[3]), rules_amie_before_op)))/len(rules_amie_before_op))\n",
    "print('Std:',sum(list(map(lambda x: float(x.split('\\t')[2]), rules_amie_before_op)))/len(rules_amie_before_op))"
   ]
  },
  {
   "cell_type": "code",
   "execution_count": 37,
   "id": "invalid-sewing",
   "metadata": {},
   "outputs": [
    {
     "name": "stdout",
     "output_type": "stream",
     "text": [
      "PCA: 0.3353037292291323\n",
      "Std: 0.2905857795957448\n"
     ]
    }
   ],
   "source": [
    "# After enrichment\n",
    "print('PCA:',sum(list(map(lambda x: float(x.split('\\t')[3]), rules_amie_after_op)))/len(rules_amie_after_op))\n",
    "print('Std:',sum(list(map(lambda x: float(x.split('\\t')[2]), rules_amie_after_op)))/len(rules_amie_after_op))"
   ]
  },
  {
   "cell_type": "code",
   "execution_count": 38,
   "id": "eight-spending",
   "metadata": {},
   "outputs": [
    {
     "name": "stdout",
     "output_type": "stream",
     "text": [
      "PCA: 0.24821895901477792\n",
      "Std: 0.21569599121182248\n"
     ]
    }
   ],
   "source": [
    "# Dropped rules\n",
    "print('PCA:',sum(list(map(lambda x: float(x.split('\\t')[3]), dropped_rules_amie_op)))/len(dropped_rules_amie_op))\n",
    "print('Std:',sum(list(map(lambda x: float(x.split('\\t')[2]), dropped_rules_amie_op)))/len(dropped_rules_amie_op))"
   ]
  },
  {
   "cell_type": "code",
   "execution_count": 39,
   "id": "dimensional-instrumentation",
   "metadata": {},
   "outputs": [
    {
     "name": "stdout",
     "output_type": "stream",
     "text": [
      "PCA: 0.6501759515148514\n",
      "Std: 0.5803524768019802\n"
     ]
    }
   ],
   "source": [
    "# New rules\n",
    "print('PCA:',sum(list(map(lambda x: float(x.split('\\t')[3]), new_rules_amie_op)))/len(new_rules_amie_op))\n",
    "print('Std:',sum(list(map(lambda x: float(x.split('\\t')[2]), new_rules_amie_op)))/len(new_rules_amie_op))"
   ]
  },
  {
   "cell_type": "code",
   "execution_count": 40,
   "id": "placed-parliament",
   "metadata": {},
   "outputs": [
    {
     "name": "stdout",
     "output_type": "stream",
     "text": [
      "PCA: 0.3439116608568628\n",
      "Std: 0.306191116615686\n"
     ]
    }
   ],
   "source": [
    "# Same rules\n",
    "print('PCA:',sum(list(map(lambda x: float(x.split('\\t')[3]), same_rules_amie_op_1)))/len(same_rules_amie_op_1))\n",
    "print('Std:',sum(list(map(lambda x: float(x.split('\\t')[2]), same_rules_amie_op_1)))/len(same_rules_amie_op_1))"
   ]
  },
  {
   "cell_type": "markdown",
   "id": "offshore-building",
   "metadata": {},
   "source": [
    "## DRKG"
   ]
  },
  {
   "cell_type": "code",
   "execution_count": 41,
   "id": "returning-degree",
   "metadata": {},
   "outputs": [
    {
     "name": "stdout",
     "output_type": "stream",
     "text": [
      "There were 2804 rules before, there are 2776 after enrichment\n",
      "\n",
      "There are 1303 same rules, 1473 new rules, 1501 dropped rules\n"
     ]
    }
   ],
   "source": [
    "same_rules_amie_drkg_1, same_rules_amie_drkg_2, rules_amie_before_drkg, rules_amie_after_drkg, \\\n",
    "new_rules_amie_drkg, dropped_rules_amie_drkg = compare_rules_amie('AMIE/rules_drkg/rules.txt', 'TransAMIE/rules_drkg/rules.txt')"
   ]
  },
  {
   "cell_type": "code",
   "execution_count": 42,
   "id": "clear-jewel",
   "metadata": {},
   "outputs": [
    {
     "name": "stdout",
     "output_type": "stream",
     "text": [
      "PCA: 0.2894146629104849\n",
      "Std: 0.16976895299358047\n"
     ]
    }
   ],
   "source": [
    "# Before enrichment\n",
    "print('PCA:',sum(list(map(lambda x: float(x.split('\\t')[3]), rules_amie_before_drkg)))/len(rules_amie_before_drkg))\n",
    "print('Std:',sum(list(map(lambda x: float(x.split('\\t')[2]), rules_amie_before_drkg)))/len(rules_amie_before_drkg))"
   ]
  },
  {
   "cell_type": "code",
   "execution_count": 43,
   "id": "respective-neighborhood",
   "metadata": {},
   "outputs": [
    {
     "name": "stdout",
     "output_type": "stream",
     "text": [
      "PCA: 0.28688603990669986\n",
      "Std: 0.17173715055079278\n"
     ]
    }
   ],
   "source": [
    "# After enrichment\n",
    "print('PCA:',sum(list(map(lambda x: float(x.split('\\t')[3]), rules_amie_after_drkg)))/len(rules_amie_after_drkg))\n",
    "print('Std:',sum(list(map(lambda x: float(x.split('\\t')[2]), rules_amie_after_drkg)))/len(rules_amie_after_drkg))"
   ]
  },
  {
   "cell_type": "code",
   "execution_count": 44,
   "id": "bulgarian-brook",
   "metadata": {},
   "outputs": [
    {
     "name": "stdout",
     "output_type": "stream",
     "text": [
      "PCA: 0.2713560277094369\n",
      "Std: 0.1468777073951121\n"
     ]
    }
   ],
   "source": [
    "# New rules\n",
    "print('PCA:',sum(list(map(lambda x: float(x.split('\\t')[3]), new_rules_amie_drkg)))/len(new_rules_amie_drkg))\n",
    "print('Std:',sum(list(map(lambda x: float(x.split('\\t')[2]), new_rules_amie_drkg)))/len(new_rules_amie_drkg))"
   ]
  },
  {
   "cell_type": "code",
   "execution_count": 45,
   "id": "confident-torture",
   "metadata": {},
   "outputs": [
    {
     "name": "stdout",
     "output_type": "stream",
     "text": [
      "PCA: 0.27349933227981377\n",
      "Std: 0.14287335827581618\n"
     ]
    }
   ],
   "source": [
    "# Dropped rules\n",
    "print('PCA:',sum(list(map(lambda x: float(x.split('\\t')[3]), dropped_rules_amie_drkg)))/len(dropped_rules_amie_drkg))\n",
    "print('Std:',sum(list(map(lambda x: float(x.split('\\t')[2]), dropped_rules_amie_drkg)))/len(dropped_rules_amie_drkg))"
   ]
  },
  {
   "cell_type": "code",
   "execution_count": 46,
   "id": "small-discrimination",
   "metadata": {},
   "outputs": [
    {
     "name": "stdout",
     "output_type": "stream",
     "text": [
      "PCA: 0.3077484397920187\n",
      "Std: 0.20075152219646988\n"
     ]
    }
   ],
   "source": [
    "# Same rules\n",
    "print('PCA:',sum(list(map(lambda x: float(x.split('\\t')[3]), same_rules_amie_drkg_1)))/len(same_rules_amie_drkg_1))\n",
    "print('Std:',sum(list(map(lambda x: float(x.split('\\t')[2]), same_rules_amie_drkg_1)))/len(same_rules_amie_drkg_1))"
   ]
  },
  {
   "cell_type": "code",
   "execution_count": null,
   "id": "committed-command",
   "metadata": {},
   "outputs": [],
   "source": []
  }
 ],
 "metadata": {
  "kernelspec": {
   "display_name": "secondment",
   "language": "python",
   "name": "secondment"
  },
  "language_info": {
   "codemirror_mode": {
    "name": "ipython",
    "version": 3
   },
   "file_extension": ".py",
   "mimetype": "text/x-python",
   "name": "python",
   "nbconvert_exporter": "python",
   "pygments_lexer": "ipython3",
   "version": "3.9.7"
  }
 },
 "nbformat": 4,
 "nbformat_minor": 5
}
