{
 "cells": [
  {
   "cell_type": "markdown",
   "id": "statewide-positive",
   "metadata": {},
   "source": [
    "### AMIE rules before and after KG enrichment using RotatE"
   ]
  },
  {
   "cell_type": "code",
   "execution_count": 1,
   "id": "productive-webcam",
   "metadata": {},
   "outputs": [],
   "source": [
    "#applying AnyBURL rules on openbiolink test set took 22464199ms\n",
    "#applying RotAMIE rules on openbiolink test set took22432498ms\n",
    "#(#1167600 rule application steps in DRKG using RotAMIE)\n",
    "#AnyBURL rule application took #12400 steps on OPENBIOLINK for a total runtime of 68400 seconds. Estimated time on full dataset is 68400*(877846/12400)"
   ]
  },
  {
   "cell_type": "code",
   "execution_count": 3,
   "id": "traditional-jerusalem",
   "metadata": {},
   "outputs": [],
   "source": [
    "# Some rules may be the same but use different variables. We make sure to identify those as the same, using the same variables! \n",
    "\n",
    "def maybe_replace_variable(rule):\n",
    "    all_variables = [\"?a\", \"?b\", \"?g\", \"?h\"]\n",
    "    for var1 in all_variables[::-1]:\n",
    "        if var1 in rule:\n",
    "            for var2 in all_variables:\n",
    "                if not var2 in rule:\n",
    "                    rule = rule.replace(var1, var2)\n",
    "                    break\n",
    "                if var2 >= var1:\n",
    "                    break\n",
    "    return rule"
   ]
  },
  {
   "cell_type": "code",
   "execution_count": 4,
   "id": "stupid-values",
   "metadata": {},
   "outputs": [],
   "source": [
    "def compare_rules_amie(rules_before, rules_after):\n",
    "    with open(rules_before) as file:\n",
    "        Rules_1 = file.read().strip().split('\\n')\n",
    "    with open(rules_after) as file:\n",
    "        Rules_2 = file.read().strip().split('\\n')\n",
    "    rules_1 = list(filter(lambda x: x.startswith(\"?\"), Rules_1))\n",
    "    rules_2 = list(filter(lambda x: x.startswith(\"?\"), Rules_2))\n",
    "    rules_1 = list(map(maybe_replace_variable, rules_1))\n",
    "    rules_2 = list(map(maybe_replace_variable, rules_2))\n",
    "    Rules_1 = set(map(lambda x: x.split('\\t')[0], rules_1))\n",
    "    Rules_2 = set(map(lambda x: x.split('\\t')[0], rules_2))\n",
    "    \n",
    "    new_rules = Rules_2-Rules_1\n",
    "    dropped_rules = Rules_1-Rules_2\n",
    "    \n",
    "    same_rules = Rules_1.intersection(Rules_2)\n",
    "    \n",
    "    new_rules = sorted(filter(lambda x: x.split('\\t')[0] in new_rules, rules_2), key=lambda t: float(t.split('\\t')[3]), reverse=True)\n",
    "    dropped_rules = sorted(filter(lambda x: x.split('\\t')[0] in dropped_rules, rules_1), key=lambda t: float(t.split('\\t')[3]), reverse=True)\n",
    "    same_rules_1 = sorted(filter(lambda x: x.split('\\t')[0] in same_rules, rules_1), key=lambda t: float(t.split('\\t')[3]), reverse=True)\n",
    "    same_rules_2 = sorted(filter(lambda x: x.split('\\t')[0] in same_rules, rules_2), key=lambda t: float(t.split('\\t')[3]), reverse=True)\n",
    "    rules_1 = sorted(rules_1, key=lambda t: float(t.split('\\t')[3]), reverse=True)\n",
    "    rules_2 = sorted(rules_2, key=lambda t: float(t.split('\\t')[3]), reverse=True)\n",
    "    \n",
    "    print(f'There were {len(Rules_1)} rules before, there are {len(Rules_2)} after enrichment')\n",
    "    print()\n",
    "    print(f'There are {len(same_rules)} same rules, {len(new_rules)} new rules, {len(dropped_rules)} dropped rules')\n",
    "    \n",
    "    return same_rules_1, same_rules_2, rules_1, rules_2, new_rules, dropped_rules"
   ]
  },
  {
   "cell_type": "markdown",
   "id": "suffering-luther",
   "metadata": {},
   "source": [
    "## WN18RR"
   ]
  },
  {
   "cell_type": "code",
   "execution_count": 5,
   "id": "automotive-blond",
   "metadata": {},
   "outputs": [
    {
     "name": "stdout",
     "output_type": "stream",
     "text": [
      "There were 34 rules before, there are 28 after enrichment\n",
      "\n",
      "There are 26 same rules, 2 new rules, 8 dropped rules\n"
     ]
    }
   ],
   "source": [
    "same_rules_amie_wn18rr_1, same_rules_amie_wn18rr_2, rules_amie_before_wn18rr, rules_amie_after_wn18rr, \\\n",
    "new_rules_amie_wn18rr, dropped_rules_amie_wn18rr = compare_rules_amie('AMIE/rules_wn18rr/rules.txt', 'RotAMIE/rules_wn18rr/rules_top500.txt')"
   ]
  },
  {
   "cell_type": "code",
   "execution_count": 6,
   "id": "vietnamese-southeast",
   "metadata": {},
   "outputs": [
    {
     "data": {
      "text/plain": [
       "['?b  _verb_group  ?a   => ?a  _verb_group  ?b\\t0.931458699\\t0.931458699\\t0.980573543\\t1060\\t1138\\t1081\\t?b',\n",
       " '?b  _derivationally_related_form  ?a   => ?a  _derivationally_related_form  ?b\\t0.932222783\\t0.932222783\\t0.95163008\\t27701\\t29715\\t29109\\t?b',\n",
       " '?b  _also_see  ?a   => ?a  _also_see  ?b\\t0.637413395\\t0.637413395\\t0.883671291\\t828\\t1299\\t937\\t?b',\n",
       " '?a  _instance_hypernym  ?g  ?g  _synset_domain_topic_of  ?b   => ?a  _synset_domain_topic_of  ?b\\t0.032092426\\t0.395256917\\t0.862068966\\t100\\t253\\t116\\t?a',\n",
       " '?a  _hypernym  ?g  ?g  _synset_domain_topic_of  ?b   => ?a  _synset_domain_topic_of  ?b\\t0.178754814\\t0.285056295\\t0.809593023\\t557\\t1954\\t688\\t?a']"
      ]
     },
     "execution_count": 6,
     "metadata": {},
     "output_type": "execute_result"
    }
   ],
   "source": [
    "same_rules_amie_wn18rr_1[:5]"
   ]
  },
  {
   "cell_type": "code",
   "execution_count": 7,
   "id": "behavioral-payment",
   "metadata": {},
   "outputs": [
    {
     "data": {
      "text/plain": [
       "['?g  _synset_domain_topic_of  ?b  ?a  _verb_group  ?g   => ?a  _synset_domain_topic_of  ?b\\t0.012516046\\t0.375\\t0.75\\t39\\t104\\t52\\t?a',\n",
       " '?g  _synset_domain_topic_of  ?b  ?g  _verb_group  ?a   => ?a  _synset_domain_topic_of  ?b\\t0.012516046\\t0.386138614\\t0.75\\t39\\t101\\t52\\t?a',\n",
       " '?g  _hypernym  ?b  ?a  _member_of_domain_region  ?g   => ?a  _member_of_domain_region  ?b\\t0.01191766\\t0.021072797\\t0.733333333\\t11\\t522\\t15\\t?b',\n",
       " '?a  _has_part  ?g  ?b  _instance_hypernym  ?g   => ?a  _has_part  ?b\\t0.029900332\\t0.41025641\\t0.52173913\\t144\\t351\\t276\\t?b',\n",
       " '?a  _also_see  ?g  ?b  _also_see  ?g   => ?a  _also_see  ?b\\t0.16243264\\t0.094831461\\t0.115997801\\t211\\t2225\\t1819\\t?b']"
      ]
     },
     "execution_count": 7,
     "metadata": {},
     "output_type": "execute_result"
    }
   ],
   "source": [
    "dropped_rules_amie_wn18rr[:5]"
   ]
  },
  {
   "cell_type": "code",
   "execution_count": 8,
   "id": "impressive-yukon",
   "metadata": {},
   "outputs": [
    {
     "name": "stdout",
     "output_type": "stream",
     "text": [
      "PCA: 0.399746019875\n",
      "Std: 0.19149289562500002\n"
     ]
    }
   ],
   "source": [
    "# Dropped rules\n",
    "print('PCA:',sum(list(map(lambda x: float(x.split('\\t')[3]), dropped_rules_amie_wn18rr)))/len(dropped_rules_amie_wn18rr))\n",
    "print('Std:',sum(list(map(lambda x: float(x.split('\\t')[2]), dropped_rules_amie_wn18rr)))/len(dropped_rules_amie_wn18rr))"
   ]
  },
  {
   "cell_type": "code",
   "execution_count": 9,
   "id": "anonymous-estate",
   "metadata": {},
   "outputs": [
    {
     "data": {
      "text/plain": [
       "['?a  _hypernym  ?b  ?b  _verb_group  ?a   => ?a  _verb_group  ?b\\t0.010460251\\t0.909090909\\t1\\t10\\t11\\t10\\t?b',\n",
       " '?b  _hypernym  ?a  ?b  _verb_group  ?a   => ?a  _verb_group  ?b\\t0.010460251\\t1\\t1\\t10\\t10\\t10\\t?b']"
      ]
     },
     "execution_count": 9,
     "metadata": {},
     "output_type": "execute_result"
    }
   ],
   "source": [
    "new_rules_amie_wn18rr[:10]"
   ]
  },
  {
   "cell_type": "code",
   "execution_count": 10,
   "id": "sufficient-couple",
   "metadata": {},
   "outputs": [
    {
     "name": "stdout",
     "output_type": "stream",
     "text": [
      "PCA: 1.0\n",
      "Std: 0.9545454545000001\n"
     ]
    }
   ],
   "source": [
    "# New rules\n",
    "print('PCA:',sum(list(map(lambda x: float(x.split('\\t')[3]), new_rules_amie_wn18rr)))/len(new_rules_amie_wn18rr))\n",
    "print('Std:',sum(list(map(lambda x: float(x.split('\\t')[2]), new_rules_amie_wn18rr)))/len(new_rules_amie_wn18rr))"
   ]
  },
  {
   "cell_type": "code",
   "execution_count": 11,
   "id": "african-thunder",
   "metadata": {},
   "outputs": [
    {
     "name": "stdout",
     "output_type": "stream",
     "text": [
      "PCA: 0.5133897863076923\n",
      "Std: 0.2637725748846154\n",
      "\n",
      "PCA: 0.4715662634615383\n",
      "Std: 0.21696860796153847\n"
     ]
    }
   ],
   "source": [
    "# Same rules\n",
    "print('PCA:',sum(list(map(lambda x: float(x.split('\\t')[3]), same_rules_amie_wn18rr_1)))/len(same_rules_amie_wn18rr_1))\n",
    "print('Std:',sum(list(map(lambda x: float(x.split('\\t')[2]), same_rules_amie_wn18rr_1)))/len(same_rules_amie_wn18rr_1))\n",
    "\n",
    "print()\n",
    "print('PCA:',sum(list(map(lambda x: float(x.split('\\t')[3]), same_rules_amie_wn18rr_2)))/len(same_rules_amie_wn18rr_2))\n",
    "print('Std:',sum(list(map(lambda x: float(x.split('\\t')[2]), same_rules_amie_wn18rr_2)))/len(same_rules_amie_wn18rr_2))"
   ]
  },
  {
   "cell_type": "code",
   "execution_count": 12,
   "id": "concerned-dealer",
   "metadata": {},
   "outputs": [
    {
     "name": "stdout",
     "output_type": "stream",
     "text": [
      "PCA: 0.4866500765588235\n",
      "Std: 0.24676559152941172\n"
     ]
    }
   ],
   "source": [
    "# Before\n",
    "print('PCA:',sum(list(map(lambda x: float(x.split('\\t')[3]), rules_amie_before_wn18rr)))/len(rules_amie_before_wn18rr))\n",
    "print('Std:',sum(list(map(lambda x: float(x.split('\\t')[2]), rules_amie_before_wn18rr)))/len(rules_amie_before_wn18rr))"
   ]
  },
  {
   "cell_type": "code",
   "execution_count": 13,
   "id": "disturbed-prompt",
   "metadata": {},
   "outputs": [
    {
     "name": "stdout",
     "output_type": "stream",
     "text": [
      "PCA: 0.5093115303571426\n",
      "Std: 0.26965266842857144\n"
     ]
    }
   ],
   "source": [
    "# After enrichment\n",
    "print('PCA:',sum(list(map(lambda x: float(x.split('\\t')[3]), rules_amie_after_wn18rr)))/len(rules_amie_after_wn18rr))\n",
    "print('Std:',sum(list(map(lambda x: float(x.split('\\t')[2]), rules_amie_after_wn18rr)))/len(rules_amie_after_wn18rr))"
   ]
  },
  {
   "cell_type": "markdown",
   "id": "arabic-salvation",
   "metadata": {},
   "source": [
    "## Mutagenesis"
   ]
  },
  {
   "cell_type": "code",
   "execution_count": 14,
   "id": "african-restaurant",
   "metadata": {},
   "outputs": [
    {
     "name": "stdout",
     "output_type": "stream",
     "text": [
      "There were 9 rules before, there are 9 after enrichment\n",
      "\n",
      "There are 9 same rules, 0 new rules, 0 dropped rules\n"
     ]
    }
   ],
   "source": [
    "same_rules_amie_mut_1, same_rules_amie_mut_2, rules_amie_before_mut, rules_amie_after_mut, \\\n",
    "new_rules_amie_mut, dropped_rules_amie_mut = compare_rules_amie('AMIE/rules_mutagenesis/rules.txt', 'TransAMIE/rules_mutagenesis/rules_top500.txt')"
   ]
  },
  {
   "cell_type": "code",
   "execution_count": 15,
   "id": "fresh-integer",
   "metadata": {},
   "outputs": [
    {
     "data": {
      "text/plain": [
       "[]"
      ]
     },
     "execution_count": 15,
     "metadata": {},
     "output_type": "execute_result"
    }
   ],
   "source": [
    "new_rules_amie_mut[:10]"
   ]
  },
  {
   "cell_type": "code",
   "execution_count": 16,
   "id": "living-exclusion",
   "metadata": {},
   "outputs": [
    {
     "name": "stdout",
     "output_type": "stream",
     "text": [
      "PCA: 0.5425176136666666\n",
      "Std: 0.43713459811111105\n"
     ]
    }
   ],
   "source": [
    "# Before enrichment\n",
    "print('PCA:',sum(list(map(lambda x: float(x.split('\\t')[3]), rules_amie_before_mut)))/len(rules_amie_before_mut))\n",
    "print('Std:',sum(list(map(lambda x: float(x.split('\\t')[2]), rules_amie_before_mut)))/len(rules_amie_before_mut))"
   ]
  },
  {
   "cell_type": "code",
   "execution_count": 17,
   "id": "popular-treatment",
   "metadata": {},
   "outputs": [
    {
     "name": "stdout",
     "output_type": "stream",
     "text": [
      "PCA: 0.5262443997777777\n",
      "Std: 0.4563609814444444\n"
     ]
    }
   ],
   "source": [
    "# After enrichment\n",
    "print('PCA:',sum(list(map(lambda x: float(x.split('\\t')[3]), rules_amie_after_mut)))/len(rules_amie_after_mut))\n",
    "print('Std:',sum(list(map(lambda x: float(x.split('\\t')[2]), rules_amie_after_mut)))/len(rules_amie_after_mut))"
   ]
  },
  {
   "cell_type": "code",
   "execution_count": 17,
   "id": "coastal-criminal",
   "metadata": {},
   "outputs": [
    {
     "name": "stdout",
     "output_type": "stream",
     "text": [
      "PCA: 0.5425176136666666\n",
      "Std: 0.43713459811111105\n",
      "\n",
      "PCA: 0.5262443997777777\n",
      "Std: 0.4563609814444444\n"
     ]
    }
   ],
   "source": [
    "# Same rules\n",
    "print('PCA:',sum(list(map(lambda x: float(x.split('\\t')[3]), same_rules_amie_mut_1)))/len(same_rules_amie_mut_1))\n",
    "print('Std:',sum(list(map(lambda x: float(x.split('\\t')[2]), same_rules_amie_mut_1)))/len(same_rules_amie_mut_1))\n",
    "print()\n",
    "print('PCA:',sum(list(map(lambda x: float(x.split('\\t')[3]), same_rules_amie_mut_2)))/len(same_rules_amie_mut_2))\n",
    "print('Std:',sum(list(map(lambda x: float(x.split('\\t')[2]), same_rules_amie_mut_2)))/len(same_rules_amie_mut_2))"
   ]
  },
  {
   "cell_type": "code",
   "execution_count": 19,
   "id": "intelligent-official",
   "metadata": {},
   "outputs": [],
   "source": [
    "# New rules\n",
    "#print('PCA:',sum(list(map(lambda x: float(x.split('\\t')[3]), new_rules_amie_mut)))/len(new_rules_amie_mut))\n",
    "#print('Std:',sum(list(map(lambda x: float(x.split('\\t')[2]), new_rules_amie_mut)))/len(new_rules_amie_mut))"
   ]
  },
  {
   "cell_type": "markdown",
   "id": "steady-adjustment",
   "metadata": {},
   "source": [
    "## Carcinogenesis"
   ]
  },
  {
   "cell_type": "code",
   "execution_count": 20,
   "id": "opposite-ivory",
   "metadata": {},
   "outputs": [
    {
     "name": "stdout",
     "output_type": "stream",
     "text": [
      "There were 185 rules before, there are 171 after enrichment\n",
      "\n",
      "There are 147 same rules, 24 new rules, 38 dropped rules\n"
     ]
    }
   ],
   "source": [
    "same_rules_amie_car_1, same_rules_amie_car_2, rules_amie_before_car, rules_amie_after_car, \\\n",
    "new_rules_amie_car, dropped_rules_amie_car = compare_rules_amie('AMIE/rules_carcinogenesis/rules.txt', 'TransAMIE/rules_carcinogenesis/rules_top500.txt')"
   ]
  },
  {
   "cell_type": "code",
   "execution_count": 21,
   "id": "explicit-token",
   "metadata": {},
   "outputs": [
    {
     "data": {
      "text/plain": [
       "['?a  carcinogenesis#salmonella_reduc  ?b   => ?a  carcinogenesis#mouse_lymph  ?b\\t0.012903226\\t1\\t1\\t2\\t2\\t2\\t?a',\n",
       " '?a  carcinogenesis#chromaberr  ?b  ?a  carcinogenesis#micronuc_f  ?b   => ?a  carcinogenesis#salmonella  ?b\\t0.012658228\\t0.75\\t1\\t3\\t4\\t3\\t?a',\n",
       " '?a  carcinogenesis#chromaberr  ?b  ?a  carcinogenesis#micronuc_f  ?b   => ?a  carcinogenesis#amesTestPositive  ?b\\t0.017167382\\t1\\t1\\t4\\t4\\t4\\t?a',\n",
       " '?a  carcinogenesis#amesTestPositive  ?b  ?a  carcinogenesis#drosophila_rt  ?b   => ?a  carcinogenesis#salmonella  ?b\\t0.016877637\\t0.5\\t1\\t4\\t8\\t4\\t?a',\n",
       " '?a  carcinogenesis#amesTestPositive  ?b  ?a  carcinogenesis#mouse_lymph  ?b   => ?a  carcinogenesis#salmonella  ?b\\t0.181434599\\t0.704918033\\t0.977272727\\t43\\t61\\t44\\t?a',\n",
       " '?a  carcinogenesis#cytogen_sce  ?b  ?a  carcinogenesis#salmonella  ?b   => ?a  carcinogenesis#amesTestPositive  ?b\\t0.253218884\\t0.670454545\\t0.967213115\\t59\\t88\\t61\\t?a',\n",
       " '?a  carcinogenesis#drosophila_rt  ?b  ?a  carcinogenesis#drosophila_slrl  ?b   => ?a  carcinogenesis#cytogen_ca  ?b\\t0.013888889\\t0.75\\t0.75\\t3\\t4\\t4\\t?a',\n",
       " '?a  carcinogenesis#chromaberr  ?b  ?a  carcinogenesis#cytogen_ca  ?b   => ?a  carcinogenesis#salmonella  ?b\\t0.025316456\\t0.6\\t0.75\\t6\\t10\\t8\\t?a',\n",
       " '?a  carcinogenesis#cytogen_ca  ?b  ?a  carcinogenesis#salmonella  ?b   => ?a  carcinogenesis#cytogen_sce  ?b\\t0.256410256\\t0.454545455\\t0.746268657\\t50\\t110\\t67\\t?a',\n",
       " '?a  carcinogenesis#amesTestPositive  ?b  ?a  carcinogenesis#cytogen_ca  ?b   => ?a  carcinogenesis#cytogen_sce  ?b\\t0.205128205\\t0.454545455\\t0.740740741\\t40\\t88\\t54\\t?a']"
      ]
     },
     "execution_count": 21,
     "metadata": {},
     "output_type": "execute_result"
    }
   ],
   "source": [
    "new_rules_amie_car[:10]"
   ]
  },
  {
   "cell_type": "code",
   "execution_count": 22,
   "id": "express-interest",
   "metadata": {},
   "outputs": [
    {
     "name": "stdout",
     "output_type": "stream",
     "text": [
      "PCA: 0.7375154245621616\n",
      "Std: 0.5162657981027027\n"
     ]
    }
   ],
   "source": [
    "# Before enrichment\n",
    "print('PCA:', sum(list(map(lambda x: float(x.split('\\t')[3]), rules_amie_before_car)))/len(rules_amie_before_car))\n",
    "print('Std:', sum(list(map(lambda x: float(x.split('\\t')[2]), rules_amie_before_car)))/len(rules_amie_before_car))"
   ]
  },
  {
   "cell_type": "code",
   "execution_count": 23,
   "id": "communist-blast",
   "metadata": {},
   "outputs": [
    {
     "name": "stdout",
     "output_type": "stream",
     "text": [
      "PCA: 0.7109953531228069\n",
      "Std: 0.4856411325438596\n"
     ]
    }
   ],
   "source": [
    "# After enrichment\n",
    "print('PCA:',sum(list(map(lambda x: float(x.split('\\t')[3]), rules_amie_after_car)))/len(rules_amie_after_car))\n",
    "print('Std:',sum(list(map(lambda x: float(x.split('\\t')[2]), rules_amie_after_car)))/len(rules_amie_after_car))"
   ]
  },
  {
   "cell_type": "code",
   "execution_count": 24,
   "id": "toxic-wireless",
   "metadata": {},
   "outputs": [
    {
     "name": "stdout",
     "output_type": "stream",
     "text": [
      "PCA: 0.7122427243333332\n",
      "Std: 0.5198405719583333\n"
     ]
    }
   ],
   "source": [
    "# New rules\n",
    "print('PCA:',sum(list(map(lambda x: float(x.split('\\t')[3]), new_rules_amie_car)))/len(new_rules_amie_car))\n",
    "print('Std:',sum(list(map(lambda x: float(x.split('\\t')[2]), new_rules_amie_car)))/len(new_rules_amie_car))"
   ]
  },
  {
   "cell_type": "code",
   "execution_count": 25,
   "id": "growing-pickup",
   "metadata": {},
   "outputs": [
    {
     "name": "stdout",
     "output_type": "stream",
     "text": [
      "PCA: 0.7535989299210527\n",
      "Std: 0.5282689622105262\n"
     ]
    }
   ],
   "source": [
    "# Dropped rules\n",
    "print('PCA:',sum(list(map(lambda x: float(x.split('\\t')[3]), dropped_rules_amie_car)))/len(dropped_rules_amie_car))\n",
    "print('Std:',sum(list(map(lambda x: float(x.split('\\t')[2]), dropped_rules_amie_car)))/len(dropped_rules_amie_car))"
   ]
  },
  {
   "cell_type": "code",
   "execution_count": 26,
   "id": "flying-patrol",
   "metadata": {},
   "outputs": [
    {
     "name": "stdout",
     "output_type": "stream",
     "text": [
      "PCA: 0.7333577837210885\n",
      "Std: 0.5131629393537415\n"
     ]
    }
   ],
   "source": [
    "# Same rules\n",
    "print('PCA:',sum(list(map(lambda x: float(x.split('\\t')[3]), same_rules_amie_car_1)))/len(same_rules_amie_car_1))\n",
    "print('Std:',sum(list(map(lambda x: float(x.split('\\t')[2]), same_rules_amie_car_1)))/len(same_rules_amie_car_1))"
   ]
  },
  {
   "cell_type": "markdown",
   "id": "accessible-exercise",
   "metadata": {},
   "source": [
    "## FB15k"
   ]
  },
  {
   "cell_type": "code",
   "execution_count": 27,
   "id": "another-dragon",
   "metadata": {},
   "outputs": [
    {
     "name": "stdout",
     "output_type": "stream",
     "text": [
      "There were 7591 rules before, there are 5751 after enrichment\n",
      "\n",
      "There are 5135 same rules, 616 new rules, 2456 dropped rules\n"
     ]
    }
   ],
   "source": [
    "same_rules_amie_fb_1, same_rules_amie_fb_2, rules_amie_before_fb, rules_amie_after_fb, \\\n",
    "new_rules_amie_fb, dropped_rules_amie_fb = compare_rules_amie('AMIE/rules_fb15k/rules.txt', 'TransAMIE/rules_fb15k/rules_top500.txt')"
   ]
  },
  {
   "cell_type": "code",
   "execution_count": 28,
   "id": "amended-calculator",
   "metadata": {},
   "outputs": [
    {
     "name": "stdout",
     "output_type": "stream",
     "text": [
      "PCA: 0.5633267253446179\n",
      "Std: 0.3071214942907393\n"
     ]
    }
   ],
   "source": [
    "# Before enrichment\n",
    "print('PCA:',sum(list(map(lambda x: float(x.split('\\t')[3]), rules_amie_before_fb)))/len(rules_amie_before_fb))\n",
    "print('Std:',sum(list(map(lambda x: float(x.split('\\t')[2]), rules_amie_before_fb)))/len(rules_amie_before_fb))"
   ]
  },
  {
   "cell_type": "code",
   "execution_count": 29,
   "id": "technical-explanation",
   "metadata": {},
   "outputs": [
    {
     "name": "stdout",
     "output_type": "stream",
     "text": [
      "PCA: 0.5581248147266537\n",
      "Std: 0.2979733923030776\n"
     ]
    }
   ],
   "source": [
    "# After enrichment\n",
    "print('PCA:',sum(list(map(lambda x: float(x.split('\\t')[3]), rules_amie_after_fb)))/len(rules_amie_after_fb))\n",
    "print('Std:',sum(list(map(lambda x: float(x.split('\\t')[2]), rules_amie_after_fb)))/len(rules_amie_after_fb))"
   ]
  },
  {
   "cell_type": "code",
   "execution_count": 30,
   "id": "mighty-removal",
   "metadata": {},
   "outputs": [],
   "source": [
    "# dropped rules, no dropped rules\n",
    "#sum(list(map(lambda x: float(x.split('\\t')[3]), dropped_rules_amie_fb)))/len(dropped_rules_amie_fb)"
   ]
  },
  {
   "cell_type": "code",
   "execution_count": 31,
   "id": "ecological-ribbon",
   "metadata": {},
   "outputs": [
    {
     "name": "stdout",
     "output_type": "stream",
     "text": [
      "PCA: 0.466331240910715\n",
      "Std: 0.2712862863360386\n"
     ]
    }
   ],
   "source": [
    "# New rules\n",
    "print('PCA:',sum(list(map(lambda x: float(x.split('\\t')[3]), new_rules_amie_fb)))/len(new_rules_amie_fb))\n",
    "print('Std:',sum(list(map(lambda x: float(x.split('\\t')[2]), new_rules_amie_fb)))/len(new_rules_amie_fb))"
   ]
  },
  {
   "cell_type": "code",
   "execution_count": 32,
   "id": "genetic-booking",
   "metadata": {},
   "outputs": [
    {
     "name": "stdout",
     "output_type": "stream",
     "text": [
      "PCA: 0.5895423653273609\n",
      "Std: 0.34997305621382757\n"
     ]
    }
   ],
   "source": [
    "# Same rules\n",
    "print('PCA:',sum(list(map(lambda x: float(x.split('\\t')[3]), same_rules_amie_fb_1)))/len(same_rules_amie_fb_1))\n",
    "print('Std:',sum(list(map(lambda x: float(x.split('\\t')[2]), same_rules_amie_fb_1)))/len(same_rules_amie_fb_1))"
   ]
  },
  {
   "cell_type": "markdown",
   "id": "complimentary-plate",
   "metadata": {},
   "source": [
    "## YAGO3"
   ]
  },
  {
   "cell_type": "code",
   "execution_count": 33,
   "id": "protective-matthew",
   "metadata": {},
   "outputs": [
    {
     "name": "stdout",
     "output_type": "stream",
     "text": [
      "There were 235 rules before, there are 184 after enrichment\n",
      "\n",
      "There are 179 same rules, 5 new rules, 56 dropped rules\n"
     ]
    }
   ],
   "source": [
    "same_rules_amie_yago_1, same_rules_amie_yago_2, rules_amie_before_yago, rules_amie_after_yago, \\\n",
    "new_rules_amie_yago, dropped_rules_amie_yago = compare_rules_amie('AMIE/rules_yago3/rules.txt', 'TransAMIE/rules_yago3/rules_top500.txt')"
   ]
  },
  {
   "cell_type": "code",
   "execution_count": 34,
   "id": "descending-preparation",
   "metadata": {},
   "outputs": [
    {
     "name": "stdout",
     "output_type": "stream",
     "text": [
      "PCA: 0.3242538606127661\n",
      "Std: 0.19154214194468083\n"
     ]
    }
   ],
   "source": [
    "# Before enrichment\n",
    "print('PCA:',sum(list(map(lambda x: float(x.split('\\t')[3]), rules_amie_before_yago)))/len(rules_amie_before_yago))\n",
    "print('Std:',sum(list(map(lambda x: float(x.split('\\t')[2]), rules_amie_before_yago)))/len(rules_amie_before_yago))"
   ]
  },
  {
   "cell_type": "code",
   "execution_count": 35,
   "id": "grave-commitment",
   "metadata": {},
   "outputs": [
    {
     "name": "stdout",
     "output_type": "stream",
     "text": [
      "PCA: 0.3089386024945652\n",
      "Std: 0.15255460118478256\n"
     ]
    }
   ],
   "source": [
    "# After enrichment\n",
    "print('PCA:',sum(list(map(lambda x: float(x.split('\\t')[3]), rules_amie_after_yago)))/len(rules_amie_after_yago))\n",
    "print('Std:',sum(list(map(lambda x: float(x.split('\\t')[2]), rules_amie_after_yago)))/len(rules_amie_after_yago))"
   ]
  },
  {
   "cell_type": "code",
   "execution_count": 36,
   "id": "tracked-economy",
   "metadata": {},
   "outputs": [
    {
     "name": "stdout",
     "output_type": "stream",
     "text": [
      "PCA: 0.274665772\n",
      "Std: 0.21573530720000003\n"
     ]
    }
   ],
   "source": [
    "# New rules\n",
    "print('PCA:',sum(list(map(lambda x: float(x.split('\\t')[3]), new_rules_amie_yago)))/len(new_rules_amie_yago))\n",
    "print('Std:',sum(list(map(lambda x: float(x.split('\\t')[2]), new_rules_amie_yago)))/len(new_rules_amie_yago))"
   ]
  },
  {
   "cell_type": "code",
   "execution_count": 37,
   "id": "classified-detail",
   "metadata": {},
   "outputs": [
    {
     "name": "stdout",
     "output_type": "stream",
     "text": [
      "PCA: 0.26078532192857146\n",
      "Std: 0.15456280444642861\n"
     ]
    }
   ],
   "source": [
    "# Dropped rules\n",
    "print('PCA:',sum(list(map(lambda x: float(x.split('\\t')[3]), dropped_rules_amie_yago)))/len(dropped_rules_amie_yago))\n",
    "print('Std:',sum(list(map(lambda x: float(x.split('\\t')[2]), dropped_rules_amie_yago)))/len(dropped_rules_amie_yago))"
   ]
  },
  {
   "cell_type": "code",
   "execution_count": 38,
   "id": "rental-comedy",
   "metadata": {},
   "outputs": [
    {
     "name": "stdout",
     "output_type": "stream",
     "text": [
      "PCA: 0.34410993975418996\n",
      "Std: 0.20311109669273736\n"
     ]
    }
   ],
   "source": [
    "# Same rules\n",
    "print('PCA:',sum(list(map(lambda x: float(x.split('\\t')[3]), same_rules_amie_yago_1)))/len(same_rules_amie_yago_1))\n",
    "print('Std:',sum(list(map(lambda x: float(x.split('\\t')[2]), same_rules_amie_yago_1)))/len(same_rules_amie_yago_1))"
   ]
  },
  {
   "cell_type": "markdown",
   "id": "hollow-wheel",
   "metadata": {},
   "source": [
    "## Open Bio Link"
   ]
  },
  {
   "cell_type": "code",
   "execution_count": 39,
   "id": "promotional-timer",
   "metadata": {},
   "outputs": [
    {
     "name": "stdout",
     "output_type": "stream",
     "text": [
      "There were 713 rules before, there are 612 after enrichment\n",
      "\n",
      "There are 575 same rules, 37 new rules, 138 dropped rules\n"
     ]
    }
   ],
   "source": [
    "same_rules_amie_op_1, same_rules_amie_op_2, rules_amie_before_op, rules_amie_after_op, \\\n",
    "new_rules_amie_op, dropped_rules_amie_op = compare_rules_amie('AMIE/rules_openbiolink/rules.txt', 'TransAMIE/rules_openbiolink/rules_top500.txt')"
   ]
  },
  {
   "cell_type": "code",
   "execution_count": 40,
   "id": "figured-continuity",
   "metadata": {},
   "outputs": [
    {
     "name": "stdout",
     "output_type": "stream",
     "text": [
      "PCA: 0.31666675416129036\n",
      "Std: 0.2804260248106593\n"
     ]
    }
   ],
   "source": [
    "# Before enrichment\n",
    "print('PCA:',sum(list(map(lambda x: float(x.split('\\t')[3]), rules_amie_before_op)))/len(rules_amie_before_op))\n",
    "print('Std:',sum(list(map(lambda x: float(x.split('\\t')[2]), rules_amie_before_op)))/len(rules_amie_before_op))"
   ]
  },
  {
   "cell_type": "code",
   "execution_count": 41,
   "id": "configured-calculator",
   "metadata": {},
   "outputs": [
    {
     "name": "stdout",
     "output_type": "stream",
     "text": [
      "PCA: 0.27186394783169937\n",
      "Std: 0.23671334431535968\n"
     ]
    }
   ],
   "source": [
    "# After enrichment\n",
    "print('PCA:',sum(list(map(lambda x: float(x.split('\\t')[3]), rules_amie_after_op)))/len(rules_amie_after_op))\n",
    "print('Std:',sum(list(map(lambda x: float(x.split('\\t')[2]), rules_amie_after_op)))/len(rules_amie_after_op))"
   ]
  },
  {
   "cell_type": "code",
   "execution_count": 42,
   "id": "labeled-mainland",
   "metadata": {},
   "outputs": [
    {
     "name": "stdout",
     "output_type": "stream",
     "text": [
      "PCA: 0.2990007797028983\n",
      "Std: 0.2711057251739131\n"
     ]
    }
   ],
   "source": [
    "# Dropped rules\n",
    "print('PCA:',sum(list(map(lambda x: float(x.split('\\t')[3]), dropped_rules_amie_op)))/len(dropped_rules_amie_op))\n",
    "print('Std:',sum(list(map(lambda x: float(x.split('\\t')[2]), dropped_rules_amie_op)))/len(dropped_rules_amie_op))"
   ]
  },
  {
   "cell_type": "code",
   "execution_count": 43,
   "id": "bizarre-chart",
   "metadata": {},
   "outputs": [
    {
     "name": "stdout",
     "output_type": "stream",
     "text": [
      "PCA: 0.47948494345945947\n",
      "Std: 0.42798116121621627\n"
     ]
    }
   ],
   "source": [
    "# New rules\n",
    "print('PCA:',sum(list(map(lambda x: float(x.split('\\t')[3]), new_rules_amie_op)))/len(new_rules_amie_op))\n",
    "print('Std:',sum(list(map(lambda x: float(x.split('\\t')[2]), new_rules_amie_op)))/len(new_rules_amie_op))"
   ]
  },
  {
   "cell_type": "code",
   "execution_count": 44,
   "id": "shaped-handle",
   "metadata": {},
   "outputs": [
    {
     "name": "stdout",
     "output_type": "stream",
     "text": [
      "PCA: 0.32090658803130456\n",
      "Std: 0.2826628967234783\n"
     ]
    }
   ],
   "source": [
    "# Same rules\n",
    "print('PCA:',sum(list(map(lambda x: float(x.split('\\t')[3]), same_rules_amie_op_1)))/len(same_rules_amie_op_1))\n",
    "print('Std:',sum(list(map(lambda x: float(x.split('\\t')[2]), same_rules_amie_op_1)))/len(same_rules_amie_op_1))"
   ]
  },
  {
   "cell_type": "markdown",
   "id": "fixed-boundary",
   "metadata": {},
   "source": [
    "## DRKG"
   ]
  },
  {
   "cell_type": "code",
   "execution_count": 45,
   "id": "metropolitan-chemistry",
   "metadata": {},
   "outputs": [
    {
     "name": "stdout",
     "output_type": "stream",
     "text": [
      "There were 2804 rules before, there are 2747 after enrichment\n",
      "\n",
      "There are 1310 same rules, 1437 new rules, 1494 dropped rules\n"
     ]
    }
   ],
   "source": [
    "same_rules_amie_drkg_1, same_rules_amie_drkg_2, rules_amie_before_drkg, rules_amie_after_drkg, \\\n",
    "new_rules_amie_drkg, dropped_rules_amie_drkg = compare_rules_amie('AMIE/rules_drkg/rules.txt', 'RotAMIE/rules_drkg/rules_top500.txt')"
   ]
  },
  {
   "cell_type": "code",
   "execution_count": 46,
   "id": "celtic-trustee",
   "metadata": {},
   "outputs": [
    {
     "name": "stdout",
     "output_type": "stream",
     "text": [
      "?b  DGIDB::INHIBITOR::Gene:Compound  ?a  ?a  INTACT::ASSOCIATION::Compound:Gene  ?b   => ?a  INTACT::PHYSICAL_ASSOCIATION::Compound:Gene  ?b\t0.034722222\t0.277777778\t0.833333333\t5\t18\t6\t?b\n",
      "?a  DRUGBANK::treats::Compound:Disease  ?b  ?a  GNBR::Pa::Compound:Disease  ?b   => ?a  GNBR::Pr::Compound:Disease  ?b\t0.015404365\t0.571428571\t0.631578947\t12\t21\t19\t?a\n",
      "?a  DRUGBANK::treats::Compound:Disease  ?b  ?a  GNBR::C::Compound:Disease  ?b   => ?a  GNBR::Pr::Compound:Disease  ?b\t0.016688062\t0.590909091\t0.619047619\t13\t22\t21\t?a\n",
      "?a  DGIDB::INHIBITOR::Gene:Compound  ?b  ?b  GNBR::N::Compound:Gene  ?a   => ?a  DGIDB::OTHER::Gene:Compound  ?b\t0.010481657\t0.461538462\t0.595744681\t84\t182\t141\t?b\n",
      "?a  DGIDB::INHIBITOR::Gene:Compound  ?b  ?a  DGIDB::OTHER::Gene:Compound  ?b   => ?a  DGIDB::ALLOSTERIC_MODULATOR::Gene:Compound  ?b\t0.015873016\t0.005997001\t0.571428571\t4\t667\t7\t?b\n",
      "?g  DGIDB::INHIBITOR::Gene:Compound  ?b  ?g  INTACT::PHOSPHORYLATION_REACTION::Gene:Gene  ?a   => ?a  DGIDB::ANTIBODY::Gene:Compound  ?b\t0.026490066\t0.001565558\t0.4\t4\t2555\t10\t?b\n",
      "?g  DGIDB::INHIBITOR::Gene:Compound  ?b  ?a  INTACT::PHOSPHORYLATION_REACTION::Gene:Gene  ?g   => ?a  DGIDB::ANTIBODY::Gene:Compound  ?b\t0.026490066\t0.001383604\t0.307692308\t4\t2891\t13\t?b\n",
      "?a  DGIDB::INHIBITOR::Gene:Compound  ?b   => ?a  DGIDB::MODULATOR::Gene:Compound  ?b\t0.015957447\t0.000644192\t0.214285714\t3\t4657\t14\t?b\n",
      "?b  DGIDB::INHIBITOR::Gene:Compound  ?a  ?a  Hetionet::CbG::Compound:Gene  ?b   => ?a  INTACT::ASSOCIATION::Compound:Gene  ?b\t0.011461318\t0.031496063\t0.2\t12\t381\t60\t?b\n",
      "?g  DGIDB::INHIBITOR::Gene:Compound  ?b  ?g  INTACT::PHOSPHORYLATION_REACTION::Gene:Gene  ?a   => ?a  DGIDB::INHIBITOR::Gene:Compound  ?b\t0.06291604\t0.114677104\t0.114677104\t293\t2555\t2555\t?b\n",
      "?g  DRUGBANK::treats::Compound:Disease  ?b  ?a  Hetionet::CrC::Compound:Compound  ?g   => ?a  DRUGBANK::treats::Compound:Disease  ?b\t0.173255505\t0.067696454\t0.106908972\t653\t9646\t6108\t?a\n",
      "?g  DGIDB::INHIBITOR::Gene:Compound  ?b  ?a  INTACT::PHOSPHORYLATION_REACTION::Gene:Gene  ?g   => ?a  DGIDB::INHIBITOR::Gene:Compound  ?b\t0.06291604\t0.101349014\t0.101349014\t293\t2891\t2891\t?b\n"
     ]
    }
   ],
   "source": [
    "for rule in new_rules_amie_drkg:\n",
    "    if \"treats\" in rule or \"INHIBITOR\" in rule:\n",
    "        print (rule)"
   ]
  },
  {
   "cell_type": "code",
   "execution_count": 47,
   "id": "precious-positive",
   "metadata": {},
   "outputs": [
    {
     "name": "stdout",
     "output_type": "stream",
     "text": [
      "PCA: 0.2894146629104849\n",
      "Std: 0.16976895299358047\n"
     ]
    }
   ],
   "source": [
    "# Before enrichment\n",
    "print('PCA:',sum(list(map(lambda x: float(x.split('\\t')[3]), rules_amie_before_drkg)))/len(rules_amie_before_drkg))\n",
    "print('Std:',sum(list(map(lambda x: float(x.split('\\t')[2]), rules_amie_before_drkg)))/len(rules_amie_before_drkg))"
   ]
  },
  {
   "cell_type": "code",
   "execution_count": 48,
   "id": "distinguished-subcommittee",
   "metadata": {},
   "outputs": [
    {
     "name": "stdout",
     "output_type": "stream",
     "text": [
      "PCA: 0.2813953425303963\n",
      "Std: 0.1666508628045142\n"
     ]
    }
   ],
   "source": [
    "# After enrichment\n",
    "print('PCA:',sum(list(map(lambda x: float(x.split('\\t')[3]), rules_amie_after_drkg)))/len(rules_amie_after_drkg))\n",
    "print('Std:',sum(list(map(lambda x: float(x.split('\\t')[2]), rules_amie_after_drkg)))/len(rules_amie_after_drkg))"
   ]
  },
  {
   "cell_type": "code",
   "execution_count": 49,
   "id": "directed-testimony",
   "metadata": {},
   "outputs": [
    {
     "name": "stdout",
     "output_type": "stream",
     "text": [
      "PCA: 0.2607996997369521\n",
      "Std: 0.13668737307446072\n"
     ]
    }
   ],
   "source": [
    "# New rules\n",
    "print('PCA:',sum(list(map(lambda x: float(x.split('\\t')[3]), new_rules_amie_drkg)))/len(new_rules_amie_drkg))\n",
    "print('Std:',sum(list(map(lambda x: float(x.split('\\t')[2]), new_rules_amie_drkg)))/len(new_rules_amie_drkg))"
   ]
  },
  {
   "cell_type": "code",
   "execution_count": 50,
   "id": "german-venue",
   "metadata": {},
   "outputs": [
    {
     "name": "stdout",
     "output_type": "stream",
     "text": [
      "PCA: 0.2738431037469882\n",
      "Std: 0.14314852207028117\n"
     ]
    }
   ],
   "source": [
    "# Dropped rules\n",
    "print('PCA:',sum(list(map(lambda x: float(x.split('\\t')[3]), dropped_rules_amie_drkg)))/len(dropped_rules_amie_drkg))\n",
    "print('Std:',sum(list(map(lambda x: float(x.split('\\t')[2]), dropped_rules_amie_drkg)))/len(dropped_rules_amie_drkg))"
   ]
  },
  {
   "cell_type": "code",
   "execution_count": 51,
   "id": "limiting-mathematics",
   "metadata": {},
   "outputs": [
    {
     "name": "stdout",
     "output_type": "stream",
     "text": [
      "PCA: 0.3071733723687026\n",
      "Std: 0.20012843680992382\n"
     ]
    }
   ],
   "source": [
    "# Same rules\n",
    "print('PCA:',sum(list(map(lambda x: float(x.split('\\t')[3]), same_rules_amie_drkg_1)))/len(same_rules_amie_drkg_1))\n",
    "print('Std:',sum(list(map(lambda x: float(x.split('\\t')[2]), same_rules_amie_drkg_1)))/len(same_rules_amie_drkg_1))"
   ]
  },
  {
   "cell_type": "code",
   "execution_count": 2,
   "id": "important-purse",
   "metadata": {},
   "outputs": [],
   "source": [
    "#dropped_rules_amie_drkg"
   ]
  },
  {
   "cell_type": "code",
   "execution_count": null,
   "id": "surprised-inspection",
   "metadata": {},
   "outputs": [],
   "source": []
  },
  {
   "cell_type": "code",
   "execution_count": null,
   "id": "heavy-polls",
   "metadata": {},
   "outputs": [],
   "source": []
  }
 ],
 "metadata": {
  "kernelspec": {
   "display_name": "cl",
   "language": "python",
   "name": "cl"
  },
  "language_info": {
   "codemirror_mode": {
    "name": "ipython",
    "version": 3
   },
   "file_extension": ".py",
   "mimetype": "text/x-python",
   "name": "python",
   "nbconvert_exporter": "python",
   "pygments_lexer": "ipython3",
   "version": "3.9.4"
  }
 },
 "nbformat": 4,
 "nbformat_minor": 5
}
